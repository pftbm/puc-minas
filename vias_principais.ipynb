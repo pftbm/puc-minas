{
 "cells": [
  {
   "cell_type": "code",
   "execution_count": null,
   "id": "9b17f827",
   "metadata": {},
   "outputs": [],
   "source": [
    "import pandas as pd\n",
    "import unidecode\n",
    "import re"
   ]
  },
  {
   "cell_type": "code",
   "execution_count": null,
   "id": "72936c36",
   "metadata": {},
   "outputs": [],
   "source": [
    "data_aptos = pd.read_excel('data_aptos_final.xlsx')"
   ]
  },
  {
   "cell_type": "code",
   "execution_count": null,
   "id": "bf2307f6",
   "metadata": {},
   "outputs": [],
   "source": [
    "def get_rua(text):\n",
    "    text = str(text)\n",
    "    rua = text.split(sep = ',')[0].strip().upper()\n",
    "    rua = unidecode.unidecode(rua)\n",
    "    rua = re.sub(\"[0-9]\", \"\", rua)\n",
    "    rua = re.sub('\\s+',' ', rua)\n",
    "    return rua\n",
    "\n",
    "def remover_caracteres_especiais_e_acentuacao(texto):\n",
    "    texto = str(texto)\n",
    "    texto = unidecode.unidecode(texto)\n",
    "    texto = texto.upper()\n",
    "    texto = texto.replace('Ç', 'C')\n",
    "    texto = re.sub('[^A-Za-z0-9,]+', ' ', texto).strip()\n",
    "    texto = re.sub('\\s+',' ', texto)\n",
    "    if (texto == '') or (texto == 'NAN') or (texto == 'EDF'):\n",
    "        texto = 'NAO_INFORMADO'\n",
    "    return texto"
   ]
  },
  {
   "cell_type": "code",
   "execution_count": null,
   "id": "9cbec066",
   "metadata": {},
   "outputs": [],
   "source": [
    "vias = 'Avenida Boa Viagem, Avenida Visconde de Jequitinhonha, Rua Visconde de Jequitinhonha, Avenida Domingos Ferreira, Rua Ernesto de Paula Santos, Rua Ribeiro de Brito, Rua Barão de Souza Leão, Rua 20 de janeiro, Rua 10 de julho, Rua vinte de janeiro, Avenida vinte de janeiro, Rua dez de julho, Rua Bruno Veloso, Avenida Conselheiro Aguiar, Avenida General Mac Arthur, Rua Padre Carapuceiro, Avenida Fernando Simões Barbosa, Avenida Professor João Medeiros, Rua General Edson Amâncio Ramalho, Rua Antônio Falcão, Avenida Armindo Moura'\n",
    "vias = vias.upper()\n",
    "vias = remover_caracteres_especiais_e_acentuacao(vias)\n",
    "vias = [via.strip() for via in vias.split(',')]\n",
    "vias"
   ]
  },
  {
   "cell_type": "code",
   "execution_count": null,
   "id": "b4f7162d",
   "metadata": {},
   "outputs": [],
   "source": [
    "avenida_boa_viagem_list = []\n",
    "vias_principais_list = []\n",
    "\n",
    "for index, row in data_aptos.iterrows():\n",
    "    \n",
    "    rua = str(row['Rua_Numero_Busca'])\n",
    "    rua = get_rua(rua).strip()\n",
    "    \n",
    "    if rua == 'AVENIDA BOA VIAGEM':\n",
    "        avenida_boa_viagem_list.append(1)\n",
    "    else:\n",
    "        avenida_boa_viagem_list.append(0)\n",
    "    \n",
    "    if rua in vias:\n",
    "        vias_principais_list.append(1)\n",
    "    else:\n",
    "        vias_principais_list.append(0)\n",
    "\n",
    "        \n",
    "data_aptos['avenida_boa_viagem'] = avenida_boa_viagem_list\n",
    "data_aptos['vias_principais'] = vias_principais_list"
   ]
  },
  {
   "cell_type": "code",
   "execution_count": null,
   "id": "a23ceab9",
   "metadata": {},
   "outputs": [],
   "source": [
    "with pd.ExcelWriter(\"data_aptos_final.xlsx\") as writer:\n",
    "    data_aptos.to_excel(writer)"
   ]
  }
 ],
 "metadata": {
  "kernelspec": {
   "display_name": "venv_puc_minas",
   "language": "python",
   "name": "venv_puc_minas"
  },
  "language_info": {
   "codemirror_mode": {
    "name": "ipython",
    "version": 3
   },
   "file_extension": ".py",
   "mimetype": "text/x-python",
   "name": "python",
   "nbconvert_exporter": "python",
   "pygments_lexer": "ipython3",
   "version": "3.9.7"
  }
 },
 "nbformat": 4,
 "nbformat_minor": 5
}
