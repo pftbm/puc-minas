{
 "cells": [
  {
   "cell_type": "code",
   "execution_count": null,
   "id": "74eea76f",
   "metadata": {},
   "outputs": [],
   "source": [
    "import pandas as pd\n",
    "import unidecode\n",
    "import re\n",
    "import numpy as np\n",
    "from itertools import product\n",
    "\n",
    "from nltk.tokenize import word_tokenize\n",
    "import time\n",
    "\n",
    "pd.options.display.float_format = '{:.2f}'.format"
   ]
  },
  {
   "cell_type": "markdown",
   "id": "70f083cc",
   "metadata": {},
   "source": [
    "ALGUMAS FUNÇÕES AUXILIARES DE PRÉ-PROCESSAMENTO"
   ]
  },
  {
   "cell_type": "code",
   "execution_count": null,
   "id": "d407fbf0",
   "metadata": {},
   "outputs": [],
   "source": [
    "def get_numero(text):\n",
    "    text = str(text)\n",
    "    text = text.upper()\n",
    "    i = text.find('BOA VIAGEM')\n",
    "    if i != -1:\n",
    "        text = text[:i]\n",
    "    \n",
    "    non_numbers = re.compile('[^0-9]')\n",
    "    number = re.sub(non_numbers, '', text)\n",
    "        \n",
    "    return number\n",
    "\n",
    "def replace_R_by_RUA(rua):\n",
    "    rua = str(rua)\n",
    "    rua = rua.upper().strip()\n",
    "    if rua.find('R ') == 0:\n",
    "        rua = rua.replace('R ', 'RUA ')\n",
    "    \n",
    "    return rua\n",
    "    \n",
    "\n",
    "def get_rua(text):\n",
    "    text = str(text)\n",
    "    rua = text.split(sep = ',')[0].strip().upper()\n",
    "    rua = unidecode.unidecode(rua)\n",
    "    rua = re.sub(\"[0-9]\", \"\", rua)\n",
    "    rua = re.sub('\\s+',' ', rua)\n",
    "    return rua\n",
    "\n",
    "def remover_caracteres_especiais_e_acentuacao(texto):\n",
    "    texto = str(texto)\n",
    "    texto = unidecode.unidecode(texto)\n",
    "    texto = texto.upper()\n",
    "    texto = texto.replace('Ç', 'C')\n",
    "    texto = re.sub('[^A-Za-z0-9]+', ' ', texto).strip()\n",
    "    texto = re.sub('\\s+',' ', texto)\n",
    "    if (texto == '') or (texto == 'NAN') or (texto == 'EDF'):\n",
    "        texto = 'NAO_INFORMADO'\n",
    "    return texto"
   ]
  },
  {
   "cell_type": "markdown",
   "id": "f0192c4c",
   "metadata": {},
   "source": [
    "Tratamento de termos homófonos"
   ]
  },
  {
   "cell_type": "code",
   "execution_count": null,
   "id": "7837364e",
   "metadata": {},
   "outputs": [],
   "source": [
    "def get_par(nome, homofonos_pares):\n",
    "    result = []\n",
    "    for par in homofonos_pares:\n",
    "        if nome in par:\n",
    "            result = par\n",
    "            break\n",
    "    \n",
    "    return result\n",
    "\n",
    "\n",
    "def get_homofonos(rua):\n",
    "    \n",
    "    rua = str(rua)\n",
    "    \n",
    "    homofonos_pares = [['LUIS', 'LUIZ'], ['ARTHUR', 'ARTUR'], ['MELO', 'MELLO'], ['SOUZA', 'SOUSA'],\n",
    "                       ['TERESA', 'TEREZA'], ['CRISTINA', 'CHRISTINA'], ['MORAIS', 'MORAES'], \n",
    "                       ['CORREIA', 'CORREA'], ['FARIA', 'FARIAS'], ['BARBOSA', 'BARBOZA']]\n",
    "    homofonos = []\n",
    "\n",
    "    ruas_possiveis = []\n",
    "\n",
    "\n",
    "    for par in homofonos_pares:\n",
    "        homofonos.extend(par)\n",
    "\n",
    "\n",
    "    rua_tokens =  word_tokenize(rua)\n",
    "\n",
    "    i = 0\n",
    "    for termo in rua_tokens:\n",
    "        if termo in homofonos:\n",
    "            par = get_par(termo, homofonos_pares)\n",
    "            rua_tokens[i] = par\n",
    "        else:\n",
    "            rua_tokens[i] = [termo]\n",
    "        i = i + 1\n",
    "\n",
    "    result = list(product(*rua_tokens))\n",
    "    for item in result:\n",
    "        x = ' '.join([x for x in item])\n",
    "        ruas_possiveis.append(x)\n",
    "\n",
    "    return ruas_possiveis"
   ]
  },
  {
   "cell_type": "markdown",
   "id": "d47ec143",
   "metadata": {},
   "source": [
    "## Leitura de dados"
   ]
  },
  {
   "cell_type": "markdown",
   "id": "7d9b0aab",
   "metadata": {},
   "source": [
    "DADOS ESIG RECIFE"
   ]
  },
  {
   "cell_type": "code",
   "execution_count": 29,
   "id": "b7c137e1",
   "metadata": {},
   "outputs": [],
   "source": [
    "data_set_esig = pd.read_excel('esig_data_base.xlsx')\n"
   ]
  },
  {
   "cell_type": "code",
   "execution_count": 30,
   "id": "e561a106",
   "metadata": {},
   "outputs": [],
   "source": [
    "data_set_esig['Endereco'] = data_set_esig['Endereco'].str.upper()\n",
    "data_set_esig['Rua'] = data_set_esig['Rua'].str.upper()\n",
    "data_set_esig['Rua'] = data_set_esig['Rua'].apply(remover_caracteres_especiais_e_acentuacao)\n",
    "data_set_esig['Numero'] = [num.replace('.0', '') for num in data_set_esig['Numero'].apply(str)]\n"
   ]
  },
  {
   "cell_type": "code",
   "execution_count": null,
   "id": "b400b9e8",
   "metadata": {},
   "outputs": [],
   "source": [
    "data_set_esig.describe()"
   ]
  },
  {
   "cell_type": "code",
   "execution_count": null,
   "id": "d0cec5b2",
   "metadata": {},
   "outputs": [],
   "source": [
    "data_set_esig.info()"
   ]
  },
  {
   "cell_type": "markdown",
   "id": "6aa4508b",
   "metadata": {},
   "source": [
    "DADOS APARTAMENTOS - VENDA"
   ]
  },
  {
   "cell_type": "code",
   "execution_count": 31,
   "id": "839acda2",
   "metadata": {},
   "outputs": [],
   "source": [
    "data_aptos = pd.read_excel('aptos_2022_maior.xlsx')\n",
    "\n",
    "data_aptos.drop(columns=['sala_comercial', 'área total'], inplace=True)"
   ]
  },
  {
   "cell_type": "code",
   "execution_count": 32,
   "id": "4a93ebaf",
   "metadata": {},
   "outputs": [],
   "source": [
    "data_aptos_2019 = pd.read_excel('aptos_2019.xlsx')"
   ]
  },
  {
   "cell_type": "markdown",
   "id": "07c90f91",
   "metadata": {},
   "source": [
    "## Pré-processamento dados apartamentos"
   ]
  },
  {
   "cell_type": "markdown",
   "id": "43427fc0",
   "metadata": {},
   "source": [
    "Inserção do ano de coleta da informação como atributo dos datasets."
   ]
  },
  {
   "cell_type": "code",
   "execution_count": 33,
   "id": "7ec11bd6",
   "metadata": {},
   "outputs": [],
   "source": [
    "data_aptos['ano_oferta'] = 2022\n",
    "data_aptos_2019['ano_oferta'] = 2019"
   ]
  },
  {
   "cell_type": "markdown",
   "id": "88afbdbd",
   "metadata": {},
   "source": [
    "Concatenação dos dados de 2019 ao dataset de 2022."
   ]
  },
  {
   "cell_type": "code",
   "execution_count": 34,
   "id": "6c5104eb",
   "metadata": {},
   "outputs": [],
   "source": [
    "data_aptos = pd.concat([data_aptos, data_aptos_2019], ignore_index=True)"
   ]
  },
  {
   "cell_type": "markdown",
   "id": "36a3662d",
   "metadata": {},
   "source": [
    "Manipulação de strings para padronização de campos textuais úteis."
   ]
  },
  {
   "cell_type": "code",
   "execution_count": 35,
   "id": "7b491aef",
   "metadata": {},
   "outputs": [],
   "source": [
    "data_aptos['endereco'] = data_aptos.endereco.str.upper()\n",
    "data_aptos['anunciante'] = data_aptos['anunciante'].str.upper()\n",
    "data_aptos['anunciante'] = data_aptos['anunciante'].apply(remover_caracteres_especiais_e_acentuacao)"
   ]
  },
  {
   "cell_type": "markdown",
   "id": "06586edb",
   "metadata": {},
   "source": [
    "Inserção de id como atributo."
   ]
  },
  {
   "cell_type": "code",
   "execution_count": 36,
   "id": "66d6dcb7",
   "metadata": {},
   "outputs": [],
   "source": [
    "id = [i for i in range(1, len(data_aptos) + 1)]\n",
    "data_aptos['id'] = id"
   ]
  },
  {
   "cell_type": "markdown",
   "id": "b8d17ac0",
   "metadata": {},
   "source": [
    "Extraindo o número do prédio, como atributo, a partir do endereço."
   ]
  },
  {
   "cell_type": "code",
   "execution_count": 37,
   "id": "fb1f68ce",
   "metadata": {},
   "outputs": [],
   "source": [
    "data_aptos['Numero'] = data_aptos.endereco.apply(get_numero)"
   ]
  },
  {
   "cell_type": "code",
   "execution_count": null,
   "id": "11703e21",
   "metadata": {},
   "outputs": [],
   "source": [
    "data_aptos.columns"
   ]
  },
  {
   "cell_type": "code",
   "execution_count": null,
   "id": "5f18a086",
   "metadata": {},
   "outputs": [],
   "source": [
    "data_aptos.describe()"
   ]
  },
  {
   "cell_type": "markdown",
   "id": "6038ae8d",
   "metadata": {},
   "source": [
    "Padronização de termos e abreviações comuns em endereços."
   ]
  },
  {
   "cell_type": "code",
   "execution_count": 38,
   "id": "da29dd3e",
   "metadata": {},
   "outputs": [],
   "source": [
    "data_aptos['endereco'] = data_aptos.endereco.str.replace('ENDEREÇO:', '', regex = False)\n",
    "data_aptos['endereco'] = data_aptos.endereco.str.replace('DR.', 'DOUTOR', regex = False)\n",
    "data_aptos['endereco'] = data_aptos.endereco.str.replace('R.', 'RUA', regex = False)\n",
    "data_aptos['endereco'] = data_aptos.endereco.str.replace('AV.', 'AVENIDA', regex = False)\n",
    "data_aptos['endereco'] = data_aptos.endereco.str.replace('AV ', 'AVENIDA ', regex = False)\n",
    "data_aptos['endereco'] = data_aptos.endereco.str.replace('DR ', 'DOUTOR ', regex = False)\n",
    "data_aptos['endereco'] = data_aptos.endereco.str.replace('PROF.', 'PROFESSOR', regex = False)\n",
    "data_aptos['endereco'] = data_aptos.endereco.str.replace('VISC.', 'VISCONDE', regex = False)\n",
    "data_aptos['endereco'] = data_aptos.endereco.str.replace('AVENIDA VISCONDE DE JEQUITINHONHA', \n",
    "                                                         'RUA VISCONDE DE JEQUITINHONHA', \n",
    "                                                         regex = False)\n",
    "\n",
    "data_aptos['endereco'] = data_aptos.endereco.apply(replace_R_by_RUA)\n",
    "\n",
    "data_set_esig['Endereco'] = data_set_esig['Endereco'].str.replace('DR ', 'DOUTOR ', regex = False)\n",
    "data_set_esig['Rua'] = data_set_esig['Rua'].str.replace('DR ', 'DOUTOR ', regex = False)"
   ]
  },
  {
   "cell_type": "markdown",
   "id": "ad1888bc",
   "metadata": {},
   "source": [
    "Concatenar 'Rua' e 'Numero' para criar a chave de busca 'Rua_Numero'."
   ]
  },
  {
   "cell_type": "code",
   "execution_count": 39,
   "id": "5de4c34d",
   "metadata": {},
   "outputs": [],
   "source": [
    "data_aptos['Rua'] = data_aptos.endereco.apply(get_rua)\n",
    "data_aptos['Rua_Numero'] = data_aptos[['Rua', 'Numero']].agg(' '.join, axis=1).str.strip()\n",
    "\n",
    "data_set_esig['Rua_Numero'] = data_set_esig[['Rua', 'Numero']].agg(' '.join, axis=1).str.strip()"
   ]
  },
  {
   "cell_type": "markdown",
   "id": "9da95112",
   "metadata": {},
   "source": [
    "Remover dados sem área útil informada"
   ]
  },
  {
   "cell_type": "code",
   "execution_count": 40,
   "id": "5c70811b",
   "metadata": {},
   "outputs": [
    {
     "name": "stdout",
     "output_type": "stream",
     "text": [
      "Antes:  4488\n",
      "Depois:  4377\n",
      "Removidos:  111\n"
     ]
    }
   ],
   "source": [
    "len_antes = len(data_aptos)\n",
    "data_aptos = data_aptos[data_aptos['área útil'].notnull()].copy()\n",
    "len_depois = len(data_aptos)\n",
    "print('Antes: ', len_antes)\n",
    "print('Depois: ', len_depois)\n",
    "print('Removidos: ', len_antes - len_depois)"
   ]
  },
  {
   "cell_type": "markdown",
   "id": "abeb0842",
   "metadata": {},
   "source": [
    "## Base Esig Recife"
   ]
  },
  {
   "cell_type": "code",
   "execution_count": 41,
   "id": "3256afe4",
   "metadata": {},
   "outputs": [
    {
     "data": {
      "text/plain": [
       "4544"
      ]
     },
     "execution_count": 41,
     "metadata": {},
     "output_type": "execute_result"
    }
   ],
   "source": [
    "data_esig_boa_viagem = data_set_esig[data_set_esig['Bairro'] == 'Boa Viagem'].copy()\n",
    "len(data_esig_boa_viagem)"
   ]
  },
  {
   "cell_type": "markdown",
   "id": "c3b15d2f",
   "metadata": {
    "scrolled": true
   },
   "source": [
    "Filtrando as tipologias residenciais 'Condomínio Misto', \n",
    "'Condomínio Residencial', 'Edifício Misto', 'Edifício Residencial'"
   ]
  },
  {
   "cell_type": "code",
   "execution_count": 42,
   "id": "f7cfe487",
   "metadata": {},
   "outputs": [
    {
     "name": "stdout",
     "output_type": "stream",
     "text": [
      "Size ESIG final: 2007\n"
     ]
    }
   ],
   "source": [
    "data_esig_boa_viagem_residencial = data_esig_boa_viagem[(data_esig_boa_viagem.Tipologia == 'Condomínio Misto') |\n",
    "                                                       (data_esig_boa_viagem.Tipologia == 'Condomínio Residencial') |\n",
    "                                                       (data_esig_boa_viagem.Tipologia == 'Edifício Misto') |\n",
    "                                                       (data_esig_boa_viagem.Tipologia == 'Edifício Residencial')].copy()\n",
    "print(\"Size ESIG final:\", len(data_esig_boa_viagem_residencial))"
   ]
  },
  {
   "cell_type": "markdown",
   "id": "ce1fbb0a",
   "metadata": {},
   "source": [
    "Criando novo atributo com o nome da edificação e definindo-o como índice de busca (chave de acesso)."
   ]
  },
  {
   "cell_type": "code",
   "execution_count": 43,
   "id": "03c8463b",
   "metadata": {},
   "outputs": [],
   "source": [
    "data_esig_boa_viagem_residencial['Nome Processado'] = data_esig_boa_viagem_residencial['Nome Edificacao'].apply(remover_caracteres_especiais_e_acentuacao)\n",
    "data_esig_boa_viagem_residencial = data_esig_boa_viagem_residencial.set_index('Nome Processado', drop = False)\n",
    "data_esig_boa_viagem_residencial_index_rua_num = data_esig_boa_viagem_residencial.set_index('Rua_Numero', drop = False)\n"
   ]
  },
  {
   "cell_type": "markdown",
   "id": "b8f56215",
   "metadata": {},
   "source": [
    "## Preparação para busca dos nomes de edifícios"
   ]
  },
  {
   "cell_type": "markdown",
   "id": "de70f09d",
   "metadata": {},
   "source": [
    "Nos trechos seguintes, é feita a busca pela idade da edificação a partir do nome ou do do endereço (atributo \"Rua_Numero\")."
   ]
  },
  {
   "cell_type": "code",
   "execution_count": null,
   "id": "158260c0",
   "metadata": {},
   "outputs": [],
   "source": [
    "data_aptos.columns"
   ]
  },
  {
   "cell_type": "code",
   "execution_count": 44,
   "id": "79179ae9",
   "metadata": {},
   "outputs": [],
   "source": [
    "data_aptos = data_aptos.reset_index()  # reset nos índices originais"
   ]
  },
  {
   "cell_type": "code",
   "execution_count": 45,
   "id": "2046a032",
   "metadata": {},
   "outputs": [],
   "source": [
    "def preparar_texto_apto(texto):\n",
    "    \n",
    "    texto = str(texto).upper()\n",
    "    texto = texto.replace('Ç', 'C')\n",
    "    texto = texto.replace('ED.', 'EDF')\n",
    "    texto = re.sub('[.]+', '', texto)\n",
    "    texto = unidecode.unidecode(texto)\n",
    "    texto = re.sub('EDIFICIO |EDIF |EDF ', 'EDF ', texto)    \n",
    "    texto = re.sub('GUARITA', '', texto)\n",
    "    \n",
    "    return texto"
   ]
  },
  {
   "cell_type": "code",
   "execution_count": null,
   "id": "6c6151da",
   "metadata": {},
   "outputs": [],
   "source": [
    "data_esig_boa_viagem_residencial_index_rua_num.columns"
   ]
  },
  {
   "cell_type": "code",
   "execution_count": 46,
   "id": "e1c627b8",
   "metadata": {},
   "outputs": [
    {
     "name": "stdout",
     "output_type": "stream",
     "text": [
      "RUA LUIS DE FARIA BARBOSA 306    RUA LUIZ DE FARIA BARBOSA 306    2017\n",
      "RUA AMALIA BERNARDINO DE SOUSA 670    RUA AMALIA BERNARDINO DE SOUZA 670    2013\n",
      "RUA LUIS DE FARIAS BARBOSA 306    RUA LUIZ DE FARIA BARBOSA 306    2017\n",
      "RUA LUIS DE FARIAS BARBOSA 36    RUA LUIZ DE FARIA BARBOSA 36    2017\n",
      "RUA LUIS DE FARIAS BARBOSA 36    RUA LUIZ DE FARIA BARBOSA 36    2017\n",
      "RUA LUIS DE FARIAS BARBOSA 36    RUA LUIZ DE FARIA BARBOSA 36    2017\n",
      "RUA AMALIA BERNARDINO DE SOUSA 532    RUA AMALIA BERNARDINO DE SOUZA 532    2017\n",
      "RUA AMALIA BERNARDINO DE SOUSA 532    RUA AMALIA BERNARDINO DE SOUZA 532    2017\n",
      "RUA LUIS DE FARIAS BARBOSA 306    RUA LUIZ DE FARIA BARBOSA 306    2017\n",
      "RUA AMALIA BERNARDINO DE SOUSA 670    RUA AMALIA BERNARDINO DE SOUZA 670    2013\n",
      "RUA DOUTOR PEDRO DE MELO CAHU 78    RUA DOUTOR PEDRO DE MELLO CAHU 78    2015\n",
      "RUA DOUTOR PEDRO DE MELO CAHU 201    RUA DOUTOR PEDRO DE MELLO CAHU 201    2016\n",
      "RUA AMALIA BERNARDINO DE SOUSA 670    RUA AMALIA BERNARDINO DE SOUZA 670    2013\n",
      "RUA MAJOR ARMANDO DE SOUZA MELO 601    RUA MAJOR ARMANDO DE SOUZA MELLO 601    2015\n",
      "RUA MAJOR ARMANDO DE SOUZA MELO 601    RUA MAJOR ARMANDO DE SOUZA MELLO 601    2015\n",
      "RUA AMALIA BERNARDINO DE SOUSA 532    RUA AMALIA BERNARDINO DE SOUZA 532    2017\n",
      "RUA AMALIA BERNARDINO DE SOUSA 532    RUA AMALIA BERNARDINO DE SOUZA 532    2017\n",
      "RUA AMALIA BERNARDINO DE SOUSA 670    RUA AMALIA BERNARDINO DE SOUZA 670    2013\n",
      "RUA DOUTOR PEDRO DE MELO CAHU 78    RUA DOUTOR PEDRO DE MELLO CAHU 78    2015\n",
      "RUA MAJOR ARMANDO DE SOUZA MELO 601    RUA MAJOR ARMANDO DE SOUZA MELLO 601    2015\n",
      "problema series rua_num\n",
      "RUA AMALIA BERNARDINO DE SOUSA 532    RUA AMALIA BERNARDINO DE SOUZA 532    2017\n",
      "RUA AMALIA BERNARDINO DE SOUSA 532    RUA AMALIA BERNARDINO DE SOUZA 532    2017\n",
      "RUA AMALIA BERNARDINO DE SOUSA 532    RUA AMALIA BERNARDINO DE SOUZA 532    2017\n",
      "RUA AMALIA BERNARDINO DE SOUSA 670    RUA AMALIA BERNARDINO DE SOUZA 670    2013\n",
      "RUA MAJOR ARMANDO DE SOUZA MELO 303    RUA MAJOR ARMANDO DE SOUZA MELLO 303    1995\n",
      "RUA LUIS DE FARIAS BARBOSA 36    RUA LUIZ DE FARIA BARBOSA 36    2017\n",
      "RUA AMALIA BERNARDINO DE SOUSA 670    RUA AMALIA BERNARDINO DE SOUZA 670    2013\n",
      "RUA LUIS DE FARIAS BARBOSA 306    RUA LUIZ DE FARIA BARBOSA 306    2017\n",
      "RUA AMALIA BERNARDINO DE SOUSA 532    RUA AMALIA BERNARDINO DE SOUZA 532    2017\n",
      "RUA LUIS DE FARIAS BARBOSA 306    RUA LUIZ DE FARIA BARBOSA 306    2017\n",
      "RUA LUIS DE FARIAS BARBOSA 306    RUA LUIZ DE FARIA BARBOSA 306    2017\n",
      "RUA LUIS DE FARIAS BARBOSA 36    RUA LUIZ DE FARIA BARBOSA 36    2017\n",
      "RUA LUIS DE FARIAS BARBOSA 36    RUA LUIZ DE FARIA BARBOSA 36    2017\n",
      "RUA AMALIA BERNARDINO DE SOUSA 532    RUA AMALIA BERNARDINO DE SOUZA 532    2017\n",
      "RUA AMALIA BERNARDINO DE SOUSA 210    RUA AMALIA BERNARDINO DE SOUZA 210    2013\n",
      "RUA LUIS DE FARIAS BARBOSA 36    RUA LUIZ DE FARIA BARBOSA 36    2017\n",
      "RUA LUIS DE FARIAS BARBOSA 36    RUA LUIZ DE FARIA BARBOSA 36    2017\n",
      "1556\n"
     ]
    }
   ],
   "source": [
    "cont = 0\n",
    "result_titulo = []\n",
    "result_descricao = []\n",
    "result_ano = []\n",
    "result_rua_num = []\n",
    "\n",
    "result_nome_edificio = []\n",
    "\n",
    "nomes = data_esig_boa_viagem_residencial['Nome Processado']\n",
    "\n",
    "rua_num_esig_bv = data_esig_boa_viagem_residencial_index_rua_num['Rua_Numero'].tolist()\n",
    "\n",
    "bloco_n = re.compile('BLOCO [A-Z]|BLOCO')\n",
    "\n",
    "for index, row in data_aptos.iterrows():\n",
    "    result_T = []\n",
    "    result_D = []\n",
    "    titulo = preparar_texto_apto(row['titulo'])\n",
    "    descricao = preparar_texto_apto(row['descricao'])\n",
    "    ano_encontrado = False\n",
    "    rua_num_encontrado = False\n",
    "        \n",
    "    rua_num = row['Rua_Numero'].strip()\n",
    "    \n",
    "    rua_num = remover_caracteres_especiais_e_acentuacao(rua_num)\n",
    "    \n",
    "    #inserção nova-------------------------\n",
    "    rua = row['Rua'].strip()\n",
    "    if (rua == '') or (rua == 'NAN'):\n",
    "        rua = 'NAO_INFORMADO'\n",
    "    #inserção nova-------------------------\n",
    "    \n",
    "    #inserção nova-------------------------\n",
    "    ano_construcao = -1\n",
    "    #inserção nova-------------------------\n",
    "    \n",
    "    #inserção nova-------------------------\n",
    "    #só usar o 'get_homofonos' se precisar - verificar antes\n",
    "    rua_num_list = get_homofonos(rua_num)\n",
    "    #print(rua_num_list)\n",
    "    \n",
    "    for rua_num_item_list in rua_num_list:\n",
    "           \n",
    "        if rua_num_item_list in rua_num_esig_bv: \n",
    "            \n",
    "            #print(\"aqui\")\n",
    "\n",
    "            ano_construcao = data_esig_boa_viagem_residencial_index_rua_num.loc[rua_num_item_list]['Ano Construcao']            \n",
    "            \n",
    "            if len(rua_num_list) > 1 and rua_num != rua_num_item_list:\n",
    "                print(rua_num, '  ', rua_num_item_list, '  ', ano_construcao)\n",
    "                \n",
    "            \n",
    "            rua_num = rua_num_item_list\n",
    "            \n",
    "            #inserção nova-------------------------\n",
    "            if type(ano_construcao) is pd.core.series.Series:\n",
    "                ano_construcao = ano_construcao[0]\n",
    "                print('problema series rua_num')\n",
    "            #inserção nova-------------------------\n",
    "\n",
    "            result_ano.append(ano_construcao)\n",
    "            \n",
    "            ano_encontrado = True\n",
    "            cont = cont + 1\n",
    "            break\n",
    "        \n",
    "    if (rua_num != rua) and (rua_num != 'NAO_INFORMADO') and (rua != 'NAO_INFORMADO'):        \n",
    "        #inserção nova ---------------------------------------------------------------\n",
    "        result_rua_num.append(rua_num)\n",
    "        rua_num_encontrado = True\n",
    "        \n",
    "\n",
    "        #inserção nova ---------------------------------------------------------------\n",
    "    \n",
    "\n",
    "                        \n",
    "    for nome in nomes:        \n",
    "\n",
    "        bloco = re.sub(bloco_n, 'OK', nome) == 'OK'\n",
    "        \n",
    "        if nome in titulo and nome not in result_T and not bloco:\n",
    "            result_T.append(nome)\n",
    "           \n",
    "        if nome in descricao and nome not in result_D and not bloco:\n",
    "            result_D.append(nome)\n",
    "            \n",
    "    if len(result_T) > 0:\n",
    "        i_max = np.argmax([len(x.split()) for x in result_T])\n",
    "        \n",
    "        nome_titulo = result_T[i_max]\n",
    "        result_titulo.append(nome_titulo)\n",
    "        \n",
    "            \n",
    "        #result_nome_edificio.append(nome_titulo)        \n",
    "        ano_construcao = data_esig_boa_viagem_residencial.loc[nome_titulo]['Ano Construcao']\n",
    "\n",
    "        if type(ano_construcao) is not int:\n",
    "            ano_construcao = ano_construcao.tolist()\n",
    "\n",
    "        if not ano_encontrado:                \n",
    "            result_ano.append(ano_construcao)\n",
    "            \n",
    "            #inserção nova ---------------------------------------------------------------\n",
    "            if not rua_num_encontrado:\n",
    "                rua_num = data_esig_boa_viagem_residencial.loc[result_T[i_max]]['Rua_Numero']\n",
    "                if type(rua_num) is not str:\n",
    "                    rua_num = rua_num.tolist()            \n",
    "                result_rua_num.append(rua_num)\n",
    "                rua_num_encontrado = True\n",
    "            #inserção nova ---------------------------------------------------------------\n",
    "            \n",
    "            ano_encontrado = True\n",
    "            cont = cont + 1\n",
    "\n",
    "    else:\n",
    "        nome_titulo = 'NOT_FOUND'\n",
    "        result_titulo.append(nome_titulo)\n",
    "\n",
    "    if len(result_D) > 0:\n",
    "        i_max = np.argmax([len(x.split()) for x in result_D])\n",
    "        nome_descricao = result_D[i_max]\n",
    "        result_descricao.append(nome_descricao)\n",
    "        \n",
    "\n",
    "        if not ano_encontrado:\n",
    "            ano_construcao = data_esig_boa_viagem_residencial.loc[nome_descricao]['Ano Construcao']\n",
    "\n",
    "            if type(ano_construcao) is not int:\n",
    "                ano_construcao = ano_construcao.tolist()\n",
    "\n",
    "            result_ano.append(ano_construcao) \n",
    "            \n",
    "            #inserção nova ---------------------------------------------------------------\n",
    "            if not rua_num_encontrado:\n",
    "                rua_num = data_esig_boa_viagem_residencial.loc[nome_descricao]['Rua_Numero']\n",
    "                if type(rua_num) is not str:\n",
    "                    rua_num = rua_num.tolist()            \n",
    "                result_rua_num.append(rua_num)\n",
    "                rua_num_encontrado = True\n",
    "            #inserção nova ---------------------------------------------------------------\n",
    " \n",
    "            \n",
    "            ano_encontrado = True\n",
    "\n",
    "            cont = cont + 1\n",
    "\n",
    "    else:\n",
    "        nome_descricao = 'NOT_FOUND'\n",
    "        result_descricao.append(nome_descricao)\n",
    "    #    result_nome_edificio.append('NOT_FOUND')\n",
    "\n",
    "    if not ano_encontrado:\n",
    "        result_ano.append('NOT_FOUND') \n",
    "    \n",
    "    if not rua_num_encontrado:\n",
    "        #inserção nova ---------------------------------------------------------------\n",
    "        result_rua_num.append('NOT_FOUND')\n",
    "        #inserção nova ---------------------------------------------------------------\n",
    "        \n",
    "    \n",
    "    if nome_titulo != 'NOT_FOUND':\n",
    "        result_nome_edificio.append(nome_titulo)\n",
    "        \n",
    "    elif nome_descricao != 'NOT_FOUND':\n",
    "        result_nome_edificio.append(nome_descricao)\n",
    "        \n",
    "    else:\n",
    "        result_nome_edificio.append('NOT_FOUND')\n",
    "        \n",
    "\n",
    "print(cont)\n",
    "\n",
    "df_teste_nomes = pd.DataFrame({'rua numero': result_rua_num,'nomes titulo': result_titulo, 'nomes descricao': result_descricao, \n",
    "                               'nome edificio': result_nome_edificio, 'ano': result_ano})\n",
    "\n",
    "data_aptos['ano busca'] = result_ano\n",
    "\n",
    "data_aptos['Rua_Numero_Busca'] = result_rua_num\n",
    "\n",
    "data_aptos['nome edificio'] = result_nome_edificio\n"
   ]
  },
  {
   "cell_type": "code",
   "execution_count": 47,
   "id": "2d2aa650",
   "metadata": {},
   "outputs": [
    {
     "name": "stdout",
     "output_type": "stream",
     "text": [
      "4377\n",
      "1556\n"
     ]
    }
   ],
   "source": [
    "print(len(data_aptos))\n",
    "print(len(data_aptos['ano busca'][data_aptos['ano busca'] != 'NOT_FOUND']))"
   ]
  },
  {
   "cell_type": "code",
   "execution_count": 48,
   "id": "929ceb47",
   "metadata": {},
   "outputs": [
    {
     "data": {
      "text/plain": [
       "4377"
      ]
     },
     "execution_count": 48,
     "metadata": {},
     "output_type": "execute_result"
    }
   ],
   "source": [
    "len(data_aptos[data_aptos.ano_oferta == 2022])\n",
    "data_aptos.columns\n",
    "len(df_teste_nomes)"
   ]
  },
  {
   "cell_type": "markdown",
   "id": "9f24f21d",
   "metadata": {},
   "source": [
    "##### APLICAÇÃO DE FILTROS E REMOÇÃO DE DADOS DUPLICADOS"
   ]
  },
  {
   "cell_type": "markdown",
   "id": "9c854150",
   "metadata": {},
   "source": [
    "**Filtro para remoção de registros de apartametos para venda que não atendem a um dos seguintes critérios:**\n",
    "- Registros com ano de construção preenchidos com base no cruzamento com os dados do ESIG Recife e que não apresentaram resultados dúbios na busca (ex.: mais de um edifício com o mesmo nome) ou;\n",
    "- Registros sem ano de construção preenchidos com base no cruzamento com os dados do ESIG Recife mas que possuem idade informada pelo anunciante e endereço especificado no campo 'Rua_Numero_Busca'."
   ]
  },
  {
   "cell_type": "code",
   "execution_count": 49,
   "id": "181b9a5b",
   "metadata": {},
   "outputs": [
    {
     "name": "stdout",
     "output_type": "stream",
     "text": [
      "4377\n",
      "1717\n"
     ]
    }
   ],
   "source": [
    "print(len(data_aptos))\n",
    "\n",
    "data_aptos = data_aptos[(data_aptos['ano busca'] != 'NOT_FOUND') & \n",
    "           ([type(ano) is not list for ano in data_aptos['ano busca']]) |\n",
    "           ((data_aptos['ano busca'] == 'NOT_FOUND') &\n",
    "            (data_aptos['idade do imóvel'].notnull()) &\n",
    "            (data_aptos['Rua_Numero_Busca'] != 'NOT_FOUND')\n",
    "           )].copy()\n",
    "\n",
    "print(len(data_aptos))"
   ]
  },
  {
   "cell_type": "code",
   "execution_count": null,
   "id": "f1ead9ab",
   "metadata": {},
   "outputs": [],
   "source": []
  },
  {
   "cell_type": "markdown",
   "id": "546ad288",
   "metadata": {},
   "source": [
    "**REMOÇÃO DOS DUPLICADOS**"
   ]
  },
  {
   "cell_type": "code",
   "execution_count": 50,
   "id": "197fcb18",
   "metadata": {
    "scrolled": false
   },
   "outputs": [
    {
     "name": "stdout",
     "output_type": "stream",
     "text": [
      "Qtde. de registros antes da remoção:  1717\n",
      "Qtde. de registros após a remoção:  1403\n"
     ]
    }
   ],
   "source": [
    "print(\"Qtde. de registros antes da remoção: \", len(data_aptos))\n",
    "data_aptos = data_aptos.drop_duplicates(subset = ['Rua_Numero_Busca', \n",
    "                                                  'área útil', 'preco', 'ano_oferta'])\n",
    "print(\"Qtde. de registros após a remoção: \", len(data_aptos))"
   ]
  },
  {
   "cell_type": "code",
   "execution_count": 51,
   "id": "b25fe7f1",
   "metadata": {},
   "outputs": [
    {
     "name": "stdout",
     "output_type": "stream",
     "text": [
      "1403\n",
      "1393\n"
     ]
    }
   ],
   "source": [
    "data_aptos = data_aptos[['index', 'id', 'ano_oferta', 'data', 'publicado_ha',\n",
    "                         'endereco', 'Rua', 'Numero', 'Rua_Numero',\n",
    "                         'Rua_Numero_Busca', 'nome edificio','área útil', 'ano busca', \n",
    "                         'idade do imóvel','quartos', 'banheiros', 'vagas', 'suítes', \n",
    "                         'condominio', 'brinquedoteca', 'campo','churrasqueira', \n",
    "                         'espaço gourmet', 'sala de ginástica', 'frente mar',\n",
    "                         'central de gás', 'gás encanado', 'mobiliado', 'nascente', 'piscina',\n",
    "                         'playground', 'salão de festas', 'salão de jogos', 'sauna',\n",
    "                         'varanda gourmet', 'andares', 'anunciante', 'preco', 'url']].copy()\n",
    "\n",
    "print(len(data_aptos))\n",
    "\n",
    "data_aptos['PU'] = data_aptos['preco']/data_aptos['área útil']\n",
    "\n",
    "#removendo áreas menores do que 10 m² \n",
    "data_aptos = data_aptos[data_aptos['área útil'] > 10].copy()\n",
    "\n",
    "# verificando quais dados serão corrigidos - preços unitários acima de R$ 30 mil/m²\n",
    "corte = 30000 \n",
    "PU = (data_aptos['preco']/data_aptos['área útil'])\n",
    "is_anomalo = np.array([pu > corte for pu in PU])\n",
    "\n",
    "#corrigindo o erro no preço do imóvel (remoção de 3 casas decimais - erros de entrada de dados):\n",
    "data_aptos.loc[is_anomalo, 'preco'] = data_aptos[is_anomalo][['preco']]/1000\n",
    "\n",
    "print(len(data_aptos))"
   ]
  },
  {
   "cell_type": "markdown",
   "id": "1c6ac21d",
   "metadata": {},
   "source": [
    "CORRIGINDO ALGUNS ANOS DE CONSTRUÇÃO"
   ]
  },
  {
   "cell_type": "code",
   "execution_count": 52,
   "id": "603f10f6",
   "metadata": {},
   "outputs": [
    {
     "name": "stdout",
     "output_type": "stream",
     "text": [
      "RUA DOUTOR PEDRO DE MELO CAHU 22\n",
      "RUA DOUTOR PEDRO DE MELLO CAHU 22\n"
     ]
    }
   ],
   "source": [
    "rua_num = 'RUA DOUTOR PEDRO DE MELLO CAHU 22'\n",
    "rua_num_list = get_homofonos(rua_num)\n",
    "for rn in rua_num_list:\n",
    "    data_aptos.loc[data_aptos['Rua_Numero_Busca'] == rn, 'ano busca'] = 2021\n",
    "    print(rn)"
   ]
  },
  {
   "cell_type": "code",
   "execution_count": 53,
   "id": "e80742f6",
   "metadata": {},
   "outputs": [],
   "source": [
    "data_aptos = pd.read_excel('data_aptos_final.xlsx')\n",
    "data_aptos.loc[data_aptos['Rua_Numero_Busca'] == 'RUA DOS NAVEGANTES 215', 'ano busca'] = 1975"
   ]
  },
  {
   "cell_type": "markdown",
   "id": "dcf5c0a0",
   "metadata": {},
   "source": [
    "INSERÇÃO DO ANO - FINAL"
   ]
  },
  {
   "cell_type": "code",
   "execution_count": 54,
   "id": "89551596",
   "metadata": {},
   "outputs": [],
   "source": [
    "data_aptos['ano_final'] = data_aptos['ano busca']\n",
    "data_aptos.loc[data_aptos['ano busca'] == 'NOT_FOUND', ['ano_final']] = data_aptos['ano_oferta'].astype('int64') - data_aptos['idade do imóvel'].astype('float64')\n",
    "data_aptos['ano_final'] = [int(ano) for ano in data_aptos['ano_final']]"
   ]
  },
  {
   "cell_type": "markdown",
   "id": "cb28724c",
   "metadata": {},
   "source": [
    "SALVANDO O DATAFRAME FINAL"
   ]
  },
  {
   "cell_type": "code",
   "execution_count": null,
   "id": "58f2c820",
   "metadata": {},
   "outputs": [],
   "source": [
    "with pd.ExcelWriter(\"data_aptos_final.xlsx\") as writer:\n",
    "    data_aptos.to_excel(writer)  "
   ]
  },
  {
   "cell_type": "code",
   "execution_count": 55,
   "id": "ec1475c6",
   "metadata": {},
   "outputs": [
    {
     "name": "stdout",
     "output_type": "stream",
     "text": [
      "281\n",
      "1112\n"
     ]
    }
   ],
   "source": [
    "print(len(data_aptos[data_aptos['ano_oferta'] == 2019]))\n",
    "print(len(data_aptos[data_aptos['ano_oferta'] == 2022]))\n"
   ]
  },
  {
   "cell_type": "code",
   "execution_count": 56,
   "id": "e3731407",
   "metadata": {},
   "outputs": [
    {
     "data": {
      "text/plain": [
       "0"
      ]
     },
     "execution_count": 56,
     "metadata": {},
     "output_type": "execute_result"
    }
   ],
   "source": [
    "#len(df_teste_nomes[(df_teste_nomes['nome edificio'] == 'NOT_FOUND') & (df_teste_nomes['ano'] != 'NOT_FOUND')])\n",
    "#len(df_teste_nomes[(df_teste_nomes['ano'] != 'NOT_FOUND')])\n",
    "\n",
    "#registros com ano 'dúbio' - list:\n",
    "len( data_aptos[  [type(ano) is list for ano in data_aptos['ano busca']] ]['ano busca']) "
   ]
  },
  {
   "cell_type": "code",
   "execution_count": 57,
   "id": "853ac381",
   "metadata": {},
   "outputs": [
    {
     "name": "stdout",
     "output_type": "stream",
     "text": [
      "RUA PINHAL 26 - ano: 1988\n",
      "RUA FAUSTINO PORTO 289 - ano: 1997\n",
      "RUA PROFESSOR JULIO FERREIRA DE MELO 915 - ano: 2010\n",
      "RUA DESEMBARGADOR JOAO PAES 815 - ano: 2014\n",
      "RUA TENENTE JOAO CICERO 498 - ano: 2003\n",
      "RUA TENENTE JOAO CICERO 712 - ano: 2005\n",
      "RUA DOUTOR GASPAR REGUEIRA COSTA 36 - ano: 1989\n",
      "RUA SANSAO RIBEIRO 99 - ano: 2010\n",
      "RUA WILFRID RUSSEL SHORTO 81 - ano: 1988\n",
      "RUA DOS NAVEGANTES 611 - ano: 1984\n",
      "RUA SANSAO RIBEIRO 120 - ano: 2001\n",
      "RUA DOS NAVEGANTES 2455 - ano: 1969\n",
      "RUA JACK AYRES 62 - ano: 2007\n",
      "RUA DOM JOSE LOPES 75 - ano: 1999\n",
      "RUA FRANCISCO DA CUNHA 206 - ano: 2008\n",
      "RUA PROFESSOR JOSE BRANDAO 58 - ano: 2011\n",
      "RUA DOS NAVEGANTES 2019 - ano: 2009\n",
      "RUA JOSE ADERVAL CHAVES 108 - ano: 1996\n",
      "RUA DESEMBARGADOR JOAO PAES 815 - ano: 2014\n",
      "RUA ERNESTO DE PAULA SANTOS 1355 - ano: 2005\n",
      "RUA ANTONIO FALCAO 655 - ano: 1995\n",
      "RUA FRANCISCO DA CUNHA 1406 - ano: 2013\n",
      "AVENIDA HELIO FALCAO 686 - ano: 1985\n",
      "AVENIDA CONSELHEIRO AGUIAR 4368 - ano: 1970\n",
      "RUA ANTONIO FALCAO 979 - ano: 2018\n",
      "AVENIDA HELIO FALCAO 495 - ano: 1991\n",
      "AVENIDA CONSELHEIRO AGUIAR 1527 - ano: 2012\n",
      "AVENIDA FERNANDO SIMOES BARBOSA 110 - ano: 1990\n",
      "RUA ARTUR MUNIZ 147 - ano: 2006\n",
      "RUA AVIADOR SEVERIANO LINS 479 - ano: 1998\n",
      "RUA SERINHAEM 149 - ano: 2008\n",
      "RUA DOUTOR LUIZ INACIO PESSOA DE MELO 276 - ano: 1991\n",
      "AVENIDA ENGENHEIRO DOMINGOS FERREIRA 2245 - ano: 1980\n",
      "RUA CORONEL BENEDITO CHAVES 399 - ano: 1985\n",
      "RUA PROFESSOR AUGUSTO LINS E SILVA 668 - ano: 1997\n",
      "RUA AMAZONAS 282 - ano: 2016\n",
      "RUA DHALIA 289 - ano: 1985\n",
      "RUA FRANCISCO DA CUNHA 1910 - ano: 1991\n",
      "RUA VIRIATO CORREIA 71 - ano: 2012\n",
      "RUA DOUTOR PEDRO DE MELLO CAHU 78 - ano: 2015\n",
      "RUA FRANCISCO DE BARROS BARRETO 193 - ano: 1995\n",
      "RUA DOS NAVEGANTES 2575 - ano: 1965\n",
      "RUA DOS NAVEGANTES 2853 - ano: 2017\n",
      "RUA SA E SOUZA 263 - ano: 2012\n",
      "RUA VISCONDE DE JEQUITINHONHA 1228 - ano: 2015\n",
      "RUA AVIADOR SEVERIANO LINS 140 - ano: 2017\n",
      "RUA MAMANGUAPE 59 - ano: 2007\n",
      "RUA AMALIA BERNARDINO DE SOUZA 533 - ano: 2007\n",
      "RUA FRANCISCO DA CUNHA 636 - ano: 1980\n",
      "RUA DOS NAVEGANTES 611 - ano: 1984\n",
      "RUA DOS NAVEGANTES 1541 - ano: 1986\n",
      "RUA SETUBAL 1245 - ano: 2005\n",
      "AVENIDA CONSELHEIRO AGUIAR 4010 - ano: 2014\n",
      "RUA MARIA CAROLINA 661 - ano: 2014\n",
      "RUA MARQUES DE VALENCA 387 - ano: 1998\n",
      "RUA BARAO DE SOUZA LEAO 221 - ano: 1979\n",
      "RUA BRUNO VELOSO 490 - ano: 1991\n",
      "RUA VIRIATO CORREIA 142 - ano: 2017\n",
      "RUA CORONEL ANIZIO RODRIGUES COELHO 255 - ano: 2018\n",
      "RUA SETUBAL 336 - ano: 1989\n",
      "AVENIDA HELIO FALCAO 323 - ano: 2003\n",
      "RUA AVIADOR SEVERIANO LINS 344 - ano: 1987\n",
      "RUA DOS NAVEGANTES 1706 - ano: 1998\n",
      "RUA MARIA CAROLINA 316 - ano: 1998\n",
      "RUA CAMBOIM 571 - ano: 1984\n",
      "RUA FRANCISCO DA CUNHA 129 - ano: 2002\n",
      "RUA VISCONDE DE JEQUITINHONHA 2544 - ano: 2002\n",
      "RUA PROFESSOR AUGUSTO LINS E SILVA 345 - ano: 2010\n",
      "RUA VISCONDE DE JEQUITINHONHA 1370 - ano: 1996\n",
      "RUA DHALIA 74 - ano: 2000\n",
      "RUA SA E SOUZA 964 - ano: 1980\n",
      "RUA CAMBOIM 450 - ano: 1981\n",
      "RUA JORGE COUCEIRO DA COSTA EIRAS 650 - ano: 2000\n",
      "RUA LIBIA CASTRO ASSIS 52 - ano: 2007\n",
      "RUA CARLOS PEREIRA FALCAO 1136 - ano: 1990\n",
      "RUA ARISTIDES MUNIZ 89 - ano: 2003\n",
      "RUA VISCONDE DE JEQUITINHONHA 1228 - ano: 2015\n",
      "RUA PEDRO PAES MENDONCA 200 - ano: 2016\n",
      "RUA JOSE ADERVAL CHAVES 264 - ano: 2004\n",
      "RUA BRUNO VELOSO 200 - ano: 1986\n",
      "RUA MARIA CAROLINA 661 - ano: 2014\n",
      "RUA SETUBAL 1347 - ano: 2005\n",
      "RUA MAMANGUAPE 59 - ano: 2007\n",
      "RUA DOM JOSE LOPES 75 - ano: 1999\n",
      "RUA PEDRO AMERICO GALVAO 109 - ano: 2008\n",
      "RUA FRANCISCO DA CUNHA 654 - ano: 1988\n",
      "RUA DHALIA 304 - ano: 1988\n",
      "RUA LUIZ PIMENTEL 77 - ano: 2003\n",
      "RUA SANSAO RIBEIRO 99 - ano: 2010\n",
      "RUA VISCONDE DE JEQUITINHONHA 868 - ano: 1973\n",
      "RUA VISCONDE DE JEQUITINHONHA 868 - ano: 1973\n",
      "RUA DOS NAVEGANTES 1541 - ano: 1986\n",
      "RUA MARIA CAROLINA 661 - ano: 2014\n",
      "RUA MINISTRO NELSON HUNGRIA 724 - ano: 1993\n",
      "RUA JOSE TRAJANO 373 - ano: 2007\n",
      "RUA PROFESSOR VALDEMAR DE OLIVEIRA 74 - ano: 1991\n",
      "RUA BARAO DE SOUZA LEAO 221 - ano: 1979\n",
      "RUA PADRE CARAPUCEIRO 825 - ano: 2011\n",
      "RUA PADRE CARAPUCEIRO 815 - ano: 2011\n",
      "RUA BARAO DE SOUZA LEAO 75 - ano: 1982\n",
      "RUA ANTONIO LUMACK DO MONTE 203 - ano: 1994\n",
      "RUA JORGE COUCEIRO DA COSTA EIRAS 685 - ano: 2016\n",
      "RUA AMARO ALBINO PIMENTEL 290 - ano: 2013\n",
      "RUA PROFESSOR JOSE BRANDAO 377 - ano: 2011\n",
      "RUA DOS NAVEGANTES 447 - ano: 1974\n",
      "RUA SETUBAL 1030 - ano: 1985\n",
      "RUA AMAZONAS 282 - ano: 2016\n",
      "RUA BRUNO VELOSO 451 - ano: 1988\n",
      "RUA JOSE PARAISO 103 - ano: 2000\n",
      "RUA DOUTOR LUIZ INACIO PESSOA DE MELO 145 - ano: 1994\n",
      "RUA VIRIATO CORREIA 71 - ano: 2012\n",
      "AVENIDA ENGENHEIRO DOMINGOS FERREIRA 3420 - ano: 1990\n",
      "RUA DOS NAVEGANTES 611 - ano: 1984\n",
      "RUA AGENOR LOPES 63 - ano: 1999\n",
      "RUA OLAVO BILAC 72 - ano: 2012\n",
      "RUA SA E SOUZA 350 - ano: 1995\n",
      "RUA SETUBAL 777 - ano: 2003\n",
      "RUA MAMANGUAPE 518 - ano: 1999\n",
      "RUA VISCONDE DE JEQUITINHONHA 2954 - ano: 1987\n",
      "RUA JOAO ARRUDA MARINHO 54 - ano: 2018\n",
      "RUA PROFESSOR AUGUSTO LINS E SILVA 356 - ano: 2002\n",
      "RUA BRUNO VELOSO 200 - ano: 1986\n",
      "RUA SERINHAEM 149 - ano: 2008\n",
      "RUA OLAVO BILAC 72 - ano: 2012\n",
      "RUA JOAO DIAS MARTINS 157 - ano: 1990\n",
      "RUA VISCONDE DE JEQUITINHONHA 1228 - ano: 2015\n",
      "RUA JOAO ARRUDA MARINHO 54 - ano: 2018\n",
      "RUA DOS NAVEGANTES 611 - ano: 1984\n",
      "RUA CORONEL BENEDITO CHAVES 399 - ano: 1985\n",
      "RUA BALTAZAR PEREIRA 70 - ano: 2002\n",
      "RUA PEDRO PAES MENDONCA 200 - ano: 2016\n",
      "RUA SETUBAL 1400 - ano: 1977\n",
      "RUA VISCONDE DE JEQUITINHONHA 1228 - ano: 2015\n",
      "RUA SETUBAL 930 - ano: 2012\n",
      "RUA PROFESSOR JULIO FERREIRA DE MELO 970 - ano: 1979\n",
      "AVENIDA CONSELHEIRO AGUIAR 4577 - ano: 1972\n",
      "RUA JOSE ADERVAL CHAVES 264 - ano: 2004\n",
      "RUA PROFESSOR EDUARDO WANDERLEY FILHO 242 - ano: 2005\n",
      "RUA DONA UZINHA NUNES 47 - ano: 1983\n",
      "RUA DESEMBARGADOR JOAO PAES 999 - ano: 1993\n",
      "RUA CARLOS PEREIRA FALCAO 500 - ano: 1994\n",
      "RUA PADRE CARAPUCEIRO 498 - ano: 1989\n",
      "RUA DOUTOR ZAMENHOF 55 - ano: 1976\n",
      "RUA ANTONIO FALCAO 254 - ano: 1975\n",
      "RUA JOAO DIAS MARTINS 88 - ano: 2014\n",
      "RUA VIRIATO CORREIA 142 - ano: 2017\n",
      "RUA DONA MAGINA PONTUAL 147 - ano: 1983\n",
      "RUA MARIA CAROLINA 316 - ano: 1998\n",
      "RUA SERINHAEM 44 - ano: 2016\n",
      "RUA SETUBAL 930 - ano: 2012\n",
      "RUA IZABEL MAGALHAES 93 - ano: 2013\n",
      "RUA PEDRO PAES MENDONCA 120 - ano: 2016\n",
      "RUA AMARO ALBINO PIMENTEL 101 - ano: 2017\n",
      "AVENIDA CONSELHEIRO AGUIAR 3600 - ano: 1973\n",
      "RUA DHALIA 304 - ano: 1988\n",
      "AVENIDA CONSELHEIRO AGUIAR 4010 - ano: 2014\n",
      "RUA DESEMBARGADOR JOAO PAES 1000 - ano: 1982\n",
      "RUA BRUNO VELOSO 403 - ano: 1985\n",
      "RUA SETUBAL 1360 - ano: 1987\n",
      "RUA FAUSTINO PORTO 289 - ano: 1997\n",
      "RUA JOAO CARDOSO AIRES 327 - ano: 2010\n",
      "RUA SETUBAL 1360 - ano: 1987\n",
      "RUA FRANCA PEREIRA 115 - ano: 2005\n",
      "RUA CARLOS PEREIRA FALCAO 1145 - ano: 2001\n",
      "RUA FRANCISCO DA CUNHA 1910 - ano: 1991\n",
      "RUA BRUNO VELOSO 284 - ano: 2009\n",
      "RUA JOAO DIAS MARTINS 256 - ano: 1989\n",
      "RUA MARIA CAROLINA 553 - ano: 2007\n",
      "RUA PINHAL 26 - ano: 1988\n",
      "RUA ANTONIO FALCAO 979 - ano: 2018\n",
      "RUA MARIA CAROLINA 299 - ano: 1982\n",
      "AVENIDA FERNANDO SIMOES BARBOSA 896 - ano: 1994\n",
      "RUA MAMANGUAPE 518 - ano: 1999\n",
      "AVENIDA ENGENHEIRO DOMINGOS FERREIRA 5027 - ano: 1978\n",
      "RUA BALTAZAR PASSOS 260 - ano: 2003\n",
      "RUA PROFESSOR AUGUSTO LINS E SILVA 488 - ano: 1992\n",
      "RUA BRUNO VELOSO 284 - ano: 2009\n",
      "RUA AMARO ALBINO PIMENTEL 101 - ano: 2017\n",
      "RUA SETUBAL 1548 - ano: 1977\n",
      "RUA PADRE CARAPUCEIRO 835 - ano: 2011\n",
      "RUA FRANCISCO DA CUNHA 1910 - ano: 1991\n",
      "RUA ERNESTO DE PAULA SANTOS 636 - ano: 1980\n",
      "RUA ANTONIO DE SA LEITAO 26 - ano: 2013\n",
      "AVENIDA CONSELHEIRO AGUIAR 4552 - ano: 1969\n",
      "RUA VISCONDE DE JEQUITINHONHA 1890 - ano: 1989\n",
      "RUA DOUTOR LUIZ INACIO PESSOA DE MELO 145 - ano: 1994\n",
      "RUA PROFESSOR AUGUSTO LINS E SILVA 1060 - ano: 1999\n",
      "RUA CONEGO ROMEU 161 - ano: 1999\n",
      "RUA JOAO DIAS MARTINS 51 - ano: 1984\n",
      "RUA DOS NAVEGANTES 741 - ano: 1980\n",
      "AVENIDA CONSELHEIRO AGUIAR 1527 - ano: 2012\n",
      "RUA DOS NAVEGANTES 2475 - ano: 2007\n",
      "RUA FRANCISCO DA CUNHA 1340 - ano: 2003\n",
      "RUA AMAZONAS 282 - ano: 2016\n",
      "RUA PROFESSOR AUGUSTO LINS E SILVA 824 - ano: 2003\n",
      "RUA CRUZEIRO DO FORTE 152 - ano: 2014\n",
      "RUA BALTAZAR PEREIRA 70 - ano: 2002\n",
      "RUA JORGE COUCEIRO DA COSTA EIRAS 685 - ano: 2016\n",
      "AVENIDA CONSELHEIRO AGUIAR 2525 - ano: 1975\n",
      "RUA CORONEL ANIZIO RODRIGUES COELHO 508 - ano: 2004\n",
      "RUA JOSE MOREIRA LEAL 89 - ano: 2000\n",
      "RUA CORONEL ANIZIO RODRIGUES COELHO 527 - ano: 1997\n",
      "RUA SETUBAL 777 - ano: 2003\n",
      "RUA DONA BENVINDA DE FARIAS 446 - ano: 1999\n",
      "RUA PADRE CARAPUCEIRO 258 - ano: 2011\n",
      "RUA PADRE CARAPUCEIRO 259 - ano: 1966\n",
      "RUA DOS NAVEGANTES 1706 - ano: 1998\n",
      "RUA BALTAZAR PEREIRA 114 - ano: 2008\n",
      "RUA PEDRO AMERICO GALVAO 109 - ano: 2008\n",
      "RUA DONA UZINHA NUNES 47 - ano: 1983\n",
      "RUA SETUBAL 746 - ano: 2001\n",
      "RUA ERNESTO DE PAULA SANTOS 1355 - ano: 2005\n",
      "RUA BARONESA DE PALMARES 200 - ano: 1981\n",
      "RUA DOS NAVEGANTES 1706 - ano: 1998\n",
      "RUA DOS NAVEGANTES 2417 - ano: 2000\n",
      "AVENIDA ENGENHEIRO DOMINGOS FERREIRA 4650 - ano: 1981\n",
      "RUA DOM JOSE LOPES 416 - ano: 2001\n",
      "AVENIDA HELIO FALCAO 323 - ano: 2003\n",
      "RUA ANTONIO DE SA LEITAO 26 - ano: 2013\n",
      "RUA FRANCISCO DA CUNHA 1910 - ano: 1991\n",
      "RUA DHALIA 25 - ano: 2011\n",
      "RUA AMARO ALBINO PIMENTEL 101 - ano: 2017\n",
      "RUA VISCONDE DE JEQUITINHONHA 478 - ano: 1993\n",
      "RUA VISCONDE DE JEQUITINHONHA 523 - ano: 2004\n",
      "RUA BRUNO VELOSO 284 - ano: 2009\n",
      "RUA AQUIDABA 70 - ano: 1977\n",
      "RUA CARLOS PEREIRA FALCAO 1136 - ano: 1990\n",
      "RUA DOS NAVEGANTES 2853 - ano: 2017\n",
      "RUA VIRIATO CORREIA 142 - ano: 2017\n",
      "RUA DOS NAVEGANTES 611 - ano: 1984\n",
      "RUA JOAO CARDOSO AIRES 396 - ano: 2016\n",
      "RUA ANTONIO VICENTE 648 - ano: 2017\n",
      "RUA VISCONDE DE JEQUITINHONHA 1370 - ano: 1996\n",
      "RUA DOS NAVEGANTES 993 - ano: 2003\n",
      "RUA TENENTE DOMINGOS DE BRITO 681 - ano: 1990\n",
      "RUA PROFESSOR AUGUSTO LINS E SILVA 668 - ano: 1997\n",
      "RUA SERINHAEM 149 - ano: 2008\n",
      "RUA ANTONIO FALCAO 979 - ano: 2018\n",
      "RUA JONATHAS DE VASCONCELOS 750 - ano: 1999\n",
      "RUA DOS NAVEGANTES 2665 - ano: 2015\n",
      "RUA DHALIA 25 - ano: 2011\n",
      "RUA JOAO CARDOSO AIRES 823 - ano: 1979\n",
      "AVENIDA CONSELHEIRO AGUIAR 1177 - ano: 2012\n",
      "AVENIDA CONSELHEIRO AGUIAR 4620 - ano: 1974\n",
      "RUA SETUBAL 542 - ano: 2012\n",
      "RUA DOS NAVEGANTES 215 - ano: 1939\n",
      "RUA MARIA CAROLINA 661 - ano: 2014\n",
      "RUA MARIA CAROLINA 586 - ano: 2003\n",
      "RUA TENENTE JOAO CICERO 411 - ano: 1980\n",
      "RUA PROFESSOR AUGUSTO LINS E SILVA 536 - ano: 1983\n",
      "RUA BALTAZAR PASSOS 440 - ano: 2010\n",
      "AVENIDA CONSELHEIRO AGUIAR 3406 - ano: 1972\n",
      "RUA SETUBAL 336 - ano: 1989\n",
      "RUA BRUNO VELOSO 451 - ano: 1988\n",
      "RUA DONA MAGINA PONTUAL 147 - ano: 1983\n",
      "RUA AQUIDABA 20 - ano: 1978\n",
      "RUA PADRE BERNARDINO PESSOA 603 - ano: 2009\n",
      "RUA CARLOS PEREIRA FALCAO 500 - ano: 1994\n",
      "RUA VIRIATO CORREIA 142 - ano: 2017\n",
      "AVENIDA FERNANDO SIMOES BARBOSA 348 - ano: 2000\n",
      "RUA DOS NAVEGANTES 2853 - ano: 2017\n",
      "RUA BRUNO VELOSO 284 - ano: 2009\n",
      "RUA PROFESSOR AUGUSTO LINS E SILVA 62 - ano: 1975\n",
      "RUA ERNESTO DE PAULA SANTOS 175 - ano: 1988\n",
      "RUA AMARO ALBINO PIMENTEL 101 - ano: 2017\n",
      "RUA BRUNO VELOSO 393 - ano: 1987\n",
      "RUA JOAO DIAS MARTINS 73 - ano: 1998\n",
      "AVENIDA CONSELHEIRO AGUIAR 4252 - ano: 1974\n",
      "RUA ANTONIO FALCAO 482 - ano: 1993\n",
      "RUA DOS NAVEGANTES 611 - ano: 1984\n",
      "RUA AVIADOR SEVERIANO LINS 140 - ano: 2017\n",
      "RUA RIBEIRO DE BRITO 950 - ano: 2015\n",
      "RUA DESEMBARGADOR JOAO PAES 527 - ano: 2011\n",
      "RUA SETUBAL 1597 - ano: 2012\n",
      "RUA DESEMBARGADOR JOAO PAES 1044 - ano: 1998\n",
      "RUA AMAZONAS 282 - ano: 2016\n",
      "RUA AMAZONAS 282 - ano: 2016\n",
      "RUA SETUBAL 1726 - ano: 1976\n",
      "RUA LUIZ DE FARIA BARBOSA 306 - ano: 2017\n",
      "RUA GENERAL AMERICANO FREIRE 764 - ano: 2013\n",
      "RUA ANTONIO FALCAO 979 - ano: 2018\n",
      "RUA MINISTRO NELSON HUNGRIA 266 - ano: 2000\n",
      "RUA DOS NAVEGANTES 2450 - ano: 1975\n",
      "RUA LUIZ DE FARIA BARBOSA 36 - ano: 2017\n",
      "RUA DOS NAVEGANTES 2584 - ano: 2005\n",
      "RUA DOUTOR LUIZ INACIO PESSOA DE MELO 276 - ano: 1991\n",
      "RUA PADRE CARAPUCEIRO 498 - ano: 1989\n",
      "RUA VISCONDE DE JEQUITINHONHA 1360 - ano: 1997\n",
      "RUA SETUBAL 1400 - ano: 1977\n",
      "RUA FELICIANO JOSE DE FARIAS 185 - ano: 2002\n",
      "RUA DONA UZINHA NUNES 47 - ano: 1983\n",
      "RUA BALTAZAR PASSOS 317 - ano: 2000\n",
      "RUA AMARO ALBINO PIMENTEL 33 - ano: 2017\n",
      "RUA ERNESTO DE PAULA SANTOS 75 - ano: 1994\n",
      "RUA FELIX DE BRITO E MELO 946 - ano: 2008\n",
      "RUA BRUNO VELOSO 490 - ano: 1991\n",
      "RUA MARIA CAROLINA 816 - ano: 2015\n",
      "RUA RAUL AZEDO 95 - ano: 2012\n",
      "RUA JOAO DIAS MARTINS 51 - ano: 1984\n",
      "AVENIDA HELIO FALCAO 355 - ano: 2003\n",
      "AVENIDA VINTE DE JANEIRO 1029 - ano: 1981\n",
      "RUA MARIO SOUTO MAIOR 89 - ano: 2016\n",
      "AVENIDA FERNANDO SIMOES BARBOSA 374 - ano: 1989\n",
      "RUA CAPITAO ZUZINHA 231 - ano: 2008\n",
      "RUA MARIA CAROLINA 661 - ano: 2014\n",
      "RUA MARIA CAROLINA 661 - ano: 2014\n",
      "RUA FRANCISCO DE BARROS BARRETO 376 - ano: 1992\n",
      "RUA MAMANGUAPE 562 - ano: 1982\n",
      "RUA DOS NAVEGANTES 2665 - ano: 2015\n",
      "RUA PADRE BERNARDINO PESSOA 291 - ano: 2013\n",
      "RUA GENERAL SALGADO 95 - ano: 1986\n",
      "RUA PROFESSOR EDUARDO WANDERLEY FILHO 293 - ano: 2009\n",
      "RUA JOSE PARAISO 26 - ano: 2011\n",
      "RUA PROFESSOR AUGUSTO LINS E SILVA 383 - ano: 2007\n",
      "RUA SETUBAL 1726 - ano: 1976\n",
      "RUA ANTONIO DE SA LEITAO 26 - ano: 2013\n",
      "RUA DOS NAVEGANTES 2665 - ano: 2015\n",
      "RUA PROFESSOR JULIO FERREIRA DE MELO 358 - ano: 1990\n",
      "RUA VISCONDE DE JEQUITINHONHA 2432 - ano: 1995\n",
      "RUA ANTONIO FALCAO 979 - ano: 2018\n",
      "RUA PROFESSOR AUGUSTO LINS E SILVA 621 - ano: 1995\n",
      "AVENIDA FERNANDO SIMOES BARBOSA 374 - ano: 1989\n",
      "RUA SETUBAL 930 - ano: 2012\n",
      "AVENIDA CONSELHEIRO AGUIAR 5025 - ano: 1975\n",
      "RUA SETUBAL 300 - ano: 1976\n",
      "RUA JOSE TRAJANO 373 - ano: 2007\n"
     ]
    },
    {
     "name": "stdout",
     "output_type": "stream",
     "text": [
      "RUA SANSAO RIBEIRO 120 - ano: 2001\n",
      "RUA SETUBAL 336 - ano: 1989\n",
      "RUA ALMIRANTE BATISTA LEAO 53 - ano: 2005\n",
      "RUA CAPITAO ZUZINHA 231 - ano: 2008\n",
      "RUA JACK AYRES 55 - ano: 1994\n",
      "RUA GENERAL AMERICANO FREIRE 267 - ano: 1977\n",
      "RUA FRANCISCO DA CUNHA 440 - ano: 2009\n",
      "AVENIDA CONSELHEIRO AGUIAR 2286 - ano: 1968\n",
      "RUA OLAVO BILAC 72 - ano: 2012\n",
      "RUA DOS NAVEGANTES 2939 - ano: 1992\n",
      "RUA TENENTE JOAO CICERO 498 - ano: 2003\n",
      "RUA CONEGO ROMEU 161 - ano: 1999\n",
      "RUA MARIA CAROLINA 661 - ano: 2014\n",
      "RUA ANTONIO DE SA LEITAO 139 - ano: 2011\n",
      "AVENIDA FERNANDO SIMOES BARBOSA 668 - ano: 2010\n",
      "RUA FELIX DE BRITO E MELO 946 - ano: 2008\n",
      "RUA VISCONDE DE JEQUITINHONHA 478 - ano: 1993\n",
      "RUA JONATHAS DE VASCONCELOS 207 - ano: 1990\n",
      "AVENIDA CONSELHEIRO AGUIAR 1991 - ano: 1957\n",
      "RUA FRANCISCO DA CUNHA 654 - ano: 1988\n",
      "RUA SIDERAL 686 - ano: 1980\n",
      "RUA SETUBAL 1058 - ano: 1998\n",
      "AVENIDA FERNANDO SIMOES BARBOSA 1222 - ano: 2009\n",
      "RUA PROFESSOR AUGUSTO LINS E SILVA 626 - ano: 1991\n",
      "RUA AMARO ALBINO PIMENTEL 101 - ano: 2017\n",
      "RUA AVIADOR SEVERIANO LINS 182 - ano: 2016\n",
      "RUA JORGE COUCEIRO DA COSTA EIRAS 685 - ano: 2016\n",
      "RUA AQUIDABA 70 - ano: 1977\n",
      "AVENIDA CONSELHEIRO AGUIAR 4010 - ano: 2014\n",
      "RUA FRANCISCO DA CUNHA 1810 - ano: 2006\n",
      "RUA SANSAO RIBEIRO 99 - ano: 2010\n",
      "RUA ANTONIO FALCAO 979 - ano: 2018\n",
      "RUA AMARO ALBINO PIMENTEL 101 - ano: 2017\n",
      "RUA ANTONIO FALCAO 235 - ano: 1980\n",
      "RUA SETUBAL 300 - ano: 1976\n",
      "RUA CORONEL ANIZIO RODRIGUES COELHO 480 - ano: 1983\n",
      "RUA ANTONIO DE SA LEITAO 26 - ano: 2013\n",
      "RUA AVIADOR SEVERIANO LINS 182 - ano: 2016\n",
      "RUA BRUNO VELOSO 490 - ano: 1991\n",
      "RUA DOS NAVEGANTES 1706 - ano: 1998\n",
      "RUA MARIA CAROLINA 661 - ano: 2014\n",
      "RUA BRUNO VELOSO 490 - ano: 1991\n",
      "RUA ALMIRANTE BATISTA LEAO 76 - ano: 2002\n",
      "RUA DOS NAVEGANTES 2886 - ano: 2000\n",
      "RUA JORGE COUCEIRO DA COSTA EIRAS 90 - ano: 1987\n",
      "RUA LUIZ DE FARIA BARBOSA 185 - ano: 1987\n",
      "RUA SETUBAL 984 - ano: 1980\n",
      "RUA CRUZEIRO DO FORTE 152 - ano: 2014\n",
      "AVENIDA CONSELHEIRO AGUIAR 1350 - ano: Rua_Numero\n",
      "AVENIDA CONSELHEIRO AGUIAR 1350    1969\n",
      "AVENIDA CONSELHEIRO AGUIAR 1350    1969\n",
      "AVENIDA CONSELHEIRO AGUIAR 1350    1969\n",
      "AVENIDA CONSELHEIRO AGUIAR 1350    1969\n",
      "AVENIDA CONSELHEIRO AGUIAR 1350    1969\n",
      "AVENIDA CONSELHEIRO AGUIAR 1350    1969\n",
      "AVENIDA CONSELHEIRO AGUIAR 1350    1969\n",
      "AVENIDA CONSELHEIRO AGUIAR 1350    1969\n",
      "AVENIDA CONSELHEIRO AGUIAR 1350    1969\n",
      "AVENIDA CONSELHEIRO AGUIAR 1350    1969\n",
      "AVENIDA CONSELHEIRO AGUIAR 1350    1969\n",
      "AVENIDA CONSELHEIRO AGUIAR 1350    1969\n",
      "Name: Ano Construcao, dtype: int64\n",
      "RUA PROFESSOR AUGUSTO LINS E SILVA 621 - ano: 1995\n",
      "RUA GENERAL SALGADO 476 - ano: 2016\n",
      "RUA FAUSTINO PORTO 66 - ano: 2000\n",
      "RUA CARLOS PEREIRA FALCAO 500 - ano: 1994\n",
      "RUA FRANCISCO DE BARROS BARRETO 90 - ano: 1994\n",
      "RUA BARAO DE SOUZA LEAO 221 - ano: 1979\n",
      "RUA DOS NAVEGANTES 2455 - ano: 1969\n",
      "AVENIDA FERNANDO SIMOES BARBOSA 1222 - ano: 2009\n",
      "RUA AVIADOR SEVERIANO LINS 479 - ano: 1998\n",
      "RUA DOUTOR LUIZ INACIO PESSOA DE MELO 276 - ano: 1991\n",
      "RUA VISCONDE DE JEQUITINHONHA 2954 - ano: 1987\n",
      "RUA BRUNO VELOSO 284 - ano: 2009\n",
      "RUA BALTAZAR PASSOS 680 - ano: 1981\n",
      "RUA DESEMBARGADOR JOAO PAES 1044 - ano: 1998\n",
      "AVENIDA ENGENHEIRO DOMINGOS FERREIRA 3722 - ano: 1977\n",
      "RUA ANTONIO DE SA LEITAO 139 - ano: 2011\n",
      "RUA SILVA LOBATO 117 - ano: 2000\n",
      "RUA MARIA CAROLINA 661 - ano: 2014\n",
      "RUA ANTONIO DE SA LEITAO 139 - ano: 2011\n",
      "RUA PADRE CARAPUCEIRO 427 - ano: 2004\n",
      "RUA TENENTE JOAO CICERO 186 - ano: 1999\n",
      "RUA SETUBAL 930 - ano: 2012\n",
      "RUA FRANCISCO DE BARROS BARRETO 198 - ano: 1980\n",
      "RUA PROFESSOR AUGUSTO LINS E SILVA 23 - ano: 1984\n",
      "AVENIDA HELIO FALCAO 505 - ano: 1979\n",
      "RUA MARIA CAROLINA 661 - ano: 2014\n",
      "RUA CAPITAO ZUZINHA 231 - ano: 2008\n",
      "RUA PADRE BERNARDINO PESSOA 408 - ano: 2011\n",
      "RUA DOUTOR LUIZ INACIO PESSOA DE MELO 81 - ano: 1992\n",
      "RUA SETUBAL 638 - ano: 2008\n",
      "RUA PHAELANTE DA CAMARA 67 - ano: 2004\n",
      "RUA IZABEL MAGALHAES 51 - ano: 2005\n",
      "RUA DOS NAVEGANTES 169 - ano: 1972\n",
      "RUA AGENOR LOPES 63 - ano: 1999\n",
      "RUA SETUBAL 1030 - ano: 1985\n",
      "RUA PROFESSOR AUGUSTO LINS E SILVA 228 - ano: 1998\n",
      "RUA GENERAL SALGADO 476 - ano: 2016\n",
      "RUA SETUBAL 422 - ano: 2003\n",
      "RUA ANTONIO FALCAO 254 - ano: 1975\n",
      "RUA PROFESSOR EDUARDO WANDERLEY FILHO 161 - ano: 1999\n",
      "AVENIDA FERNANDO SIMOES BARBOSA 50 - ano: 1991\n",
      "RUA ANTONIO DE SA LEITAO 26 - ano: 2013\n",
      "AVENIDA BEIRA MAR 58 - ano: 2016\n",
      "RUA SETUBAL 542 - ano: 2012\n",
      "RUA MARIA CAROLINA 661 - ano: 2014\n",
      "RUA MARIA CAROLINA 336 - ano: 1996\n",
      "RUA CORONEL BENEDITO CHAVES 399 - ano: 1985\n",
      "RUA JOSE TRAJANO 373 - ano: 2007\n",
      "RUA VIRIATO CORREIA 142 - ano: 2017\n",
      "RUA DONA UZINHA NUNES 47 - ano: 1983\n",
      "RUA MAMANGUAPE 159 - ano: 2007\n",
      "AVENIDA CONSELHEIRO AGUIAR 5025 - ano: 1975\n",
      "RUA SETUBAL 1663 - ano: 1981\n",
      "RUA JOAO CARDOSO AIRES 327 - ano: 2010\n",
      "RUA MINISTRO NELSON HUNGRIA 159 - ano: 2000\n",
      "RUA JOAO ARRUDA MARINHO 54 - ano: 2018\n",
      "RUA MINISTRO NELSON HUNGRIA 266 - ano: 2000\n",
      "RUA PADRE CARAPUCEIRO 427 - ano: 2004\n",
      "RUA PADRE BERNARDINO PESSOA 303 - ano: 2006\n",
      "RUA DOM JOSE LOPES 604 - ano: 2010\n",
      "RUA IZABEL MAGALHAES 51 - ano: 2005\n",
      "RUA DOS NAVEGANTES 727 - ano: 1969\n",
      "RUA ERNESTO DE PAULA SANTOS 75 - ano: 1994\n",
      "RUA MARIA CAROLINA 336 - ano: 1996\n",
      "RUA AVIADOR SEVERIANO LINS 394 - ano: 2008\n",
      "RUA IZABEL MAGALHAES 93 - ano: 2013\n",
      "RUA DOS NAVEGANTES 169 - ano: 1972\n",
      "RUA ANA CAMELO DA SILVA 38 - ano: 2006\n",
      "AVENIDA HELIO FALCAO 735 - ano: 1983\n",
      "RUA SA E SOUZA 624 - ano: 2012\n",
      "RUA FAUSTINO PORTO 295 - ano: 1995\n",
      "AVENIDA HELIO FALCAO 686 - ano: 1985\n",
      "AVENIDA FERNANDO SIMOES BARBOSA 830 - ano: 1990\n",
      "RUA SETUBAL 964 - ano: 1980\n",
      "RUA COPACABANA 85 - ano: 1976\n",
      "RUA VIRIATO CORREIA 142 - ano: 2017\n",
      "RUA DOS NAVEGANTES 1706 - ano: 1998\n",
      "RUA GENERAL SALGADO 476 - ano: 2016\n",
      "RUA VISCONDE DE JEQUITINHONHA 1228 - ano: 2015\n",
      "AVENIDA ENGENHEIRO DOMINGOS FERREIRA 2245 - ano: 1980\n",
      "RUA ERNESTO DE PAULA SANTOS 1355 - ano: 2005\n",
      "RUA ERNESTO DE PAULA SANTOS 1355 - ano: 2005\n",
      "AVENIDA FERNANDO SIMOES BARBOSA 1222 - ano: 2009\n",
      "RUA AMARO ALBINO PIMENTEL 101 - ano: 2017\n",
      "RUA MARIA CAROLINA 661 - ano: 2014\n",
      "RUA DOS NAVEGANTES 1541 - ano: 1986\n",
      "RUA AMARO ALBINO PIMENTEL 112 - ano: 2015\n",
      "RUA PADRE CARAPUCEIRO 815 - ano: 2011\n",
      "RUA VIRIATO CORREIA 142 - ano: 2017\n",
      "RUA TENENTE JOAO CICERO 334 - ano: 2008\n",
      "RUA SETUBAL 1700 - ano: 1974\n",
      "RUA DOS NAVEGANTES 293 - ano: 1981\n",
      "RUA MARIA CAROLINA 661 - ano: 2014\n",
      "RUA PROFESSOR AUGUSTO LINS E SILVA 536 - ano: 1983\n",
      "RUA JOAO CARDOSO AIRES 327 - ano: 2010\n",
      "RUA TENENTE JOAO CICERO 498 - ano: 2003\n",
      "RUA PROFESSOR JULIO FERREIRA DE MELO 489 - ano: 1994\n",
      "AVENIDA CONSELHEIRO AGUIAR 4010 - ano: 2014\n",
      "RUA SETUBAL 964 - ano: 1980\n",
      "RUA MAMANGUAPE 48 - ano: 2007\n",
      "RUA CARLOS PEREIRA FALCAO 826 - ano: 2000\n",
      "RUA SETUBAL 812 - ano: 1992\n",
      "RUA JONATHAS DE VASCONCELOS 788 - ano: 1992\n",
      "RUA FRANCISCO DA CUNHA 654 - ano: 1988\n",
      "RUA FAUSTINO PORTO 197 - ano: 2005\n",
      "RUA DESEMBARGADOR JOAO PAES 527 - ano: 2011\n",
      "RUA RAUL AZEDO 53 - ano: 2005\n",
      "RUA CORONEL ANIZIO RODRIGUES COELHO 461 - ano: 2005\n",
      "RUA DESEMBARGADOR JOAO PAES 737 - ano: 1991\n",
      "RUA AVIADOR SEVERIANO LINS 344 - ano: 1987\n",
      "AVENIDA ENGENHEIRO DOMINGOS FERREIRA 3856 - ano: 1984\n",
      "RUA SETUBAL 1630 - ano: 1997\n",
      "RUA SETUBAL 254 - ano: 1977\n",
      "RUA JOAO EUGENIO DE LIMA 67 - ano: 1995\n",
      "RUA JOAO ARRUDA MARINHO 54 - ano: 2018\n",
      "RUA JOAO DIAS MARTINS 88 - ano: 2014\n",
      "RUA MAMANGUAPE 475 - ano: 1977\n",
      "RUA DOS NAVEGANTES 2621 - ano: 1982\n",
      "RUA DOS NAVEGANTES 293 - ano: 1981\n",
      "AVENIDA FERNANDO SIMOES BARBOSA 374 - ano: 1989\n",
      "AVENIDA CONSELHEIRO AGUIAR 3406 - ano: 1972\n",
      "AVENIDA CONSELHEIRO AGUIAR 3321 - ano: 1972\n",
      "RUA VIRIATO CORREIA 142 - ano: 2017\n",
      "RUA SETUBAL 1726 - ano: 1976\n",
      "RUA JORGE COUCEIRO DA COSTA EIRAS 685 - ano: 2016\n",
      "RUA AGENOR LOPES 424 - ano: 2002\n",
      "RUA DOUTOR LUIZ INACIO PESSOA DE MELO 145 - ano: 1994\n",
      "RUA ANTONIO FALCAO 1013 - ano: 2017\n",
      "RUA SETUBAL 1663 - ano: 1981\n",
      "RUA DOS NAVEGANTES 993 - ano: 2003\n",
      "RUA VISCONDE DE JEQUITINHONHA 1360 - ano: 1997\n",
      "RUA VISCONDE DE JEQUITINHONHA 1900 - ano: 1983\n",
      "RUA ANTONIO FALCAO 1013 - ano: 2017\n",
      "RUA AVIADOR SEVERIANO LINS 140 - ano: 2017\n",
      "RUA DOS NAVEGANTES 2665 - ano: 2015\n",
      "RUA AMARO ALBINO PIMENTEL 101 - ano: 2017\n",
      "RUA ANTONIO PASSOS 200 - ano: 2014\n",
      "RUA CRUZEIRO DO FORTE 152 - ano: 2014\n",
      "RUA PEDRO PAES MENDONCA 140 - ano: 2018\n",
      "AVENIDA CONSELHEIRO AGUIAR 1177 - ano: 2012\n",
      "RUA MINISTRO NELSON HUNGRIA 696 - ano: 2011\n",
      "RUA MAMANGUAPE 546 - ano: 2014\n",
      "AVENIDA HELIO FALCAO 575 - ano: 2003\n",
      "RUA JOAO EUGENIO DE LIMA 207 - ano: 2000\n",
      "RUA MARIA CAROLINA 586 - ano: 2003\n",
      "RUA AVIADOR SEVERIANO LINS 140 - ano: 2017\n",
      "RUA PROFESSOR AUGUSTO LINS E SILVA 383 - ano: 2007\n",
      "RUA ALMIRANTE BATISTA LEAO 100 - ano: 1980\n",
      "RUA ANTONIO LUMACK DO MONTE 203 - ano: 1994\n",
      "RUA FELIX DE BRITO E MELO 202 - ano: 2016\n",
      "RUA FRANCISCO DA CUNHA 70 - ano: 2000\n",
      "RUA JORGE COUCEIRO DA COSTA EIRAS 685 - ano: 2016\n",
      "RUA PADRE CARAPUCEIRO 825 - ano: 2011\n",
      "RUA ANTONIO FALCAO 1013 - ano: 2017\n",
      "RUA ANTONIO FALCAO 979 - ano: 2018\n",
      "RUA FRANCISCO DA CUNHA 1810 - ano: 2006\n",
      "RUA DOS NAVEGANTES 2853 - ano: 2017\n",
      "RUA LUIZ PIMENTEL 77 - ano: 2003\n",
      "RUA AGENOR LOPES 424 - ano: 2002\n",
      "AVENIDA MARECHAL JUAREZ TAVORA 320 - ano: 2018\n",
      "RUA SETUBAL 777 - ano: 2003\n",
      "RUA IZABEL MAGALHAES 34 - ano: 2004\n",
      "RUA PEDRO PAES MENDONCA 200 - ano: 2016\n",
      "RUA ANTONIO VICENTE 553 - ano: 1976\n",
      "RUA FRANCISCO DA CUNHA 440 - ano: 2009\n",
      "RUA SETUBAL 777 - ano: 2003\n",
      "RUA PROFESSOR JULIO FERREIRA DE MELO 878 - ano: 1988\n",
      "AVENIDA CONSELHEIRO AGUIAR 4010 - ano: 2014\n",
      "RUA AMARO ALBINO PIMENTEL 101 - ano: 2017\n",
      "RUA CONEGO ROMEU 161 - ano: 1999\n",
      "RUA FRANCISCO DA CUNHA 1910 - ano: 1991\n",
      "RUA JOAO CARDOSO AIRES 305 - ano: 2009\n",
      "RUA DOUTOR PEDRO DE MELLO CAHU 78 - ano: 2015\n",
      "RUA ANTONIO FALCAO 1013 - ano: 2017\n",
      "RUA PEDRO PAES MENDONCA 140 - ano: 2018\n",
      "RUA AMARO ALBINO PIMENTEL 33 - ano: 2017\n",
      "RUA AVIADOR SEVERIANO LINS 140 - ano: 2017\n",
      "RUA VIRIATO CORREIA 142 - ano: 2017\n",
      "RUA VIRIATO CORREIA 142 - ano: 2017\n",
      "RUA PEDRO PAES MENDONCA 140 - ano: 2018\n",
      "RUA ANTONIO FALCAO 1013 - ano: 2017\n",
      "RUA PEDRO PAES MENDONCA 140 - ano: 2018\n",
      "RUA ANTONIO FALCAO 1013 - ano: 2017\n",
      "RUA DOUTOR RAUL LAFAYETTE 80 - ano: 1998\n",
      "RUA VIRIATO CORREIA 142 - ano: 2017\n",
      "RUA SETUBAL 812 - ano: 1992\n",
      "RUA ANTONIO FALCAO 979 - ano: 2018\n",
      "RUA CRUZEIRO DO FORTE 152 - ano: 2014\n",
      "RUA PEDRO PAES MENDONCA 200 - ano: 2016\n",
      "RUA PEDRO PAES MENDONCA 140 - ano: 2018\n",
      "RUA PROFESSOR VALDEMAR DE OLIVEIRA 74 - ano: 1991\n",
      "RUA AMARO ALBINO PIMENTEL 101 - ano: 2017\n",
      "RUA ANTONIO DE SA LEITAO 26 - ano: 2013\n",
      "RUA SERINHAEM 44 - ano: 2016\n",
      "RUA PEDRO PAES MENDONCA 140 - ano: 2018\n",
      "RUA DOUTOR PEDRO DE MELLO CAHU 78 - ano: 2015\n",
      "RUA ANTONIO DE SA LEITAO 26 - ano: 2013\n",
      "RUA AMALIA BERNARDINO DE SOUZA 670 - ano: 2013\n",
      "RUA AMARO ALBINO PIMENTEL 33 - ano: 2017\n",
      "RUA VIRIATO CORREIA 142 - ano: 2017\n",
      "RUA CRUZEIRO DO FORTE 152 - ano: 2014\n",
      "RUA GENERAL SALGADO 476 - ano: 2016\n",
      "RUA JOSE HIPOLITO CARDOSO 346 - ano: 1992\n",
      "RUA VIRIATO CORREIA 142 - ano: 2017\n",
      "RUA FRANCISCO DA CUNHA 1810 - ano: 2006\n",
      "RUA CRUZEIRO DO FORTE 152 - ano: 2014\n",
      "RUA ANTONIO FALCAO 1013 - ano: 2017\n",
      "RUA LUIZ DE FARIA BARBOSA 36 - ano: 2017\n",
      "RUA AMARO ALBINO PIMENTEL 33 - ano: 2017\n",
      "RUA PEDRO PAES MENDONCA 140 - ano: 2018\n",
      "RUA VIRIATO CORREIA 71 - ano: 2012\n",
      "RUA ANTONIO FALCAO 714 - ano: 1993\n",
      "RUA ANTONIO FALCAO 1013 - ano: 2017\n",
      "RUA MARIA CAROLINA 586 - ano: 2003\n",
      "RUA VIRIATO CORREIA 71 - ano: 2012\n",
      "RUA SETUBAL 596 - ano: 2000\n",
      "RUA ANTONIO FALCAO 979 - ano: 2018\n",
      "RUA AVIADOR SEVERIANO LINS 182 - ano: 2016\n",
      "RUA AMARO ALBINO PIMENTEL 33 - ano: 2017\n",
      "RUA PADRE BERNARDINO PESSOA 603 - ano: 2009\n",
      "RUA ANTONIO FALCAO 979 - ano: 2018\n",
      "RUA PROFESSOR JULIO FERREIRA DE MELO 878 - ano: 1988\n",
      "RUA CRUZEIRO DO FORTE 152 - ano: 2014\n",
      "RUA CONEGO ROMEU 176 - ano: 1979\n",
      "RUA DOS NAVEGANTES 1295 - ano: 1983\n",
      "RUA DESEMBARGADOR JOAO PAES 510 - ano: 2003\n",
      "RUA PROFESSOR EDUARDO WANDERLEY FILHO 56 - ano: 1975\n",
      "RUA DOS NAVEGANTES 2455 - ano: 1969\n",
      "RUA CORONEL ANIZIO RODRIGUES COELHO 527 - ano: 1997\n",
      "RUA ANTONIO FALCAO 979 - ano: 2018\n",
      "RUA ANTONIO FALCAO 979 - ano: 2018\n",
      "RUA CAPITAO ZUZINHA 381 - ano: 1979\n",
      "RUA PEDRO PAES MENDONCA 200 - ano: 2016\n",
      "RUA BRUNO VELOSO 403 - ano: 1985\n",
      "RUA SERINHAEM 44 - ano: 2016\n",
      "RUA DOS NAVEGANTES 741 - ano: 1980\n",
      "RUA FRANCISCO DA CUNHA 1340 - ano: 2003\n",
      "RUA AMARO ALBINO PIMENTEL 101 - ano: 2017\n",
      "RUA VIRIATO CORREIA 142 - ano: 2017\n",
      "RUA PEDRO PAES MENDONCA 140 - ano: 2018\n",
      "RUA AMARO ALBINO PIMENTEL 33 - ano: 2017\n",
      "RUA ANTONIO FALCAO 979 - ano: 2018\n",
      "RUA LUIZ DE FARIA BARBOSA 36 - ano: 2017\n",
      "RUA DOS NAVEGANTES 215 - ano: 1939\n",
      "RUA SANSAO RIBEIRO 99 - ano: 2010\n",
      "RUA JACK AYRES 62 - ano: 2007\n",
      "RUA FELICIANO JOSE DE FARIAS 180 - ano: 1982\n",
      "AVENIDA FERNANDO SIMOES BARBOSA 374 - ano: 1989\n",
      "RUA DOS NAVEGANTES 2223 - ano: 1972\n",
      "RUA JORGE COUCEIRO DA COSTA EIRAS 443 - ano: 2003\n",
      "RUA PEDRO PAES MENDONCA 140 - ano: 2018\n",
      "RUA ANTONIO FALCAO 979 - ano: 2018\n",
      "RUA CORONEL ANIZIO RODRIGUES COELHO 168 - ano: 1992\n",
      "RUA DOS NAVEGANTES 2853 - ano: 2017\n",
      "RUA FRANCISCO DA CUNHA 657 - ano: 2011\n",
      "RUA PEDRO PAES MENDONCA 120 - ano: 2016\n",
      "RUA SETUBAL 764 - ano: 1982\n",
      "RUA SETUBAL 542 - ano: 2012\n",
      "RUA AMARO ALBINO PIMENTEL 33 - ano: 2017\n",
      "RUA PEDRO PAES MENDONCA 200 - ano: 2016\n",
      "RUA PEDRO PAES MENDONCA 120 - ano: 2016\n",
      "RUA PADRE LUIZ MARQUES TEIXEIRA 121 - ano: 1978\n",
      "RUA AMARO ALBINO PIMENTEL 33 - ano: 2017\n",
      "RUA CRUZEIRO DO FORTE 152 - ano: 2014\n",
      "RUA SANSAO RIBEIRO 120 - ano: 2001\n",
      "640\n"
     ]
    }
   ],
   "source": [
    "#rua_num_esig_bv = data_esig_boa_viagem_residencial['Rua_Numero'].tolist()\n",
    "rua_num_esig_bv = data_esig_boa_viagem_residencial_index_rua_num['Rua_Numero'].tolist()\n",
    "\n",
    "cont = 0\n",
    "\n",
    "for rua_num in data_aptos['Rua_Numero']:\n",
    "    rua_num = remover_caracteres_especiais_e_acentuacao(rua_num)\n",
    "    \n",
    "    if rua_num in rua_num_esig_bv:        \n",
    "        print(rua_num, '-','ano:', data_esig_boa_viagem_residencial_index_rua_num.loc[rua_num]['Ano Construcao'])\n",
    "        cont = cont + 1\n",
    "        \n",
    "print(cont)\n"
   ]
  },
  {
   "cell_type": "code",
   "execution_count": 104,
   "id": "6bdb78b9",
   "metadata": {},
   "outputs": [
    {
     "data": {
      "text/plain": [
       "683"
      ]
     },
     "execution_count": 104,
     "metadata": {},
     "output_type": "execute_result"
    }
   ],
   "source": [
    "data_aptos_aux = data_aptos[['idade do imóvel', 'ano busca']].copy()\n",
    "data_aptos_aux['ano segundo anuncio'] = 2022 - data_aptos_aux['idade do imóvel']\n",
    "data_aptos_aux2 = data_aptos_aux[['ano segundo anuncio', 'ano busca']]\n",
    "\n",
    "ano_informado = (2022 - data_aptos[(data_aptos['ano busca'] != 'NOT_FOUND') & \n",
    "                                   (data_aptos['idade do imóvel'].notnull()) & \n",
    "                                   ([type(a) is int for a in data_aptos_aux2['ano busca']])]['idade do imóvel'])\n",
    "\n",
    "ano_busca_esig = data_aptos[(data_aptos['ano busca'] != 'NOT_FOUND') & \n",
    "                            (data_aptos['idade do imóvel'].notnull()) & \n",
    "                            ([type(a) is int for a in data_aptos_aux2['ano busca']])]['ano busca']\n",
    "\n",
    "ano_busca_esig = [int(ano) for ano in ano_busca_esig]\n",
    "\n",
    "len(ano_busca_esig)"
   ]
  },
  {
   "cell_type": "code",
   "execution_count": 105,
   "id": "64221c90",
   "metadata": {},
   "outputs": [
    {
     "data": {
      "image/png": "[encoded data removed]",
      "text/plain": [
       "<Figure size 576x576 with 1 Axes>"
      ]
     },
     "metadata": {
      "needs_background": "light"
     },
     "output_type": "display_data"
    }
   ],
   "source": [
    "import matplotlib.pyplot as plt\n",
    "\n",
    "plt.rc('xtick', labelsize=10)\n",
    "plt.rc('ytick', labelsize=10)\n",
    "plt.rc('axes', labelsize=12)\n",
    "\n",
    "plt.figure(figsize=(8, 8))\n",
    "plt.scatter(ano_informado, ano_busca_esig)\n",
    "plt.xlabel('ANO SEGUNDO IDADE INFORMADA PELO ANUNCIANTE')\n",
    "plt.ylabel('ANO CONSULTA ESIG')\n",
    "plt.xlim([1945, 2025])\n",
    "plt.ylim([1945, 2025])\n",
    "\n",
    "x = [x for x in range(1945, 2026)]\n",
    "y = x\n",
    "\n",
    "plt.plot(x, y)\n",
    "\n",
    "plt.show()\n"
   ]
  },
  {
   "cell_type": "markdown",
   "id": "bf24185e",
   "metadata": {},
   "source": [
    "### FIM EXTRAÇÃO INFORMAÇÕES ANO"
   ]
  },
  {
   "cell_type": "code",
   "execution_count": 106,
   "id": "c70706b1",
   "metadata": {},
   "outputs": [
    {
     "name": "stdout",
     "output_type": "stream",
     "text": [
      "--- 0.005002737045288086 seconds ---\n",
      "['EDF SAMAMBAIA']\n"
     ]
    },
    {
     "data": {
      "text/html": [
       "<div>\n",
       "<style scoped>\n",
       "    .dataframe tbody tr th:only-of-type {\n",
       "        vertical-align: middle;\n",
       "    }\n",
       "\n",
       "    .dataframe tbody tr th {\n",
       "        vertical-align: top;\n",
       "    }\n",
       "\n",
       "    .dataframe thead th {\n",
       "        text-align: right;\n",
       "    }\n",
       "</style>\n",
       "<table border=\"1\" class=\"dataframe\">\n",
       "  <thead>\n",
       "    <tr style=\"text-align: right;\">\n",
       "      <th></th>\n",
       "      <th>Endereco</th>\n",
       "      <th>Ano Construcao</th>\n",
       "      <th>Rua</th>\n",
       "      <th>Numero</th>\n",
       "    </tr>\n",
       "    <tr>\n",
       "      <th>Nome Processado</th>\n",
       "      <th></th>\n",
       "      <th></th>\n",
       "      <th></th>\n",
       "      <th></th>\n",
       "    </tr>\n",
       "  </thead>\n",
       "  <tbody>\n",
       "    <tr>\n",
       "      <th>EDF SAMAMBAIA</th>\n",
       "      <td>AVENIDA BOA VIAGEM,  2514, BOA VIAGEM, RECIFE ...</td>\n",
       "      <td>1979</td>\n",
       "      <td>AVENIDA BOA VIAGEM</td>\n",
       "      <td>2514</td>\n",
       "    </tr>\n",
       "  </tbody>\n",
       "</table>\n",
       "</div>"
      ],
      "text/plain": [
       "                                                          Endereco  \\\n",
       "Nome Processado                                                      \n",
       "EDF SAMAMBAIA    AVENIDA BOA VIAGEM,  2514, BOA VIAGEM, RECIFE ...   \n",
       "\n",
       "                 Ano Construcao                 Rua Numero  \n",
       "Nome Processado                                             \n",
       "EDF SAMAMBAIA              1979  AVENIDA BOA VIAGEM   2514  "
      ]
     },
     "execution_count": 106,
     "metadata": {},
     "output_type": "execute_result"
    }
   ],
   "source": [
    "\n",
    "start_time = time.time()\n",
    "\n",
    "d = dict()\n",
    "\n",
    "descricao = \"EDF SAMAMBAIA HELIO FALCÃO 686, APTO. 50278 m2 de área útil106 m2 área totalSala para 2 ambientes (jantar/estar), varanda, circulação interna, dois quartos com armários, um banheiro social com box blindex, cozinha com armários, terraço de serviço com lavanderia, quarto e wcb para empregada, armários nos quartos e cozinha, 1 vaga de garagemEdifício com 1 Elevador, 3 unidades por andar, Antena Coletiva, Estacionamento, Interfone, Jardim interno, Lavanderia, PilotisTipo do imóvel: ApartamentoMetragem útil: 77m²Total dormitórios: 2Total suítes: 0Localização: Boa Viagem | RecifeValor: R$270.000Algumas características:- Banheiro de serviço- Box de vidro- Despensa- Elevador- Gerador Elétrico- Janelas grandes- Litoral- Portaria 24h- Próximo a praia- Sol da manhã- Sol da tarde- Tanque- Tomada 3 pinos- Vista livreAnúncio do corretor de imóveis Ivone Rodrigues De Menezes CRECI: Ver dados\"\n",
    "#descricao = preparar_texto(descricao)\n",
    "descricao = descricao.upper()\n",
    "#print(descricao)\n",
    "result = []\n",
    "for nome in nomes:\n",
    "    #d[nome] = nome in descricao\n",
    "#    d[nome] = calcular_similaridade_novo(nome = nome, texto_tokens = descricao)\n",
    "#    d[nome] = calcular_similaridade_original(nome = nome, texto = descricao)\n",
    "    if nome in descricao and nome not in result:\n",
    "        result.append(nome)\n",
    "        \n",
    "    \n",
    "\n",
    "\n",
    "print(\"--- %s seconds ---\" % (time.time() - start_time))\n",
    "\n",
    "#dict(sorted(d.items(), reverse=True, key=lambda item: item[1]))\n",
    "print(result)\n",
    "data_esig_boa_viagem_residencial.loc[result][['Endereco', 'Ano Construcao', 'Rua', 'Numero']]"
   ]
  },
  {
   "cell_type": "markdown",
   "id": "a8965c37",
   "metadata": {},
   "source": [
    "## Fim da busca por nomes de edifícios"
   ]
  },
  {
   "cell_type": "code",
   "execution_count": 107,
   "id": "dddf396f",
   "metadata": {
    "scrolled": true
   },
   "outputs": [
    {
     "data": {
      "text/plain": [
       "True"
      ]
     },
     "execution_count": 107,
     "metadata": {},
     "output_type": "execute_result"
    }
   ],
   "source": [
    "nomes = [nome for nome in nomes if str(nome) != 'nan']\n",
    "\n",
    "bag_nomes = []\n",
    "#\"\"\"\n",
    "for nome in nomes:\n",
    "    nome = str(nome)\n",
    "    nome = nome.upper()\n",
    "    nome = unidecode.unidecode(nome)\n",
    "    tokens = nome.split()\n",
    "    for termo in tokens:\n",
    "        if termo not in bag_nomes:\n",
    "            bag_nomes.append(termo)\n",
    "\n",
    "#\"\"\"\n",
    "'BAMBU' in bag_nomes\n",
    "#'DE' not in nomes[0].split()\n",
    "#print(bag_nomes.sort())"
   ]
  },
  {
   "cell_type": "markdown",
   "id": "ac0804cc",
   "metadata": {},
   "source": [
    "### ESPAÇO PARA TESTES DE FUNCIONALIDADES"
   ]
  },
  {
   "cell_type": "code",
   "execution_count": null,
   "id": "bc1fcb0d",
   "metadata": {},
   "outputs": [],
   "source": [
    "a = \"DAVI SOUZA ( CORRETTOR CRECI: Ver dados FONE: (81) 9.Ver dados É TAMBÉM WHATSAPP ). EMPREENDIMENTO DO EDIFÍCIO ESTAÇÃO DO MAR ENDEREÇO: AVENIDA BOA VIAGEM Nº 5274, APT. 2301 - BOA VIAGEM - RECIFE - PE CEP: Ver dados O APARTAMENTO: VENDO APARTAMENTO NA AVENIDA BOA VIAGEM O EDIFÍCIO ESTAÇÂO DO MAR, CONSTRUTORA MOURA DUBEUX, ANDAR ALTO! SEMI-DECORADO,C/ 04 SUÍ- TES, C/ 240 M² DE ÁREA ÚTIL, C/ 04 VAGAS DE GARAGEM, SALA P/ 04 AMBIENTES, SALA DE TELEVISÃO, PRÉDIO C/ TODA INFRAESTRUTURA, PIS- CINA, PLAYGROUND, CAMPO DE FUTEBOL, SALÃO DE FESTAS DECORADO E CLIMATIZADO, ACADEMIA, 03 ELEVADORES, 01 P/ ANDAR. DETALHES DO IMÓVEL: TIPO: VENDA - APARTAMENTO PADRÃO CONDOMÍNIO: 1.700,00 REAIS IPTU: R$ 500,00 REAIS AO MÊS ÁREA ÚTIL: 240 M² NÚMERO DE QUARTOS: 04 NÚMERO DE BANHEIROS: 05 OU MAIS VAGAS DE GARAGEM: 04 ÁREA DE SERFVIÇO ARMÁRIOS EMBUTIDOS ARMÁRIOS NA COZINHA MOBILIADO AR CONDICIONADO CHURRASQUEIRA VARANDA ACADEMIA PISCINA QUARTO DE SERVIÇO. DETALHES DO CONDOMÍNIO: CONDOMÍNIO FECHADO ELEVADOR SEGURANÇA 24 HS PORTARIA 24 HS PERMITIDO ANIMAIS ACADEMIA SALÃO DE FESTAS. VALOR DO IMÓVEL..................................................................................: R$ 4.200.000,00 MIL REAIS.\".upper()\n",
    "a = unidecode.unidecode(a)\n",
    "\n",
    "a = a[a.find(\"EDIF\"):]\n",
    "a = re.sub('[^A-Za-z0-9]+', ' ', a)\n",
    "\n",
    "a = a.replace(',', '')\n",
    "#print(a)\n",
    "\n",
    "#print(a)\n",
    "a = a.split()[:6]\n",
    "#a = word_tokenize(a)[:6] #USAR ESSE\n",
    "#print(a)\n",
    "\n",
    "#bag = ['HILSON', 'MACEDO', 'MOTA', 'PROFESSOR', 'CATEDRAL', 'SAO', 'SANTA', 'DE', 'CECILIA', 'MARIA', 'SAMAMBAIA']\n",
    "result = []\n",
    "for token in a:\n",
    "    if token in bag_nomes:\n",
    "        result.append(token)\n",
    "\n",
    "result = \" \".join(result)\n",
    "result\n"
   ]
  },
  {
   "cell_type": "code",
   "execution_count": null,
   "id": "83c5ded7",
   "metadata": {},
   "outputs": [],
   "source": [
    "import nltk\n",
    "nltk.download()\n"
   ]
  },
  {
   "cell_type": "code",
   "execution_count": null,
   "id": "dddcad6d",
   "metadata": {},
   "outputs": [],
   "source": []
  },
  {
   "cell_type": "markdown",
   "id": "3946f55d",
   "metadata": {},
   "source": [
    "## NLP TESTING"
   ]
  },
  {
   "cell_type": "code",
   "execution_count": null,
   "id": "287110db",
   "metadata": {},
   "outputs": [],
   "source": [
    "\n",
    "X = \"VENDO APARTAMENTO NA AVENIDA BOA VIAGEM O EDIF ESTACAO DO MAR, CONSTRUTORA MOURA DUBEUX, ANDAR ALTO! SEMI-DECORADO,C/ 04 SUÍ- TES, C/ 240 M² DE ÁREA ÚTIL, C/ 04 VAGAS DE GARAGEM, SALA P/ 04 AMBIENTES, SALA DE TELEVISÃO, PRÉDIO C/ TODA INFRAESTRUTURA, PIS- CINA, PLAYGROUND, CAMPO DE FUTEBOL, SALÃO DE FESTAS DECORADO E CLIMATIZADO, ACADEMIA, 03 ELEVADORES, 01 P/ ANDAR. DETALHES DO IMÓVEL: TIPO: VENDA - APARTAMENTO PADRÃO CONDOMÍNIO: 1.700,00 REAIS IPTU: R$ 500,00 REAIS AO MÊS ÁREA ÚTIL: 240 M² NÚMERO DE QUARTOS\".lower()\n",
    "Y = \"EDIF ESTACAO DO MAR\".lower()  \n",
    "X = unidecode.unidecode(X)\n",
    "Y = unidecode.unidecode(Y)\n",
    "X = X[X.find(\"EDIF\".lower()):]\n",
    "X = re.sub('[^A-Za-z0-9]+', ' ', X)\n",
    "#print(X)\n",
    "\n",
    "x = re.findall('EDIF|EDF|ED.', s)\n",
    "if len(x) > 0:\n",
    "    x = x[0]\n",
    "    s = s[s.find(x):]#.split()[:6]\n",
    "\n",
    "\n",
    "# tokenization\n",
    "X_list = word_tokenize(X)#[:7]\n",
    "Y_list = word_tokenize(Y)\n",
    "\n",
    "#print(X_list)\n",
    "  \n",
    "# sw contains the list of stopwords\n",
    "sw = stopwords.words('portuguese') \n",
    "l1 =[];l2 =[]\n",
    "  \n",
    "# remove stop words from the string\n",
    "X_set = {w for w in X_list if not w in sw} \n",
    "Y_set = {w for w in Y_list if not w in sw}\n",
    "\n",
    "\n",
    "\n",
    "# form a set containing keywords of both strings \n",
    "rvector = X_set.union(Y_set) \n",
    "for w in rvector:\n",
    "    if w in X_set: l1.append(1) # create a vector\n",
    "    else: l1.append(0)\n",
    "    if w in Y_set: l2.append(1)\n",
    "    else: l2.append(0)\n",
    "c = 0\n",
    "  \n",
    "# cosine formula \n",
    "for i in range(len(rvector)):\n",
    "        c+= l1[i]*l2[i]\n",
    "cosine = c / float((sum(l1)*sum(l2))**0.5)\n",
    "print(\"similarity: \", cosine)"
   ]
  },
  {
   "cell_type": "code",
   "execution_count": null,
   "id": "4b9ea256",
   "metadata": {},
   "outputs": [],
   "source": [
    "import re\n",
    "\n",
    "s = \"lANÇAMENTO DO ED. MIRANTE AVENIDA BOA VIAGEM Nº 5274 - PE CEP:VENDO APARTAMENTO NA AVENIDA BOA VIAGEM DUBEUX, ANDAR ALTO! SEMI-DECORADO,C/ 04 SUÍ- TES, C/ 240 M² DE ÁREA ÚTIL, C/ 04 VAGAS DE GARAGEM, SALA P/ 04 AMBIENTES, SALA DE TELEVISÃO, PRÉDIO C/ TODA INFRAESTRUTURA, PIS- CINA, PLAYGROUND, CAMPO DE FUTEBOL, SALÃO DE FESTAS DECORADO E CLIMATIZADO, ACADEMIA, 03 ELEVADORES, 01 P/ ANDAR. DETALHES DO IMÓVEL: TIPO: VENDA - APARTAMENTO PADRÃO CONDOMÍNIO: 1.700,00 REAIS IPTU: R$ 500,00 REAIS AO MÊS ÁREA ÚTIL: 240 M² NÚMERO DE QUARTOS: 04 NÚMERO DE BANHEIROS: 05 OU MAIS VAGAS DE GARAGEM: 04 ÁREA DE SERFVIÇO ARMÁRIOS EMBUTIDOS ARMÁRIOS NA COZINHA MOBILIADO AR CONDICIONADO CHURRASQUEIRA VARANDA ACADEMIA PISCINA QUARTO DE SERVIÇO. DETALHES DO CONDOMÍNIO: CONDOMÍNIO FECHADO ELEVADOR R$ 4.200.000,00 MIL REAIS.\".upper()\n",
    "x = re.findall('EDIF|EDF|ED.', s)\n",
    "if len(x) > 0:\n",
    "    x = x[0]\n",
    "    s = s[s.find(x):]#.split()[:6]\n",
    "   \n",
    "    \n",
    "print(s)\n",
    "\n"
   ]
  },
  {
   "cell_type": "code",
   "execution_count": null,
   "id": "17e63dcb",
   "metadata": {},
   "outputs": [],
   "source": [
    "a = \"paulo edif. edific led edificacao edificio ed. edif edf edif. edif edf. ed. edif ed. edificio\"\n",
    "a = a.replace('ed.', 'edf')\n",
    "a = re.sub('[.]+', '', a)#a.replace('.', '')\n",
    "re.sub('edificio|edif |edf ', 'EDF ', a)"
   ]
  },
  {
   "cell_type": "code",
   "execution_count": null,
   "id": "e9a5b681",
   "metadata": {
    "scrolled": true
   },
   "outputs": [],
   "source": [
    "texto = \"edif. paulo fagner rua joão sales de menezes\"\n",
    "calcular_similaridade(nome = 'null', texto = texto)"
   ]
  },
  {
   "cell_type": "code",
   "execution_count": null,
   "id": "46a4df7d",
   "metadata": {},
   "outputs": [],
   "source": [
    "d = {'a':[x for x in range(10)], 'b':[x for x in range(10)]}\n",
    "d\n",
    "df = pd.DataFrame(d)\n",
    "df.a = df.a**2\n",
    "#df['c'] = ['paulo -fágner 11', 'edf. ciÇa', 'fabiane - andreza', 'pauli..']\n",
    "#df['c'] = df.c.apply(remover_caracteres_especiais_e_acentuacao)\n",
    "#df2 = df[df['a'] < 4].copy()\n",
    "df['a'] = df['a'].astype('object')\n",
    "df.dtypes"
   ]
  },
  {
   "cell_type": "code",
   "execution_count": null,
   "id": "d8b12956",
   "metadata": {},
   "outputs": [],
   "source": [
    "a = ['EDF FERNANDO DA FONTE II NOVO', 'EDF FERNANDO DA FONTE', 'EDF FERNANDO DA FONTE II']\n",
    "np.argmax([len(x.split()) for x in a])"
   ]
  },
  {
   "cell_type": "code",
   "execution_count": null,
   "id": "4d1ff671",
   "metadata": {},
   "outputs": [],
   "source": [
    "#df2.loc['CICA']\n",
    "#df2\n",
    "#df.at[0, 'a'] = [99, 98, 97]\n",
    "#df.iloc[0,0] = [99, 98, 97]\n",
    "df\n"
   ]
  },
  {
   "cell_type": "code",
   "execution_count": null,
   "id": "78e61ac7",
   "metadata": {},
   "outputs": [],
   "source": [
    "df = pd.DataFrame({'c1': [10, 11, 12], 'c2': [100, 110, 120]})\n",
    "#df = df.reset_index()  # make sure indexes pair with number of rows\n",
    "\n",
    "#for index, row in df.iterrows():\n",
    "    #print(row['c1'], row['c2'])\n",
    "    #print(row['c1'])"
   ]
  },
  {
   "cell_type": "code",
   "execution_count": null,
   "id": "91d97224",
   "metadata": {},
   "outputs": [],
   "source": [
    "df2 = df.copy()"
   ]
  },
  {
   "cell_type": "code",
   "execution_count": null,
   "id": "07a63414",
   "metadata": {},
   "outputs": [],
   "source": [
    "df2['nome'] = ['paulo', 'fabiane', 'pauline']"
   ]
  },
  {
   "cell_type": "code",
   "execution_count": null,
   "id": "5beacdfd",
   "metadata": {},
   "outputs": [],
   "source": [
    "df2"
   ]
  },
  {
   "cell_type": "code",
   "execution_count": null,
   "id": "7c83058f",
   "metadata": {},
   "outputs": [],
   "source": [
    "#df2.set_index(['c1', 'nome'], drop = False, inplace = True)\n",
    "df2 = df2.set_index(['c1','nome']).unstack().swaplevel(0,1,1).sort_index(1)"
   ]
  },
  {
   "cell_type": "code",
   "execution_count": null,
   "id": "79aba1b5",
   "metadata": {},
   "outputs": [],
   "source": [
    "df2.loc['paulo']"
   ]
  },
  {
   "cell_type": "code",
   "execution_count": null,
   "id": "4fd08037",
   "metadata": {},
   "outputs": [],
   "source": [
    "index"
   ]
  },
  {
   "cell_type": "code",
   "execution_count": null,
   "id": "2a6f647d",
   "metadata": {},
   "outputs": [],
   "source": [
    "df = pd.DataFrame(\n",
    "    [[21, 'paulo', 72, 67],\n",
    "    [23, 'pauline', 78, 69],\n",
    "    [23, 'fabiane', 74, 56],\n",
    "    [52, 'paulo', 54, 76]],\n",
    "    columns=['rollno','name', 'physics', 'botony'])\n",
    "\n",
    "df = df.set_index(['name'],  drop = False)\n",
    "\n",
    "#print(df)\n",
    "\n",
    "#print('\\nDataFrame with MultiIndex\\n',df)\n",
    "(df.loc['as'])\n",
    "\n"
   ]
  },
  {
   "cell_type": "markdown",
   "id": "33ffef0c",
   "metadata": {},
   "source": [
    "## TESTES DATA FRAMES"
   ]
  },
  {
   "cell_type": "code",
   "execution_count": null,
   "id": "eab4aba7",
   "metadata": {},
   "outputs": [],
   "source": [
    "[type(a) is int for a in data_aptos_aux2['ano busca']]"
   ]
  },
  {
   "cell_type": "code",
   "execution_count": null,
   "id": "8b99892f",
   "metadata": {},
   "outputs": [],
   "source": [
    "#data_aptos_clear.quantile(.97)['PU']"
   ]
  },
  {
   "cell_type": "code",
   "execution_count": null,
   "id": "a40d1984",
   "metadata": {},
   "outputs": [],
   "source": [
    "data_aptos_aux2[ (data_aptos_aux2['ano segundo anuncio'].notnull()) & ([type(a) is int for a in data_aptos_aux2['ano busca']]) ]"
   ]
  },
  {
   "cell_type": "code",
   "execution_count": null,
   "id": "adbc40b2",
   "metadata": {},
   "outputs": [],
   "source": [
    "num = 'paulo.'\n",
    "#num.replace('.0', '')\n",
    "num[:num.find(\".\")]\n"
   ]
  },
  {
   "cell_type": "code",
   "execution_count": null,
   "id": "43fec757",
   "metadata": {},
   "outputs": [],
   "source": [
    "#Concatenando Data Frames\n",
    "import pandas as pd\n",
    "\n",
    "df_a = pd.DataFrame({'a':[1, 11, 111, 1111], 'b':[2, 22, 222, 2222]})\n",
    "#display(df_a)\n",
    "df_b = pd.DataFrame({'a':[1, 11, 111, 3333], 'b':[2, 22, 222, 4444]})\n",
    "#display(df_b)\n",
    "df = pd.concat([df_a, df_b], ignore_index=True)\n",
    "df['ano'] = 2022\n",
    "display(df)\n",
    "#i = 111\n",
    "\n",
    "#selecionando condição para alteração em data frame\n",
    "i = [1, 111]\n",
    "for x in i:\n",
    "    df.loc[df['a'] == x, ['b', 'ano']] = ['-99', '1999']\n",
    "\n",
    "#    df.loc[df['a'] == -999999, ['b', 'ano']] = -77777777#[['a', 'b']]\n",
    "display(df.loc[df['b'] == 4444][['ano']])\n",
    "#df['b'].astype('int4') - df['a'].astype('int64')\n"
   ]
  },
  {
   "cell_type": "markdown",
   "id": "15debae1",
   "metadata": {},
   "source": [
    "## Outros testes "
   ]
  },
  {
   "cell_type": "code",
   "execution_count": null,
   "id": "704bd123",
   "metadata": {},
   "outputs": [],
   "source": [
    "a = \"paulo   fagner     tenorio\"\n",
    "re.sub('\\s+',' ', a)"
   ]
  },
  {
   "cell_type": "code",
   "execution_count": null,
   "id": "33cdfe18",
   "metadata": {},
   "outputs": [],
   "source": [
    "[type(a) is int for a in data_aptos_aux2['ano busca']]"
   ]
  },
  {
   "cell_type": "code",
   "execution_count": null,
   "id": "0280146d",
   "metadata": {},
   "outputs": [],
   "source": [
    "texto = '      paulo fagner 1980 #$% 9 @...,-         '\n",
    "texto.strip()"
   ]
  },
  {
   "cell_type": "code",
   "execution_count": null,
   "id": "c37fcfc4",
   "metadata": {},
   "outputs": [],
   "source": [
    "endereco = \"rua marques de valenca - 320,,,boa viage\"\n",
    "get_numero(endereco)"
   ]
  },
  {
   "cell_type": "code",
   "execution_count": null,
   "id": "cd3141df",
   "metadata": {},
   "outputs": [],
   "source": [
    "rua = ' R Maria Carolina, 586 - Boa Viagem R,  Boa Viagem, Recife'.upper().strip()\n",
    "if rua.find('R ') == 0:\n",
    "    rua = rua.replace('R ', 'RUA ')\n",
    "\n",
    "rua"
   ]
  },
  {
   "cell_type": "markdown",
   "id": "baa726be",
   "metadata": {},
   "source": [
    "### Testes remoção atributos"
   ]
  },
  {
   "cell_type": "code",
   "execution_count": null,
   "id": "2e97ee00",
   "metadata": {},
   "outputs": [],
   "source": [
    "df = pd.DataFrame({'nome':['paulo', 'fabiane', 'pauline', 'paulo'], 'idade': [41, 42, 6, 41], 'pontos': [100, 110, 120, 100]})\n",
    "#print(df.drop_duplicates(subset = ['nome', 'idade']))\n",
    "#print(df)\n",
    "df.drop(columns=['nome'], inplace=True)\n",
    "df"
   ]
  },
  {
   "cell_type": "code",
   "execution_count": null,
   "id": "14224318",
   "metadata": {},
   "outputs": [],
   "source": [
    "rua = 'Rua luis Souza de morais'.upper()\n",
    "get_homofonos(rua)"
   ]
  },
  {
   "cell_type": "markdown",
   "id": "57bc7c1f",
   "metadata": {},
   "source": [
    "FUNÇÕES ORIGINAIS DE SIMILARIDADE"
   ]
  },
  {
   "cell_type": "code",
   "execution_count": null,
   "id": "2009f5ed",
   "metadata": {},
   "outputs": [],
   "source": [
    "def preparar_texto(texto):    \n",
    "    Y = texto.lower()  \n",
    "    Y = unidecode.unidecode(Y)    \n",
    "    Y = Y.replace('ed.', 'edf')\n",
    "    Y = re.sub('[.]+', '', Y)\n",
    "    Y = re.sub('edificio|edif |edf ', 'edf ', Y)\n",
    "\n",
    "    posicao = Y.find('edf ')\n",
    "    if posicao > -1:\n",
    "        Y = Y[posicao:]\n",
    "\n",
    "    Y = re.sub('[^A-Za-z0-9]+', ' ', Y)\n",
    "    \n",
    "    \n",
    "    if len(Y) <= 1:\n",
    "        Y = 'nulo'\n",
    "        \n",
    "    Y_list = word_tokenize(Y)\n",
    "    \n",
    "    cut = len(Y_list)\n",
    "    if len(Y_list) > 6 and posicao >-1:\n",
    "        cut = 6\n",
    "    \n",
    "    Y_list = Y_list[:cut]\n",
    "    \n",
    "    return Y_list\n",
    "\n",
    "\n",
    "\n",
    "\n",
    "def calcular_similaridade_novo(nome, texto_tokens):\n",
    "    X = nome.lower()\n",
    "   # Y = texto\n",
    "    X = unidecode.unidecode(X)\n",
    "\n",
    "    X = re.sub('[^A-Za-z0-9]+', ' ', X)\n",
    "    \n",
    "    if len(X) <= 1:\n",
    "        X = 'null'\n",
    "    \n",
    "    # tokenization\n",
    "    X_list = word_tokenize(X)\n",
    "    \n",
    "    Y_list = texto_tokens\n",
    "\n",
    "    # sw contains the list of stopwords\n",
    "    sw = stopwords.words('portuguese') \n",
    "    l1 =[];l2 =[]\n",
    "\n",
    "    # remove stop words from the string\n",
    "    X_set = {w for w in X_list if not w in sw} \n",
    "    Y_set = {w for w in Y_list if not w in sw}\n",
    "\n",
    "    # form a set containing keywords of both strings \n",
    "    rvector = X_set.union(Y_set) \n",
    "    for w in rvector:\n",
    "        if w in X_set: l1.append(1) # create a vector\n",
    "        else: l1.append(0)\n",
    "        if w in Y_set: l2.append(1)\n",
    "        else: l2.append(0)\n",
    "    c = 0\n",
    "\n",
    "    # cosine formula \n",
    "    for i in range(len(rvector)):\n",
    "            c+= l1[i]*l2[i]\n",
    "    cosine = c / float((sum(l1)*sum(l2))**0.5)\n",
    "    #print(\"similarity: \", cosine)\n",
    "    return cosine\n",
    "\n",
    "\n",
    "def calcular_similaridade_original(nome, texto):\n",
    "    X = nome.lower()\n",
    "    Y = texto.lower()  \n",
    "    X = unidecode.unidecode(X)\n",
    "    Y = unidecode.unidecode(Y)\n",
    "    \n",
    "    Y = Y.replace('ed.', 'edf')\n",
    "    Y = re.sub('[.]+', '', Y)\n",
    "    Y = re.sub('edificio|edif |edf ', 'edf ', Y)\n",
    "\n",
    "    aux_s = Y.find('edf ')#re.findall('edif|edf|ed.', Y)\n",
    "    if aux_s > -1:\n",
    "        #aux_s = aux_s[0]\n",
    "        Y = Y[aux_s:]\n",
    "\n",
    "    Y = re.sub('[^A-Za-z0-9]+', ' ', Y)\n",
    "    X = re.sub('[^A-Za-z0-9]+', ' ', X)\n",
    "    \n",
    "    if len(X) <= 1:\n",
    "        X = 'null'\n",
    "    \n",
    "    if len(Y) <= 1:\n",
    "        Y = 'nulo'\n",
    "\n",
    "    # tokenization\n",
    "    X_list = word_tokenize(X)\n",
    "    Y_list = word_tokenize(Y)\n",
    "    \n",
    "    cut = len(Y_list)\n",
    "    if len(Y_list) > 6 and aux_s >-1:\n",
    "        cut = 6\n",
    "    \n",
    "    Y_list = Y_list[:cut]\n",
    "\n",
    "    # sw contains the list of stopwords\n",
    "    sw = stopwords.words('portuguese') \n",
    "    l1 =[];l2 =[]\n",
    "\n",
    "    # remove stop words from the string\n",
    "    X_set = {w for w in X_list if not w in sw} \n",
    "    Y_set = {w for w in Y_list if not w in sw}\n",
    "\n",
    "    # form a set containing keywords of both strings \n",
    "    rvector = X_set.union(Y_set) \n",
    "    for w in rvector:\n",
    "        if w in X_set: l1.append(1) # create a vector\n",
    "        else: l1.append(0)\n",
    "        if w in Y_set: l2.append(1)\n",
    "        else: l2.append(0)\n",
    "    c = 0\n",
    "\n",
    "    # cosine formula \n",
    "    for i in range(len(rvector)):\n",
    "            c+= l1[i]*l2[i]\n",
    "    cosine = c / float((sum(l1)*sum(l2))**0.5)\n",
    "    #print(\"similarity: \", cosine)\n",
    "    return cosine\n",
    "    "
   ]
  }
 ],
 "metadata": {
  "kernelspec": {
   "display_name": "venv_puc_minas",
   "language": "python",
   "name": "venv_puc_minas"
  },
  "language_info": {
   "codemirror_mode": {
    "name": "ipython",
    "version": 3
   },
   "file_extension": ".py",
   "mimetype": "text/x-python",
   "name": "python",
   "nbconvert_exporter": "python",
   "pygments_lexer": "ipython3",
   "version": "3.9.7"
  }
 },
 "nbformat": 4,
 "nbformat_minor": 5
}
