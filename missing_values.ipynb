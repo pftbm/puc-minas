{
 "cells": [
  {
   "cell_type": "code",
   "execution_count": null,
   "id": "62a00858",
   "metadata": {},
   "outputs": [],
   "source": [
    "import pandas as pd\n",
    "from sklearn.linear_model import LinearRegression\n",
    "import statsmodels.api as sm\n",
    "import numpy as np"
   ]
  },
  {
   "cell_type": "code",
   "execution_count": null,
   "id": "094fa387",
   "metadata": {},
   "outputs": [],
   "source": [
    "data_aptos = pd.read_excel('data_aptos_final.xlsx')"
   ]
  },
  {
   "cell_type": "code",
   "execution_count": null,
   "id": "0f51f993",
   "metadata": {},
   "outputs": [],
   "source": [
    "data_aptos.isnull().sum()[data_aptos.isnull().sum() > 0]"
   ]
  },
  {
   "cell_type": "code",
   "execution_count": null,
   "id": "1015da87",
   "metadata": {},
   "outputs": [],
   "source": [
    "def pred_missing(data_aptos, list_atributos, atributo_alvo):\n",
    "    df_aux = data_aptos[list_atributos].copy()\n",
    "    missing_df = df_aux[df_aux[atributo_alvo].isnull()].copy()\n",
    "    train_df = df_aux[df_aux[atributo_alvo].notnull()].copy()\n",
    "    y_train = train_df[atributo_alvo]\n",
    "    train_df.drop(atributo_alvo, axis=1, inplace=True)\n",
    "\n",
    "    lr = LinearRegression()\n",
    "    lr.fit(train_df, y_train)\n",
    "    \n",
    "    r2 = lr.score(train_df, y_train).round(2)\n",
    "    print(\"R2: \", r2)\n",
    "    \n",
    "    missing_df.drop(atributo_alvo, axis=1, inplace=True)\n",
    "    pred = lr.predict(missing_df)    \n",
    "\n",
    "    pred_int = [int(x) for x in pred.round()]\n",
    "    \n",
    "    return pred_int"
   ]
  },
  {
   "cell_type": "markdown",
   "id": "70728be9",
   "metadata": {},
   "source": [
    "VAGAS"
   ]
  },
  {
   "cell_type": "code",
   "execution_count": null,
   "id": "9cdcd4ea",
   "metadata": {},
   "outputs": [],
   "source": [
    "list_atributos = ['área útil', 'ano_final', 'vagas']\n",
    "atributo_alvo = 'vagas'\n",
    "pred = pred_missing(data_aptos, list_atributos, atributo_alvo)\n",
    "data_aptos.loc[data_aptos[atributo_alvo].isnull(), ['vagas']] = pred"
   ]
  },
  {
   "cell_type": "markdown",
   "id": "b748cd3a",
   "metadata": {},
   "source": [
    "QUARTOS"
   ]
  },
  {
   "cell_type": "code",
   "execution_count": null,
   "id": "b128cb53",
   "metadata": {},
   "outputs": [],
   "source": [
    "list_atributos = ['área útil', 'ano_final', 'quartos']\n",
    "atributo_alvo = 'quartos'\n",
    "pred = pred_missing(data_aptos, list_atributos, atributo_alvo)\n",
    "data_aptos.loc[data_aptos[atributo_alvo].isnull(), ['vagas']] = pred"
   ]
  },
  {
   "cell_type": "markdown",
   "id": "f6e49be6",
   "metadata": {},
   "source": [
    "BANHEIROS"
   ]
  },
  {
   "cell_type": "code",
   "execution_count": null,
   "id": "14595607",
   "metadata": {},
   "outputs": [],
   "source": [
    "list_atributos = ['área útil', 'ano_final', 'banheiros']\n",
    "atributo_alvo = 'banheiros'\n",
    "pred = pred_missing(data_aptos, list_atributos, atributo_alvo)\n",
    "data_aptos.loc[data_aptos[atributo_alvo].isnull(), ['vagas']] = pred"
   ]
  },
  {
   "cell_type": "markdown",
   "id": "2f3c1601",
   "metadata": {},
   "source": [
    "SUITES"
   ]
  },
  {
   "cell_type": "code",
   "execution_count": null,
   "id": "edc664b3",
   "metadata": {},
   "outputs": [],
   "source": [
    "list_atributos = ['área útil', 'ano_final', 'suítes']\n",
    "atributo_alvo = 'suítes'\n",
    "pred = pred_missing(data_aptos, list_atributos, atributo_alvo)\n",
    "data_aptos.loc[data_aptos[atributo_alvo].isnull(), ['vagas']] = pred"
   ]
  },
  {
   "cell_type": "code",
   "execution_count": null,
   "id": "6d96d607",
   "metadata": {},
   "outputs": [],
   "source": [
    "with pd.ExcelWriter(\"data_aptos_final_missing_ok.xlsx\") as writer:\n",
    "    data_aptos.to_excel(writer)  "
   ]
  }
 ],
 "metadata": {
  "kernelspec": {
   "display_name": "venv_puc_minas",
   "language": "python",
   "name": "venv_puc_minas"
  },
  "language_info": {
   "codemirror_mode": {
    "name": "ipython",
    "version": 3
   },
   "file_extension": ".py",
   "mimetype": "text/x-python",
   "name": "python",
   "nbconvert_exporter": "python",
   "pygments_lexer": "ipython3",
   "version": "3.9.7"
  }
 },
 "nbformat": 4,
 "nbformat_minor": 5
}
