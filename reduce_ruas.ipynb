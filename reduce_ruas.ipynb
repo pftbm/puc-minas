{
 "cells": [
  {
   "cell_type": "code",
   "execution_count": null,
   "id": "588cb389",
   "metadata": {},
   "outputs": [],
   "source": [
    "import pandas as pd"
   ]
  },
  {
   "cell_type": "code",
   "execution_count": null,
   "id": "2fe66a90",
   "metadata": {
    "scrolled": true
   },
   "outputs": [],
   "source": [
    "#versão 1\n",
    "\n",
    "data_set = pd.read_excel('logradouros_teste.xlsx')\n",
    "\n",
    "ruas_contar = {}\n",
    "\n",
    "ruas = data_set['logradouro_cod']\n",
    "\n",
    "for rua in ruas:\n",
    "    if rua in ruas_contar.keys():\n",
    "        ruas_contar[rua] = ruas_contar[rua] + 1\n",
    "    else:\n",
    "        ruas_contar[rua] = 1\n",
    "\n",
    "\n",
    "ruas_dic_format = {\"logradouro\":ruas_contar.keys(), \"quantidades\":ruas_contar.values()}\n",
    "\n",
    "ruas_df = pd.DataFrame.from_dict(ruas_dic_format)\n",
    "\n",
    "ruas_df.sort_values(by=['quantidades'], ascending=False)"
   ]
  },
  {
   "cell_type": "code",
   "execution_count": null,
   "id": "e7031f75",
   "metadata": {},
   "outputs": [],
   "source": [
    "ruas_df.sort_values(by=['quantidades'], ascending=False).iloc[90:150]"
   ]
  },
  {
   "cell_type": "code",
   "execution_count": null,
   "id": "71f8de3d",
   "metadata": {},
   "outputs": [],
   "source": [
    "from collections import Counter"
   ]
  },
  {
   "cell_type": "code",
   "execution_count": null,
   "id": "49eccefc",
   "metadata": {
    "scrolled": true
   },
   "outputs": [],
   "source": [
    "#versão 2\n",
    "\n",
    "data_set = pd.read_excel('logradouros_teste.xlsx')\n",
    "\n",
    "ruas_contar = data_set['logradouro_cod']\n",
    "\n",
    "ruas = dict(Counter(ruas_contar))\n",
    "\n",
    "ruas_dic_format = {\"logradouro\":ruas.keys(), \"quantidades\":ruas.values()}\n",
    "\n",
    "ruas_df = pd.DataFrame.from_dict(ruas_dic_format)\n",
    "\n",
    "ruas_df.sort_values(by=['quantidades'], ascending=False).iloc[100:150]\n"
   ]
  },
  {
   "cell_type": "code",
   "execution_count": null,
   "id": "f84714f8",
   "metadata": {},
   "outputs": [],
   "source": [
    "ruas_df.sort_values(by=['quantidades'], ascending=False).iloc[40:150]"
   ]
  },
  {
   "cell_type": "code",
   "execution_count": null,
   "id": "2bf2bb37",
   "metadata": {},
   "outputs": [],
   "source": [
    "with pd.ExcelWriter(\"resultado_cont_ruas.xlsx\") as writer:\n",
    "    ruas_df.to_excel(writer)  \n"
   ]
  }
 ],
 "metadata": {
  "kernelspec": {
   "display_name": "venv_puc_minas",
   "language": "python",
   "name": "venv_puc_minas"
  },
  "language_info": {
   "codemirror_mode": {
    "name": "ipython",
    "version": 3
   },
   "file_extension": ".py",
   "mimetype": "text/x-python",
   "name": "python",
   "nbconvert_exporter": "python",
   "pygments_lexer": "ipython3",
   "version": "3.9.7"
  }
 },
 "nbformat": 4,
 "nbformat_minor": 5
}
