{
 "cells": [
  {
   "cell_type": "code",
   "execution_count": 27,
   "id": "b2d6217d",
   "metadata": {},
   "outputs": [],
   "source": [
    "import pandas as pd\n",
    "import matplotlib.pyplot as plt\n",
    "import seaborn as sns\n",
    "import numpy as np\n",
    "import os\n",
    "%matplotlib inline\n",
    "\n",
    "import warnings\n",
    "\n",
    "import joblib\n",
    "\n",
    "from sklearn.preprocessing import StandardScaler\n",
    "from sklearn.preprocessing import MinMaxScaler\n",
    "\n",
    "from sklearn import model_selection\n",
    "\n",
    "from sklearn.model_selection import train_test_split\n",
    "from sklearn.feature_selection import SelectKBest, mutual_info_regression, f_regression\n",
    "from sklearn.linear_model import LinearRegression\n",
    "from sklearn.ensemble import RandomForestRegressor\n",
    "from sklearn.feature_selection import SequentialFeatureSelector\n",
    "from sklearn.neural_network import MLPRegressor\n",
    "from sklearn import tree\n",
    "\n",
    "from sklearn.model_selection import RandomizedSearchCV\n",
    "from sklearn.model_selection import GridSearchCV\n",
    "\n",
    "from sklearn import model_selection\n",
    "from sklearn.model_selection import KFold\n",
    "\n",
    "from sklearn.ensemble import GradientBoostingRegressor\n",
    "from sklearn.ensemble import BaggingRegressor\n",
    "\n",
    "from sklearn.metrics import r2_score\n"
   ]
  },
  {
   "cell_type": "code",
   "execution_count": null,
   "id": "7b7d8a97",
   "metadata": {},
   "outputs": [],
   "source": [
    "def plot_smooth_ano(x, reg):\n",
    "    y_pred_list = []\n",
    "    print('teste: ',x[1])\n",
    "    for i in range(85, 185):\n",
    "   #     x[1] = np.log(i) \n",
    "    \n",
    "        x = np.array(x).reshape(1,-1)\n",
    "        x = scaler_X.transform(x)\n",
    "    \n",
    "        y_pred = reg.predict(x) #MLP\n",
    "        y_pred = scaler_y.inverse_transform(y_pred.reshape(-1,1))\n",
    "        print(y_pred)\n",
    "        y_pred_list.append(y_pred)\n",
    "        \n",
    "    x_plot = x\n",
    "    y_plot = np.exp(scaler_y.inverse_transform([y_pred_list]))\n",
    "\n",
    "    plt.figure(figsize=(8, 8))\n",
    "    plt.scatter(x_plot, y_plot)\n",
    "    plt.xlabel('área construída')\n",
    "    plt.ylabel('valores ajustados')\n",
    "\n",
    "    plt.show()\n",
    "    \n",
    "\n",
    "    "
   ]
  },
  {
   "cell_type": "markdown",
   "id": "1bd7a54c",
   "metadata": {},
   "source": [
    "***Carregando a base de dados***"
   ]
  },
  {
   "cell_type": "code",
   "execution_count": 2,
   "id": "449380c0",
   "metadata": {},
   "outputs": [],
   "source": [
    "data_aptos = pd.read_excel('data_aptos_final_missing_ok.xlsx')\n",
    "data_aptos_num = data_aptos.select_dtypes(exclude='object')\n",
    "\n",
    "data_aptos_num['brinq_salao_jogos'] = 0\n",
    "data_aptos_num.loc[(data_aptos_num['brinquedoteca'] == 1) |\n",
    "                  (data_aptos_num['salão de jogos'] == 1), ['brinq_salao_jogos']] = 1\n"
   ]
  },
  {
   "cell_type": "code",
   "execution_count": 3,
   "id": "b145c283",
   "metadata": {},
   "outputs": [],
   "source": [
    "data_aptos_num.drop(columns=['Unnamed: 0', 'index','data', 'Numero', 'idade do imóvel', \n",
    "                             'distancia_orla', 'andares', 'brinquedoteca', 'salão de jogos', \n",
    "                             'frente mar', 'gás encanado','central de gás', 'banheiros',\n",
    "                             'varanda gourmet', 'espaço gourmet', 'mobiliado'], inplace=True)"
   ]
  },
  {
   "cell_type": "code",
   "execution_count": 102,
   "id": "9a3c7174",
   "metadata": {},
   "outputs": [
    {
     "data": {
      "text/plain": [
       "Index(['id', 'ano_oferta', 'área útil', 'quartos', 'vagas', 'suítes', 'campo',\n",
       "       'churrasqueira', 'sala de ginástica', 'nascente', 'piscina',\n",
       "       'playground', 'salão de festas', 'sauna', 'preco', 'PU', 'lat_bing',\n",
       "       'lon_bing', 'distancia_orla_bing', 'ano_final', 'peso_rua_final',\n",
       "       'avenida_boa_viagem', 'vias_principais', 'brinq_salao_jogos'],\n",
       "      dtype='object')"
      ]
     },
     "execution_count": 102,
     "metadata": {},
     "output_type": "execute_result"
    }
   ],
   "source": [
    "(data_aptos_num.columns)"
   ]
  },
  {
   "cell_type": "code",
   "execution_count": 5,
   "id": "889885c0",
   "metadata": {},
   "outputs": [],
   "source": [
    "X = data_aptos_num[['ano_oferta', 'área útil', 'quartos', 'vagas',\n",
    "       'suítes', 'campo', 'churrasqueira', \n",
    "       'sala de ginástica', 'nascente', 'piscina', 'playground',\n",
    "       'salão de festas', 'sauna', 'lat_bing', 'lon_bing',\n",
    "       'distancia_orla_bing', 'ano_final', 'peso_rua_final',\n",
    "       'avenida_boa_viagem', 'vias_principais', 'brinq_salao_jogos']].copy()\n",
    "\n",
    "X['área útil'] = X['área útil'].apply(np.log)\n",
    "X['peso_rua_final'] = X['peso_rua_final'].apply(np.log)\n",
    "y = data_aptos_num[['preco']].apply(np.log)"
   ]
  },
  {
   "cell_type": "code",
   "execution_count": null,
   "id": "d462e1c0",
   "metadata": {},
   "outputs": [],
   "source": [
    "#X['preco'] = data_aptos_num['preco']\n",
    "#X = X[X['preco'] <= 2000000].copy()\n",
    "#y = X[['preco']].apply(np.log)\n",
    "#X.drop(columns=['preco'], inplace=True)"
   ]
  },
  {
   "cell_type": "code",
   "execution_count": 105,
   "id": "395be1bc",
   "metadata": {},
   "outputs": [
    {
     "data": {
      "text/plain": [
       "Index(['ano_oferta', 'área útil', 'quartos', 'vagas', 'suítes', 'campo',\n",
       "       'churrasqueira', 'sala de ginástica', 'nascente', 'piscina',\n",
       "       'playground', 'salão de festas', 'sauna', 'lat_bing', 'lon_bing',\n",
       "       'distancia_orla_bing', 'ano_final', 'peso_rua_final',\n",
       "       'avenida_boa_viagem', 'vias_principais', 'brinq_salao_jogos'],\n",
       "      dtype='object')"
      ]
     },
     "execution_count": 105,
     "metadata": {},
     "output_type": "execute_result"
    }
   ],
   "source": [
    "X.columns"
   ]
  },
  {
   "cell_type": "markdown",
   "id": "4c3f79f2",
   "metadata": {},
   "source": [
    "***KBest features selection***"
   ]
  },
  {
   "cell_type": "code",
   "execution_count": 92,
   "id": "201cd28f",
   "metadata": {},
   "outputs": [
    {
     "data": {
      "text/html": [
       "<style>#sk-container-id-12 {color: black;background-color: white;}#sk-container-id-12 pre{padding: 0;}#sk-container-id-12 div.sk-toggleable {background-color: white;}#sk-container-id-12 label.sk-toggleable__label {cursor: pointer;display: block;width: 100%;margin-bottom: 0;padding: 0.3em;box-sizing: border-box;text-align: center;}#sk-container-id-12 label.sk-toggleable__label-arrow:before {content: \"▸\";float: left;margin-right: 0.25em;color: #696969;}#sk-container-id-12 label.sk-toggleable__label-arrow:hover:before {color: black;}#sk-container-id-12 div.sk-estimator:hover label.sk-toggleable__label-arrow:before {color: black;}#sk-container-id-12 div.sk-toggleable__content {max-height: 0;max-width: 0;overflow: hidden;text-align: left;background-color: #f0f8ff;}#sk-container-id-12 div.sk-toggleable__content pre {margin: 0.2em;color: black;border-radius: 0.25em;background-color: #f0f8ff;}#sk-container-id-12 input.sk-toggleable__control:checked~div.sk-toggleable__content {max-height: 200px;max-width: 100%;overflow: auto;}#sk-container-id-12 input.sk-toggleable__control:checked~label.sk-toggleable__label-arrow:before {content: \"▾\";}#sk-container-id-12 div.sk-estimator input.sk-toggleable__control:checked~label.sk-toggleable__label {background-color: #d4ebff;}#sk-container-id-12 div.sk-label input.sk-toggleable__control:checked~label.sk-toggleable__label {background-color: #d4ebff;}#sk-container-id-12 input.sk-hidden--visually {border: 0;clip: rect(1px 1px 1px 1px);clip: rect(1px, 1px, 1px, 1px);height: 1px;margin: -1px;overflow: hidden;padding: 0;position: absolute;width: 1px;}#sk-container-id-12 div.sk-estimator {font-family: monospace;background-color: #f0f8ff;border: 1px dotted black;border-radius: 0.25em;box-sizing: border-box;margin-bottom: 0.5em;}#sk-container-id-12 div.sk-estimator:hover {background-color: #d4ebff;}#sk-container-id-12 div.sk-parallel-item::after {content: \"\";width: 100%;border-bottom: 1px solid gray;flex-grow: 1;}#sk-container-id-12 div.sk-label:hover label.sk-toggleable__label {background-color: #d4ebff;}#sk-container-id-12 div.sk-serial::before {content: \"\";position: absolute;border-left: 1px solid gray;box-sizing: border-box;top: 0;bottom: 0;left: 50%;z-index: 0;}#sk-container-id-12 div.sk-serial {display: flex;flex-direction: column;align-items: center;background-color: white;padding-right: 0.2em;padding-left: 0.2em;position: relative;}#sk-container-id-12 div.sk-item {position: relative;z-index: 1;}#sk-container-id-12 div.sk-parallel {display: flex;align-items: stretch;justify-content: center;background-color: white;position: relative;}#sk-container-id-12 div.sk-item::before, #sk-container-id-12 div.sk-parallel-item::before {content: \"\";position: absolute;border-left: 1px solid gray;box-sizing: border-box;top: 0;bottom: 0;left: 50%;z-index: -1;}#sk-container-id-12 div.sk-parallel-item {display: flex;flex-direction: column;z-index: 1;position: relative;background-color: white;}#sk-container-id-12 div.sk-parallel-item:first-child::after {align-self: flex-end;width: 50%;}#sk-container-id-12 div.sk-parallel-item:last-child::after {align-self: flex-start;width: 50%;}#sk-container-id-12 div.sk-parallel-item:only-child::after {width: 0;}#sk-container-id-12 div.sk-dashed-wrapped {border: 1px dashed gray;margin: 0 0.4em 0.5em 0.4em;box-sizing: border-box;padding-bottom: 0.4em;background-color: white;}#sk-container-id-12 div.sk-label label {font-family: monospace;font-weight: bold;display: inline-block;line-height: 1.2em;}#sk-container-id-12 div.sk-label-container {text-align: center;}#sk-container-id-12 div.sk-container {/* jupyter's `normalize.less` sets `[hidden] { display: none; }` but bootstrap.min.css set `[hidden] { display: none !important; }` so we also need the `!important` here to be able to override the default hidden behavior on the sphinx rendered scikit-learn.org. See: https://github.com/scikit-learn/scikit-learn/issues/21755 */display: inline-block !important;position: relative;}#sk-container-id-12 div.sk-text-repr-fallback {display: none;}</style><div id=\"sk-container-id-12\" class=\"sk-top-container\"><div class=\"sk-text-repr-fallback\"><pre>SelectKBest(k=20, score_func=&lt;function f_regression at 0x00000009FDE0D280&gt;)</pre><b>In a Jupyter environment, please rerun this cell to show the HTML representation or trust the notebook. <br />On GitHub, the HTML representation is unable to render, please try loading this page with nbviewer.org.</b></div><div class=\"sk-container\" hidden><div class=\"sk-item\"><div class=\"sk-estimator sk-toggleable\"><input class=\"sk-toggleable__control sk-hidden--visually\" id=\"sk-estimator-id-12\" type=\"checkbox\" checked><label for=\"sk-estimator-id-12\" class=\"sk-toggleable__label sk-toggleable__label-arrow\">SelectKBest</label><div class=\"sk-toggleable__content\"><pre>SelectKBest(k=20, score_func=&lt;function f_regression at 0x00000009FDE0D280&gt;)</pre></div></div></div></div></div>"
      ],
      "text/plain": [
       "SelectKBest(k=20, score_func=<function f_regression at 0x00000009FDE0D280>)"
      ]
     },
     "execution_count": 92,
     "metadata": {},
     "output_type": "execute_result"
    }
   ],
   "source": [
    "selector5 = SelectKBest(f_regression, k =5) \n",
    "selector5.fit(X, y['preco'])\n",
    "\n",
    "selector7 = SelectKBest(f_regression, k =7)\n",
    "selector7.fit(X, y['preco'])\n",
    "\n",
    "selector10 = SelectKBest(f_regression, k =10)\n",
    "selector10.fit(X, y['preco'])\n",
    "\n",
    "selector14 = SelectKBest(f_regression, k =14)\n",
    "selector14.fit(X, y['preco'])\n",
    "\n",
    "selector15 = SelectKBest(f_regression, k =15)\n",
    "selector15.fit(X, y['preco'])\n",
    "\n",
    "selector16 = SelectKBest(f_regression, k =16)\n",
    "selector16.fit(X, y['preco'])\n",
    "\n",
    "selector17 = SelectKBest(f_regression, k =17)\n",
    "selector17.fit(X, y['preco'])\n",
    "\n",
    "selector18 = SelectKBest(f_regression, k =18)\n",
    "selector18.fit(X, y['preco'])\n",
    "\n",
    "selector19 = SelectKBest(f_regression, k =19)\n",
    "selector19.fit(X, y['preco'])\n",
    "\n",
    "selector20 = SelectKBest(f_regression, k =20)\n",
    "selector20.fit(X, y['preco'])\n"
   ]
  },
  {
   "cell_type": "code",
   "execution_count": 93,
   "id": "7cfdc2c9",
   "metadata": {},
   "outputs": [],
   "source": [
    "selecao_MI_5 = X.columns[(selector5.get_support()) == True]\n",
    "selecao_MI_7 = X.columns[(selector7.get_support()) == True]\n",
    "selecao_MI_10 = X.columns[(selector10.get_support()) == True]\n",
    "selecao_MI_14 = X.columns[(selector14.get_support()) == True]\n",
    "selecao_MI_15 = X.columns[(selector15.get_support()) == True]\n",
    "selecao_MI_16 = X.columns[(selector16.get_support()) == True]\n",
    "selecao_MI_17 = X.columns[(selector17.get_support()) == True]\n",
    "selecao_MI_18 = X.columns[(selector18.get_support()) == True]\n",
    "selecao_MI_19 = X.columns[(selector19.get_support()) == True]\n",
    "selecao_MI_20 = X.columns[(selector20.get_support()) == True]\n"
   ]
  },
  {
   "cell_type": "code",
   "execution_count": 100,
   "id": "81eded52",
   "metadata": {},
   "outputs": [
    {
     "data": {
      "text/plain": [
       "Index(['ano_oferta', 'área útil', 'quartos', 'vagas', 'suítes', 'campo',\n",
       "       'churrasqueira', 'piscina', 'playground', 'salão de festas', 'lat_bing',\n",
       "       'lon_bing', 'distancia_orla_bing', 'ano_final', 'avenida_boa_viagem',\n",
       "       'vias_principais', 'brinq_salao_jogos'],\n",
       "      dtype='object')"
      ]
     },
     "execution_count": 100,
     "metadata": {},
     "output_type": "execute_result"
    }
   ],
   "source": [
    "selecao_MI_17"
   ]
  },
  {
   "cell_type": "markdown",
   "id": "9ea7fba6",
   "metadata": {},
   "source": [
    "***Basic feature selection - MLP REGRESSOR***"
   ]
  },
  {
   "cell_type": "code",
   "execution_count": null,
   "id": "7f734a43",
   "metadata": {},
   "outputs": [],
   "source": [
    "models = []\n",
    "models.append(('mlp5', MLPRegressor()))"
   ]
  },
  {
   "cell_type": "code",
   "execution_count": 98,
   "id": "476cc280",
   "metadata": {},
   "outputs": [
    {
     "name": "stdout",
     "output_type": "stream",
     "text": [
      "KFold(n_splits=10, random_state=None, shuffle=True)\n",
      "1\n",
      "2\n",
      "3\n",
      "4\n",
      "5\n",
      "6\n",
      "7\n",
      "8\n",
      "9\n",
      "10\n",
      "### RESULTADOS: ####\n",
      "Média / desvio padrão - 10-fold\n",
      "5:  0.8222 0.0236\n",
      "10:  0.8437 0.0234\n",
      "14:  0.8507 0.0172\n",
      "15:  0.8582 0.017\n",
      "16:  0.8532 0.0204\n",
      "17:  0.9005 0.0177\n",
      "18:  0.8999 0.0169\n",
      "19:  0.8954 0.02\n",
      "20:  0.8983 0.0183\n",
      "mlp_all:  0.8957 0.02\n"
     ]
    }
   ],
   "source": [
    "kf = KFold(n_splits=10, shuffle=True)\n",
    "kf.get_n_splits(X)\n",
    "\n",
    "print(kf)\n",
    "\n",
    "columns_str = [str(x) for x in X.columns]\n",
    "\n",
    "selecao_str = [str(x) for x in selecao_MI_5] \n",
    "indices_5 = [columns_str.index(x) for x in selecao_str]\n",
    "\n",
    "selecao_str = [str(x) for x in selecao_MI_7] \n",
    "indices_7 = [columns_str.index(x) for x in selecao_str]\n",
    "\n",
    "selecao_str = [str(x) for x in selecao_MI_10] \n",
    "indices_10 = [columns_str.index(x) for x in selecao_str]\n",
    "\n",
    "selecao_str = [str(x) for x in selecao_MI_14] \n",
    "indices_14 = [columns_str.index(x) for x in selecao_str]\n",
    "\n",
    "selecao_str = [str(x) for x in selecao_MI_15] \n",
    "indices_15 = [columns_str.index(x) for x in selecao_str]\n",
    "\n",
    "selecao_str = [str(x) for x in selecao_MI_16] \n",
    "indices_16 = [columns_str.index(x) for x in selecao_str]\n",
    "\n",
    "selecao_str = [str(x) for x in selecao_MI_17] \n",
    "indices_17 = [columns_str.index(x) for x in selecao_str]\n",
    "\n",
    "selecao_str = [str(x) for x in selecao_MI_18] \n",
    "indices_18 = [columns_str.index(x) for x in selecao_str]\n",
    "\n",
    "selecao_str = [str(x) for x in selecao_MI_19] \n",
    "indices_19 = [columns_str.index(x) for x in selecao_str]\n",
    "\n",
    "selecao_str = [str(x) for x in selecao_MI_20] \n",
    "indices_20 = [columns_str.index(x) for x in selecao_str]\n",
    "\n",
    "#indices_mlp = [columns_str.index(x) for x in selecao_mlp]\n",
    "\n",
    "\n",
    "score_mlp_5 = []\n",
    "score_mlp_7 = []\n",
    "score_mlp_10 = []\n",
    "score_mlp_14 = []\n",
    "score_mlp_15 = []\n",
    "score_mlp_16 = []\n",
    "score_mlp_17 = []\n",
    "score_mlp_18 = []\n",
    "score_mlp_19 = []\n",
    "score_mlp_20 = []\n",
    "score_mlp_all = []\n",
    "score_LR = []\n",
    "\n",
    "seed = np.random.randint(1000)\n",
    "run = 1\n",
    "\n",
    "for train_index, test_index in kf.split(X):\n",
    "    X_train, X_test = X.iloc[train_index], X.iloc[test_index]\n",
    "    y_train, y_test = y.iloc[train_index], y.iloc[test_index]\n",
    "    \n",
    "    scaler_X = StandardScaler()\n",
    "    scaler_X.fit(X_train)\n",
    "    X_train = scaler_X.transform(X_train)\n",
    "    X_test = scaler_X.transform(X_test)\n",
    "\n",
    "    scaler_y = StandardScaler()\n",
    "    scaler_y.fit(y_train)\n",
    "    y_train = scaler_y.transform(y_train)\n",
    "    y_test = scaler_y.transform(y_test)\n",
    "    \n",
    "    mlp = MLPRegressor(max_iter=500, early_stopping=True, learning_rate_init=0.01, random_state=seed).fit(X_train[:, indices_5], y_train.ravel())\n",
    "    score_mlp_5.append(mlp.score(X_test[:, indices_5], y_test.ravel()))\n",
    "    \n",
    "    mlp = MLPRegressor(max_iter=500, early_stopping=True, learning_rate_init=0.01, random_state=seed).fit(X_train[:, indices_7], y_train.ravel())\n",
    "    score_mlp_7.append(mlp.score(X_test[:, indices_7], y_test.ravel()))\n",
    "\n",
    "    \n",
    "    mlp = MLPRegressor(max_iter=500, early_stopping=True, learning_rate_init=0.01, random_state=seed).fit(X_train[:, indices_10], y_train.ravel())\n",
    "    score_mlp_10.append(mlp.score(X_test[:, indices_10], y_test.ravel()))\n",
    "    \n",
    "    mlp = MLPRegressor(max_iter=500, early_stopping=True, learning_rate_init=0.01, random_state=seed).fit(X_train[:, indices_14], y_train.ravel())\n",
    "    score_mlp_14.append(mlp.score(X_test[:, indices_14], y_test.ravel()))\n",
    "\n",
    "\n",
    "    mlp = MLPRegressor(max_iter=500, early_stopping=True, learning_rate_init=0.01, random_state=seed).fit(X_train[:, indices_15], y_train.ravel())\n",
    "    score_mlp_15.append(mlp.score(X_test[:, indices_15], y_test.ravel()))\n",
    "\n",
    "    \n",
    "    mlp = MLPRegressor(max_iter=500, early_stopping=True, learning_rate_init=0.01, random_state=seed).fit(X_train[:, indices_16], y_train.ravel())\n",
    "    score_mlp_16.append(mlp.score(X_test[:, indices_16], y_test.ravel()))\n",
    "\n",
    "    mlp = MLPRegressor(max_iter=500, early_stopping=True, learning_rate_init=0.01, random_state=seed).fit(X_train[:, indices_17], y_train.ravel())\n",
    "    score_mlp_17.append(mlp.score(X_test[:, indices_17], y_test.ravel()))\n",
    "    \n",
    "    mlp = MLPRegressor(max_iter=500, early_stopping=True, learning_rate_init=0.01, random_state=seed).fit(X_train[:, indices_18], y_train.ravel())\n",
    "    score_mlp_18.append(mlp.score(X_test[:, indices_18], y_test.ravel()))\n",
    "    \n",
    "    mlp = MLPRegressor(max_iter=500, early_stopping=True, learning_rate_init=0.01, random_state=seed).fit(X_train[:, indices_19], y_train.ravel())\n",
    "    score_mlp_19.append(mlp.score(X_test[:, indices_19], y_test.ravel()))\n",
    "\n",
    "    mlp = MLPRegressor(max_iter=500, early_stopping=True, learning_rate_init=0.01, random_state=seed).fit(X_train[:, indices_20], y_train.ravel())\n",
    "    score_mlp_20.append(mlp.score(X_test[:, indices_20], y_test.ravel()))\n",
    "    \n",
    "    mlp = MLPRegressor(max_iter=500, early_stopping=True, learning_rate_init=0.01, random_state=seed).fit(X_train, y_train.ravel())\n",
    "    score_mlp_all.append(mlp.score(X_test, y_test.ravel()))\n",
    "    \n",
    "#    lr = LinearRegression().fit(X_train[:, indices_15], y_train.ravel())\n",
    "#    score_LR.append(lr.score(X_test[:, indices_15], y_test.ravel()))\n",
    "\n",
    "\n",
    "    \n",
    "    print(run)\n",
    "    run = run + 1\n",
    "    \n",
    "print(\"### RESULTADOS: ####\")\n",
    "print('Média / desvio padrão - 10-fold')\n",
    "\n",
    "print('5: ', np.mean(score_mlp_5).round(4), np.std(score_mlp_5).round(4))\n",
    "print('10: ',np.mean(score_mlp_10).round(4), np.std(score_mlp_10).round(4))\n",
    "print('14: ',np.mean(score_mlp_14).round(4), np.std(score_mlp_14).round(4))\n",
    "print('15: ',np.mean(score_mlp_15).round(4), np.std(score_mlp_15).round(4))\n",
    "print('16: ',np.mean(score_mlp_16).round(4), np.std(score_mlp_16).round(4))\n",
    "print('17: ',np.mean(score_mlp_17).round(4), np.std(score_mlp_17).round(4))\n",
    "print('18: ',np.mean(score_mlp_18).round(4), np.std(score_mlp_18).round(4))\n",
    "print('19: ',np.mean(score_mlp_19).round(4), np.std(score_mlp_19).round(4))\n",
    "print('20: ',np.mean(score_mlp_20).round(4), np.std(score_mlp_20).round(4))\n",
    "print('mlp_all: ',np.mean(score_mlp_all).round(4), np.std(score_mlp_all).round(4))\n"
   ]
  },
  {
   "cell_type": "markdown",
   "id": "b2dbfdba",
   "metadata": {},
   "source": [
    "MLP TUNNING"
   ]
  },
  {
   "cell_type": "code",
   "execution_count": null,
   "id": "d045ce05",
   "metadata": {},
   "outputs": [],
   "source": [
    "X_train, X_test, y_train, y_test = train_test_split(X[selecao_MI_17], y, test_size=0.1, \n",
    "                                                    random_state=np.random.randint(1000))\n",
    "\n",
    "scaler_X = StandardScaler()\n",
    "scaler_X.fit(X_train)\n",
    "X_train = scaler_X.transform(X_train)\n",
    "X_test = scaler_X.transform(X_test)\n",
    "\n",
    "scaler_y = StandardScaler()\n",
    "scaler_y.fit(y_train)\n",
    "y_train = scaler_y.transform(y_train)\n",
    "y_test = scaler_y.transform(y_test)"
   ]
  },
  {
   "cell_type": "code",
   "execution_count": 172,
   "id": "c79c4b3f",
   "metadata": {},
   "outputs": [],
   "source": [
    "hidden_layer_sizes=[(25,), (50,), (100,)]\n",
    "max_iter=[500, 600] \n",
    "validation_fraction=[0.1, 0.25]\n",
    "early_stopping=[True]\n",
    "learning_rate_init=[0.01, 0.001]\n",
    "batch_size = [200, 500]\n",
    "\n",
    "random_grid = {'hidden_layer_sizes': hidden_layer_sizes,\n",
    "              'max_iter': max_iter,\n",
    "              'validation_fraction': validation_fraction,\n",
    "              'early_stopping': early_stopping,\n",
    "              'learning_rate_init': learning_rate_init,\n",
    "              'batch_size': batch_size}"
   ]
  },
  {
   "cell_type": "code",
   "execution_count": 173,
   "id": "b67e17f9",
   "metadata": {},
   "outputs": [
    {
     "name": "stdout",
     "output_type": "stream",
     "text": [
      "seed: 902\n"
     ]
    }
   ],
   "source": [
    "\n",
    "print('seed:', seed)\n",
    "mlp = MLPRegressor(random_state=0)\n",
    "\n",
    "mlp_search = GridSearchCV(estimator = mlp, param_grid=random_grid, \n",
    "                          verbose=2, n_jobs = -1, scoring='neg_mean_squared_error')"
   ]
  },
  {
   "cell_type": "code",
   "execution_count": 174,
   "id": "8bfbb910",
   "metadata": {
    "scrolled": true
   },
   "outputs": [
    {
     "name": "stdout",
     "output_type": "stream",
     "text": [
      "Fitting 5 folds for each of 48 candidates, totalling 240 fits\n"
     ]
    },
    {
     "data": {
      "text/plain": [
       "{'batch_size': 200,\n",
       " 'early_stopping': True,\n",
       " 'hidden_layer_sizes': (50,),\n",
       " 'learning_rate_init': 0.01,\n",
       " 'max_iter': 500,\n",
       " 'validation_fraction': 0.1}"
      ]
     },
     "execution_count": 174,
     "metadata": {},
     "output_type": "execute_result"
    }
   ],
   "source": [
    "mlp_search.fit(np.array(X[selecao_MI_17]), np.array(y).ravel())\n",
    "mlp_search.best_params_"
   ]
  },
  {
   "cell_type": "markdown",
   "id": "f5f47827",
   "metadata": {},
   "source": [
    "VALIDAÇÃO DO MLP TUNNING"
   ]
  },
  {
   "cell_type": "code",
   "execution_count": 179,
   "id": "3db047a0",
   "metadata": {},
   "outputs": [
    {
     "name": "stdout",
     "output_type": "stream",
     "text": [
      "KFold(n_splits=10, random_state=None, shuffle=True)\n",
      "1\n",
      "2\n",
      "3\n",
      "4\n",
      "5\n",
      "6\n",
      "7\n",
      "8\n",
      "9\n",
      "10\n",
      "### RESULTADOS: ####\n",
      "Média / desvio padrão - 10-fold\n",
      "17 (100,):  0.8955 0.015\n",
      "17 (50,):  0.8986 0.0172\n"
     ]
    }
   ],
   "source": [
    "kf = KFold(n_splits=10, shuffle=True)\n",
    "kf.get_n_splits(X)\n",
    "\n",
    "print(kf)\n",
    "\n",
    "columns_str = [str(x) for x in X.columns]\n",
    "\n",
    "selecao_str = [str(x) for x in selecao_MI_17] \n",
    "indices_17 = [columns_str.index(x) for x in selecao_str]\n",
    "\n",
    "score_mlp_17_100_neuronios = []\n",
    "score_mlp_17_50_neuronios = []\n",
    "\n",
    "seed = np.random.randint(1000)\n",
    "run = 1\n",
    "\n",
    "for train_index, test_index in kf.split(X):\n",
    "    X_train, X_test = X.iloc[train_index], X.iloc[test_index]\n",
    "    y_train, y_test = y.iloc[train_index], y.iloc[test_index]\n",
    "    \n",
    "    scaler_X = StandardScaler()\n",
    "    scaler_X.fit(X_train)\n",
    "    X_train = scaler_X.transform(X_train)\n",
    "    X_test = scaler_X.transform(X_test)\n",
    "\n",
    "    scaler_y = StandardScaler()\n",
    "    scaler_y.fit(y_train)\n",
    "    y_train = scaler_y.transform(y_train)\n",
    "    y_test = scaler_y.transform(y_test)\n",
    "    \n",
    "    mlp = MLPRegressor(hidden_layer_sizes=(100,), max_iter=500, early_stopping=True, learning_rate_init=0.01,\n",
    "                       validation_fraction=0.1, random_state=seed).fit(X_train[:, indices_17], y_train.ravel())\n",
    "    score_mlp_17_100_neuronios.append(mlp.score(X_test[:, indices_17], y_test.ravel()))\n",
    "\n",
    "    mlp = MLPRegressor(hidden_layer_sizes=(100,), max_iter=1500, early_stopping=True, learning_rate_init=0.001,\n",
    "                       validation_fraction=0.1, random_state=seed).fit(X_train[:, indices_17], y_train.ravel())\n",
    "    score_mlp_17_50_neuronios.append(mlp.score(X_test[:, indices_17], y_test.ravel()))\n",
    "\n",
    "    \n",
    "    print(run)\n",
    "    run = run + 1\n",
    "    \n",
    "print(\"### RESULTADOS: ####\")\n",
    "print('Média / desvio padrão - 10-fold')\n",
    "\n",
    "print('17 (100,): ',np.mean(score_mlp_17_100_neuronios).round(4), np.std(score_mlp_17_100_neuronios).round(4))\n",
    "print('17 (50,): ',np.mean(score_mlp_17_50_neuronios).round(4), np.std(score_mlp_17_50_neuronios).round(4))\n"
   ]
  },
  {
   "cell_type": "markdown",
   "id": "2158fe97",
   "metadata": {},
   "source": [
    "***Seleção via MLP (não utilizado)***"
   ]
  },
  {
   "cell_type": "code",
   "execution_count": null,
   "id": "d452a19c",
   "metadata": {},
   "outputs": [],
   "source": [
    "scaler_X = StandardScaler()\n",
    "scaler_X.fit(X)\n",
    "X_sel = scaler_X.transform(X)\n",
    "\n",
    "scaler_y = StandardScaler()\n",
    "scaler_y.fit(y)\n",
    "y_sel = scaler_y.transform(y)\n",
    "\n",
    "sfs_selector = SequentialFeatureSelector(estimator=MLPRegressor(max_iter=500, early_stopping=True, learning_rate_init=0.01), n_features_to_select = 'auto', cv=5, direction ='backward')\n",
    "sfs_selector.fit(X_sel, y_sel.ravel())\n",
    "\n",
    "selecao_mlp = X.columns[(sfs_selector.get_support()) == True].tolist()\n",
    "print(selecao_mlp)\n",
    "\n",
    "#resultado backward - mlp:\n",
    "# ['ano_oferta', 'área útil', 'vagas', 'churrasqueira', 'espaço gourmet', 'central de gás', 'mobiliado', 'playground', 'salão de jogos', 'sauna', 'varanda gourmet', 'lon_bing', 'distancia_orla_bing', 'ano_final', 'avenida_boa_viagem']"
   ]
  },
  {
   "cell_type": "markdown",
   "id": "12c3ec58",
   "metadata": {},
   "source": [
    "***Seleção atributos regressão linear***"
   ]
  },
  {
   "cell_type": "code",
   "execution_count": 190,
   "id": "9affd145",
   "metadata": {},
   "outputs": [
    {
     "name": "stdout",
     "output_type": "stream",
     "text": [
      "['ano_oferta', 'área útil', 'vagas', 'suítes', 'sala de ginástica', 'lat_bing', 'lon_bing', 'distancia_orla_bing', 'ano_final', 'avenida_boa_viagem']\n",
      "size: 10\n"
     ]
    }
   ],
   "source": [
    "sfs_selector = SequentialFeatureSelector(estimator=LinearRegression(), \n",
    "                                         n_features_to_select = 'auto', \n",
    "                                         cv=10, direction ='forward', tol=0.0)\n",
    "sfs_selector.fit(X, y)\n",
    "selecao_lr = X.columns[(sfs_selector.get_support()) == True].tolist()\n",
    "print(selecao_lr)\n",
    "print('size:', len(selecao_lr))"
   ]
  },
  {
   "cell_type": "code",
   "execution_count": 80,
   "id": "538b6b89",
   "metadata": {},
   "outputs": [
    {
     "data": {
      "text/plain": [
       "10"
      ]
     },
     "execution_count": 80,
     "metadata": {},
     "output_type": "execute_result"
    }
   ],
   "source": [
    "len(selecao_lr)"
   ]
  },
  {
   "cell_type": "markdown",
   "id": "d059d7e9",
   "metadata": {},
   "source": [
    "### COMPARANDO MODELOS"
   ]
  },
  {
   "cell_type": "markdown",
   "id": "c48279f4",
   "metadata": {},
   "source": [
    "***MLP, GBM-R, Linear Regression, CART***"
   ]
  },
  {
   "cell_type": "code",
   "execution_count": 252,
   "id": "d93037d6",
   "metadata": {
    "scrolled": false
   },
   "outputs": [
    {
     "name": "stdout",
     "output_type": "stream",
     "text": [
      "KFold(n_splits=10, random_state=1, shuffle=True)\n",
      "mlp 17:  0.8892942512143722\n",
      "rf:  0.9150242339130581\n",
      "lr 15:  0.869232438215755\n",
      "GBM:  0.9006761786337341\n",
      "1\n",
      "\n",
      "mlp 17:  0.9086359652128052\n",
      "rf:  0.8954787937008537\n",
      "lr 15:  0.9038718955350719\n",
      "GBM:  0.9141056349912484\n",
      "2\n",
      "\n",
      "mlp 17:  0.8890624860619482\n",
      "rf:  0.8877719112982688\n",
      "lr 15:  0.8707588157034623\n",
      "GBM:  0.9127405432866113\n",
      "3\n",
      "\n",
      "mlp 17:  0.91426748153527\n",
      "rf:  0.9064067528401385\n",
      "lr 15:  0.9077571370971276\n",
      "GBM:  0.9313969987645658\n",
      "4\n",
      "\n",
      "mlp 17:  0.9195671089824349\n",
      "rf:  0.9279916482299363\n",
      "lr 15:  0.9123428430669124\n",
      "GBM:  0.9336153776870412\n",
      "5\n",
      "\n",
      "mlp 17:  0.9026355739585203\n",
      "rf:  0.9145350604952494\n",
      "lr 15:  0.8930376073013767\n",
      "GBM:  0.9246780787893253\n",
      "6\n",
      "\n",
      "mlp 17:  0.9035486799523986\n",
      "rf:  0.9091368898141841\n",
      "lr 15:  0.8873438797181672\n",
      "GBM:  0.9188489678500942\n",
      "7\n",
      "\n",
      "mlp 17:  0.8749086776303937\n",
      "rf:  0.9126280973304476\n",
      "lr 15:  0.8686374987220264\n",
      "GBM:  0.921103314244875\n",
      "8\n",
      "\n",
      "mlp 17:  0.9064940456084527\n",
      "rf:  0.9009033427529312\n",
      "lr 15:  0.8998688810704469\n",
      "GBM:  0.9026905027073493\n",
      "9\n",
      "\n",
      "mlp 17:  0.8834448506550392\n",
      "rf:  0.8976326118369826\n",
      "lr 15:  0.87119593005737\n",
      "GBM:  0.9132938541278441\n",
      "10\n",
      "\n",
      "### RESULTADOS: ###\n",
      "mlp_17:  0.8992 0.0136\n",
      "RF:  0.9068 0.0111\n",
      "LR_15:  0.8884 0.0165\n",
      "GBM:  0.9173 0.0104\n"
     ]
    }
   ],
   "source": [
    "seed = 1 #np.random.randint(1000)\n",
    "\n",
    "kf = KFold(n_splits=10, shuffle=True, random_state=seed)\n",
    "kf.get_n_splits(X)\n",
    "\n",
    "print(kf)\n",
    "\n",
    "columns_str = [str(x) for x in X.columns]\n",
    "\n",
    "selecao_str = [str(x) for x in selecao_MI_15] \n",
    "indices_15 = [columns_str.index(x) for x in selecao_str]\n",
    "\n",
    "selecao_str = [str(x) for x in selecao_lr] \n",
    "indices_lr = [columns_str.index(x) for x in selecao_str]\n",
    "\n",
    "\n",
    "\n",
    "#indices_mlp = [columns_str.index(x) for x in selecao_mlp]\n",
    "\n",
    "score_mlp_15 = []\n",
    "score_mlp_17 = []\n",
    "score_gbr = []\n",
    "score_gbr2 = []\n",
    "score_LR = []\n",
    "score_cart = []\n",
    "score_bagging = []\n",
    "score_bagging_tree = []\n",
    "score_RF = []\n",
    "\n",
    "\n",
    "run = 1\n",
    "\n",
    "for train_index, test_index in kf.split(X):\n",
    "    X_train, X_test = X.iloc[train_index], X.iloc[test_index]\n",
    "    y_train, y_test = y.iloc[train_index], y.iloc[test_index]\n",
    "    \n",
    "    scaler_X = StandardScaler()\n",
    "    scaler_X.fit(X_train)\n",
    "    X_train = scaler_X.transform(X_train)\n",
    "    X_test = scaler_X.transform(X_test)\n",
    "\n",
    "    scaler_y = StandardScaler()\n",
    "    scaler_y.fit(y_train)\n",
    "    y_train = scaler_y.transform(y_train)\n",
    "    y_test = scaler_y.transform(y_test)\n",
    "    \n",
    "\n",
    " #   mlp = MLPRegressor(hidden_layer_sizes=(100,), max_iter=600, early_stopping=True, learning_rate_init=0.01, \n",
    " #                      random_state=seed).fit(X_train[:, indices_15], y_train.ravel())\n",
    " #   score_mlp_15.append(mlp.score(X_test[:, indices_15], y_test.ravel()))\n",
    " #   print('mlp 15: ', mlp.score(X_test[:, indices_15], y_test.ravel()))\n",
    "    \n",
    "    mlp_17 = MLPRegressor(hidden_layer_sizes=(100,), max_iter=600, early_stopping=True, learning_rate_init=0.01, \n",
    "                          activation='relu',random_state=seed, validation_fraction=0.1).fit(X_train[:, indices_17], y_train.ravel())\n",
    "    score_mlp_17.append(mlp_17.score(X_test[:, indices_17], y_test.ravel()))\n",
    "    print('mlp 17: ', mlp_17.score(X_test[:, indices_17], y_test.ravel()))\n",
    "\n",
    "    \n",
    "#    mlp_to_bag = MLPRegressor(max_iter=500, early_stopping=False, learning_rate_init=0.01, random_state=seed)\n",
    "    \n",
    "#    mlp_bag = BaggingRegressor(base_estimator=mlp_to_bag, n_estimators=5, random_state=None).fit(X_train[:, indices_17], y_train.ravel())\n",
    "#    score_bagging.append(mlp_bag.score(X_test[:, indices_17], y_test.ravel()))\n",
    "#    print('mlp_bag: ',mlp_bag.score(X_test[:, indices_17], y_test.ravel()))\n",
    "\n",
    "\n",
    "#    cart = tree.DecisionTreeRegressor(min_samples_leaf=10, max_depth=10).fit(X_train, y_train.ravel())\n",
    "  #  cart = tree.DecisionTreeRegressor().fit(X_train, y_train.ravel())\n",
    "  #  score_cart.append(cart.score(X_test, y_test.ravel()))\n",
    "  #  print('CART: ', cart.score(X_test, y_test.ravel()))\n",
    "    \n",
    " #   cart_bag = BaggingRegressor(base_estimator=cart, n_estimators=99, random_state=None).fit(X_train, y_train.ravel())\n",
    " #   score_bagging_tree.append(cart_bag.score(X_test, y_test.ravel()))\n",
    " #   print('CART_bag: ', cart_bag.score(X_test, y_test.ravel()))\n",
    "    \n",
    "    rf = RandomForestRegressor(n_estimators=300, random_state=seed).fit(X_train, y_train.ravel())\n",
    "    score_RF.append(rf.score(X_test, y_test.ravel()))\n",
    "    print('rf: ', rf.score(X_test, y_test.ravel()))\n",
    "    \n",
    "\n",
    "        \n",
    "    lr = LinearRegression().fit(X_train[:, indices_lr], y_train.ravel())\n",
    "    score_LR.append(lr.score(X_test[:, indices_lr], y_test.ravel()))\n",
    "    print('lr 15: ', lr.score(X_test[:, indices_lr], y_test.ravel()))\n",
    "    \n",
    "    \n",
    "    params = {\n",
    "        \"n_estimators\": 2000,\n",
    "        \"max_depth\": 4,\n",
    "        \"min_samples_split\": 2,#20,\n",
    "        'min_samples_leaf': 1, #default = 1; best=20\n",
    "        \"learning_rate\": 0.01,\n",
    "        \"loss\": \"squared_error\",\n",
    "        'subsample': 0.7,\n",
    "        }\n",
    "\n",
    "    reg = GradientBoostingRegressor(**params, random_state=seed).fit(X_train, y_train.ravel())\n",
    "    score_gbr.append(reg.score(X_test, y_test.ravel()))\n",
    "    print('GBM: ', reg.score(X_test, y_test.ravel()))\n",
    "\n",
    "    params2 = {\n",
    "        \"n_estimators\": 200,#3000,\n",
    "        \"max_depth\": 4,\n",
    "        \"min_samples_split\": 2,\n",
    "        'min_samples_leaf': 1, #default = 1\n",
    "        \"learning_rate\": 0.1, #boa 0.01 com 2000 ou 3000 árvores\n",
    "        \"loss\": \"squared_error\",\n",
    "        'subsample': 1,\n",
    "        }\n",
    "\n",
    " #   reg2 = GradientBoostingRegressor(**params2).fit(X_train, y_train.ravel())\n",
    " #   score_gbr2.append(reg2.score(X_test, y_test.ravel()))\n",
    " #   print('GBM2: ', reg2.score(X_test, y_test.ravel()))\n",
    "    \n",
    "    print(run)\n",
    "    print()\n",
    "    run = run + 1\n",
    "    \n",
    "    \n",
    "print(\"### RESULTADOS: ###\")\n",
    "\n",
    "#print('mlp_15: ',np.mean(score_mlp_15), np.std(score_mlp_15))\n",
    "print('mlp_17: ',np.mean(score_mlp_17).round(4), np.std(score_mlp_17).round(4))\n",
    "#print('mlp_bag: ', np.mean(score_bagging), np.std(score_bagging))\n",
    "print('RF: ', np.mean(score_RF).round(4), np.std(score_RF).round(4))\n",
    "#print('CART: ', np.mean(score_cart), np.std(score_cart))\n",
    "#print('CART_bag: ', np.mean(score_bagging_tree), np.std(score_cart))\n",
    "print('LR_15: ', np.mean(score_LR).round(4), np.std(score_LR).round(4))\n",
    "print('GBM: ', np.mean(score_gbr).round(4), np.std(score_gbr).round(4))\n",
    "#print('GBM2: ', np.mean(score_gbr2), np.std(score_gbr2))\n",
    "\n"
   ]
  },
  {
   "cell_type": "code",
   "execution_count": 294,
   "id": "7b852fd6",
   "metadata": {},
   "outputs": [
    {
     "name": "stdout",
     "output_type": "stream",
     "text": [
      "-8.1221278 -34.9003993\n"
     ]
    }
   ],
   "source": [
    "print(np.median(data_aptos_num['lat_bing']), np.median(data_aptos_num['lon_bing']))"
   ]
  },
  {
   "cell_type": "code",
   "execution_count": 297,
   "id": "96ad3732",
   "metadata": {},
   "outputs": [],
   "source": [
    "\n",
    "#teste inferência\n",
    "ano_oferta = 2022\n",
    "area = 85 #np.mean(data_aptos_num['área útil']) #mario: 85\n",
    "quartos = int(np.mean(data_aptos_num['quartos']))#3\n",
    "vagas = int(np.mean(data_aptos_num['vagas']))#2\n",
    "suites = int(np.mean(data_aptos_num['suítes'])) # 1\n",
    "campo = 0\n",
    "churrasqueira = 1 #1\n",
    "sala_ginastica = 0\n",
    "nascente = 0\n",
    "piscina = 0\n",
    "playground = 0\n",
    "salao_festas = 0\n",
    "sauna = 0\n",
    "lat_bing =  np.median(data_aptos_num['lat_bing']) #-8.1415356769\n",
    "lon_bing = np.median(data_aptos_num['lat_bing']) #-34.90978355\n",
    "distancia_orla_bing = 439\n",
    "ano_final = 2006 #mediana dos anos: 2006\n",
    "peso_rua_final = np.log(132)\n",
    "avenida_boa_viagem = 0\n",
    "vias_principais = 0\n",
    "brinq_salao_jogos = 0"
   ]
  },
  {
   "cell_type": "code",
   "execution_count": 298,
   "id": "719dd963",
   "metadata": {},
   "outputs": [
    {
     "data": {
      "text/plain": [
       "127.42941852117731"
      ]
     },
     "execution_count": 298,
     "metadata": {},
     "output_type": "execute_result"
    }
   ],
   "source": [
    "np.mean(data_aptos_num['área útil'])"
   ]
  },
  {
   "cell_type": "code",
   "execution_count": 303,
   "id": "213a7e97",
   "metadata": {
    "scrolled": false
   },
   "outputs": [
    {
     "name": "stdout",
     "output_type": "stream",
     "text": [
      "[2022, 85, 3, 1, 1, 0, 1, 0, 0, 0, 0, 0, 0, -8.1221278, -8.1221278, 439, 2006, 4.882801922586371, 0, 0, 0]\n",
      "apto mário:\n",
      "mlp: 8.18979173227752e+54\n",
      "lr: 2.48475e-318\n",
      "RF: 621238.3519953252\n",
      "GBM: 866460.7304624942\n"
     ]
    },
    {
     "data": {
      "image/png": "[encoded data removed]",
      "text/plain": [
       "<Figure size 720x576 with 1 Axes>"
      ]
     },
     "metadata": {
      "needs_background": "light"
     },
     "output_type": "display_data"
    }
   ],
   "source": [
    "#reg = cart_bag\n",
    "# anos 2016 e 2018\n",
    "warnings.filterwarnings(\"ignore\")\n",
    "\n",
    "min = np.percentile(X['área útil'], 5)#np.median(X['área útil'])\n",
    "min = int(np.exp(min))\n",
    "#min = int(min)\n",
    "\n",
    "max = np.percentile(X['área útil'], 95)\n",
    "max = int(np.exp(max))\n",
    "#max = int(max)\n",
    "\n",
    "x_plot = [i for i in range(min, max)]\n",
    "\n",
    "dado_teste = [ano_oferta, area, quartos,vagas, suites, campo, churrasqueira, \n",
    "         sala_ginastica, nascente, piscina, \n",
    "         playground, salao_festas, sauna, lat_bing, lon_bing, \n",
    "         distancia_orla_bing, ano_final, peso_rua_final, \n",
    "         avenida_boa_viagem, vias_principais, brinq_salao_jogos]\n",
    "\n",
    "print(dado_teste)\n",
    "\n",
    "#teste = [2022, np.log(85), 3, 2, 2, 1, 0, 0, 1, 0, 0, 0, 1, 1, 0, 0, 1, 0, 1, 0, 0, 0, -8.1179193, -34.894645, 50, 2016, 69, 0, 0]\n",
    "#mario = teste\n",
    "\n",
    "y_plot_mlp = []\n",
    "y_plot_lr = []\n",
    "y_plot_rf = []\n",
    "y_plot_gbm = []\n",
    "\n",
    "\n",
    "\n",
    "for i in x_plot:\n",
    "    \n",
    "    dado_teste[1] = np.log(i)    \n",
    "    #dado_teste[1] = i    \n",
    "    #dado_teste[18] = i    \n",
    "\n",
    "    dado_teste_t = np.array(dado_teste).reshape(1,-1)\n",
    "\n",
    "    dado_teste_t = scaler_X.transform(dado_teste_t)\n",
    "\n",
    "    y_rf = rf.predict(dado_teste_t) #REGRESSOR\n",
    "    y_gbm = reg.predict(dado_teste_t) #REGRESSOR\n",
    "    \n",
    "    dado_teste_mlp = dado_teste_t[0][indices_17].reshape(1,-1)    \n",
    "    y_mlp = mlp_17.predict(dado_teste_mlp) #REGRESSOR\n",
    "    \n",
    "    dado_teste_lr = dado_teste_t[0][indices_lr].reshape(1,-1)\n",
    "    y_lr = lr.predict(dado_teste_lr) #REGRESSOR\n",
    "    #y_rf = (y_mlp + y_lr + y_gbm)/3 #REGRESSOR    \n",
    "    \n",
    "    y_mlp = scaler_y.inverse_transform(y_mlp.reshape(-1,1))\n",
    "    y_lr = scaler_y.inverse_transform(y_lr.reshape(-1,1))\n",
    "    y_rf = scaler_y.inverse_transform(y_rf.reshape(-1,1))\n",
    "    y_gbm = scaler_y.inverse_transform(y_gbm.reshape(-1,1))\n",
    "    \n",
    "    \n",
    "    y_plot_mlp.append(np.exp(y_mlp)[0][0])\n",
    "    y_plot_lr.append(np.exp(y_lr)[0][0])\n",
    "    y_plot_rf.append(np.exp(y_rf)[0][0])\n",
    "    y_plot_gbm.append(np.exp(y_gbm)[0][0])\n",
    "    \n",
    "#    y_plot_mlp.append((y_mlp)[0][0])\n",
    "#    y_plot_lr.append((y_lr)[0][0])\n",
    "#    y_plot_rf.append((y_rf)[0][0])\n",
    "#    y_plot_gbm.append((y_gbm)[0][0])\n",
    "\n",
    "    \n",
    "    if i == 170:\n",
    "        print('apto mário:')\n",
    "        print('mlp:',np.exp(y_mlp)[0][0])\n",
    "        print('lr:',np.exp(y_lr)[0][0])\n",
    "        print('RF:',np.exp(y_rf)[0][0])\n",
    "        print('GBM:',np.exp(y_gbm)[0][0])\n",
    "\n",
    "#        print('mlp:',(y_mlp)[0][0])\n",
    "#        print('lr:',(y_lr)[0][0])\n",
    "#        print('RF:',(y_rf)[0][0])\n",
    "#        print('GBM:',(y_gbm)[0][0])\n",
    "\n",
    "\n",
    "plt.figure(figsize=(10, 8))\n",
    "plt.scatter(x_plot, y_plot_mlp)\n",
    "plt.scatter(x_plot, y_plot_lr)\n",
    "plt.scatter(x_plot, y_plot_rf)\n",
    "plt.scatter(x_plot, y_plot_gbm)\n",
    "plt.xlabel('áreas')\n",
    "plt.ylabel('valores ajustados')\n",
    "\n",
    "plt.show()"
   ]
  },
  {
   "cell_type": "code",
   "execution_count": 253,
   "id": "119efb65",
   "metadata": {},
   "outputs": [
    {
     "data": {
      "text/plain": [
       "Text(0.5, 0, 'Gradient Boosting Regression Feature Importance')"
      ]
     },
     "execution_count": 253,
     "metadata": {},
     "output_type": "execute_result"
    },
    {
     "data": {
      "image/png": "[encoded data removed]",
      "text/plain": [
       "<Figure size 576x576 with 1 Axes>"
      ]
     },
     "metadata": {
      "needs_background": "light"
     },
     "output_type": "display_data"
    }
   ],
   "source": [
    "gbr = reg\n",
    "sorted_idx = gbr.feature_importances_.argsort()\n",
    "plt.figure(figsize=(8, 8))\n",
    "plt.barh(X.columns[sorted_idx], gbr.feature_importances_[sorted_idx])\n",
    "plt.xlabel(\"Gradient Boosting Regression Feature Importance\")"
   ]
  },
  {
   "cell_type": "markdown",
   "id": "b3474b28",
   "metadata": {},
   "source": [
    "MLP scatterplot"
   ]
  },
  {
   "cell_type": "code",
   "execution_count": 290,
   "id": "b7ad92fa",
   "metadata": {
    "scrolled": false
   },
   "outputs": [
    {
     "data": {
      "image/png": "[encoded data removed]",
      "text/plain": [
       "<Figure size 360x360 with 1 Axes>"
      ]
     },
     "metadata": {
      "needs_background": "light"
     },
     "output_type": "display_data"
    }
   ],
   "source": [
    "x_plot = np.exp(scaler_y.inverse_transform(y_test))\n",
    "\n",
    "y_pred_test = (mlp_17.predict(X_test[:,indices_17]))\n",
    "y_plot = np.exp(scaler_y.inverse_transform([y_pred_test]))\n",
    "\n",
    "plt.figure(figsize=(5, 5))\n",
    "plt.scatter(x_plot, y_plot)\n",
    "plt.xlabel('preços observados')\n",
    "plt.ylabel('valores preditos')\n",
    "x = [x for x in range(10000000)]\n",
    "plt.plot(x, x, '--c')\n",
    "plt.title('MLP')\n",
    "plt.show()\n",
    "x = 0"
   ]
  },
  {
   "cell_type": "markdown",
   "id": "ce259108",
   "metadata": {},
   "source": [
    "Random Forest scatterplot"
   ]
  },
  {
   "cell_type": "code",
   "execution_count": 291,
   "id": "dcb574b7",
   "metadata": {},
   "outputs": [
    {
     "data": {
      "image/png": "[encoded data removed]",
      "text/plain": [
       "<Figure size 360x360 with 1 Axes>"
      ]
     },
     "metadata": {
      "needs_background": "light"
     },
     "output_type": "display_data"
    }
   ],
   "source": [
    "x_plot = np.exp(scaler_y.inverse_transform(y_test))\n",
    "\n",
    "y_pred_test = (rf.predict(X_test))\n",
    "y_plot = np.exp(scaler_y.inverse_transform([y_pred_test]))\n",
    "\n",
    "plt.figure(figsize=(5, 5))\n",
    "plt.scatter(x_plot, y_plot)\n",
    "plt.xlabel('preços observados')\n",
    "plt.ylabel('valores preditos')\n",
    "x = [x for x in range(10000000)]\n",
    "plt.plot(x, x, '--c')\n",
    "plt.title('RANDOM FOREST')\n",
    "plt.show()\n",
    "x = 0"
   ]
  },
  {
   "cell_type": "markdown",
   "id": "ac2f9898",
   "metadata": {},
   "source": [
    "GBM Scatterplot"
   ]
  },
  {
   "cell_type": "code",
   "execution_count": 292,
   "id": "34d641aa",
   "metadata": {},
   "outputs": [
    {
     "data": {
      "image/png": "[encoded data removed]",
      "text/plain": [
       "<Figure size 360x360 with 1 Axes>"
      ]
     },
     "metadata": {
      "needs_background": "light"
     },
     "output_type": "display_data"
    }
   ],
   "source": [
    "x_plot = np.exp(scaler_y.inverse_transform(y_test))\n",
    "\n",
    "y_pred_test = (reg.predict(X_test))\n",
    "y_plot = np.exp(scaler_y.inverse_transform([y_pred_test]))\n",
    "\n",
    "plt.figure(figsize=(5, 5))\n",
    "plt.scatter(x_plot, y_plot)\n",
    "plt.xlabel('preços observados')\n",
    "plt.ylabel('valores preditos')\n",
    "x = [x for x in range(10000000)]\n",
    "plt.plot(x, x, '--c')\n",
    "plt.title('GBM REGRESSOR')\n",
    "plt.show()\n",
    "x = 0"
   ]
  },
  {
   "cell_type": "markdown",
   "id": "85def12e",
   "metadata": {},
   "source": [
    "#### TUNNING GBM"
   ]
  },
  {
   "cell_type": "code",
   "execution_count": 239,
   "id": "a83b30dc",
   "metadata": {},
   "outputs": [],
   "source": [
    "n_estimators = [1000, 2000]\n",
    "learning_rate = [0.1, 0.01, 0.001]\n",
    "subsample = [0.7, 1]\n",
    "max_depth = [3, 4, 5]\n",
    "min_samples_split = [2, 5, 10]\n",
    "min_samples_leaf = [1, 5, 10] #default = 1\n",
    "\n",
    "random_grid = {'n_estimators': n_estimators,\n",
    "               'learning_rate': learning_rate,\n",
    "               'subsample': subsample,\n",
    "              'max_depth': max_depth,\n",
    "              'min_samples_split': min_samples_split,\n",
    "              'min_samples_leaf': min_samples_leaf\n",
    "              }\n"
   ]
  },
  {
   "cell_type": "code",
   "execution_count": 240,
   "id": "0c9029df",
   "metadata": {},
   "outputs": [
    {
     "name": "stdout",
     "output_type": "stream",
     "text": [
      "Fitting 5 folds for each of 50 candidates, totalling 250 fits\n"
     ]
    },
    {
     "data": {
      "text/plain": [
       "{'subsample': 0.7,\n",
       " 'n_estimators': 2000,\n",
       " 'min_samples_split': 2,\n",
       " 'min_samples_leaf': 1,\n",
       " 'max_depth': 4,\n",
       " 'learning_rate': 0.01}"
      ]
     },
     "execution_count": 240,
     "metadata": {},
     "output_type": "execute_result"
    }
   ],
   "source": [
    "seed = random_state=np.random.randint(1000)\n",
    "\n",
    "gbr = GradientBoostingRegressor(loss = \"squared_error\")\n",
    "gbr_search = RandomizedSearchCV(estimator = gbr, param_distributions = random_grid, \n",
    "                                n_iter = 50, cv = 5, verbose=3, random_state=seed, \n",
    "                                n_jobs = -1, scoring='r2')\n",
    "\n",
    "gbr_search.fit(np.array(X), np.array(y).ravel())\n",
    "gbr_search.best_params_"
   ]
  },
  {
   "cell_type": "code",
   "execution_count": null,
   "id": "c05c81eb",
   "metadata": {},
   "outputs": [],
   "source": [
    "gbr_search.best_params_"
   ]
  },
  {
   "cell_type": "code",
   "execution_count": null,
   "id": "f65e9d55",
   "metadata": {},
   "outputs": [],
   "source": [
    "reg = GradientBoostingRegressor(**gbr_search.best_params_).fit(X_train, y_train['preco'])\n",
    "reg.score(X_test, y_test['preco'])\n"
   ]
  },
  {
   "cell_type": "code",
   "execution_count": null,
   "id": "2dc0da0c",
   "metadata": {},
   "outputs": [],
   "source": [
    "y_pred_test = gbr_search.predict(X_test)\n",
    "\n",
    "print(gbr_search.score(X_train, y_train))\n",
    "print(gbr_search.score(X_test, y_test))"
   ]
  },
  {
   "cell_type": "code",
   "execution_count": null,
   "id": "ff85644c",
   "metadata": {},
   "outputs": [],
   "source": [
    "x_plot = np.exp(scaler_y.inverse_transform(y_test))\n",
    "y_pred_test = gbr_search.predict(X_test)\n",
    "y_plot = np.exp(scaler_y.inverse_transform([y_pred_test]))\n",
    "\n",
    "plt.figure(figsize=(8, 8))\n",
    "plt.scatter(x_plot, y_plot)\n",
    "plt.xlabel('valores observados')\n",
    "plt.ylabel('valores ajustados')\n",
    "\n",
    "plt.show()"
   ]
  },
  {
   "cell_type": "code",
   "execution_count": null,
   "id": "b16e8a23",
   "metadata": {},
   "outputs": [],
   "source": [
    "from sklearn.datasets import load_iris\n",
    "iris = load_iris()\n",
    "\n",
    "np.array(y).ravel()"
   ]
  }
 ],
 "metadata": {
  "kernelspec": {
   "display_name": "venv_puc_minas",
   "language": "python",
   "name": "venv_puc_minas"
  },
  "language_info": {
   "codemirror_mode": {
    "name": "ipython",
    "version": 3
   },
   "file_extension": ".py",
   "mimetype": "text/x-python",
   "name": "python",
   "nbconvert_exporter": "python",
   "pygments_lexer": "ipython3",
   "version": "3.9.7"
  }
 },
 "nbformat": 4,
 "nbformat_minor": 5
}
