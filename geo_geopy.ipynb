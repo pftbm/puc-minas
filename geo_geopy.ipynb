{
 "cells": [
  {
   "cell_type": "code",
   "execution_count": null,
   "id": "e9f61bb9",
   "metadata": {},
   "outputs": [],
   "source": [
    "from geopy.geocoders import Nominatim\n",
    "from geopy.distance import geodesic\n",
    "import pandas as pd\n",
    "from geopy.geocoders import Bing"
   ]
  },
  {
   "cell_type": "code",
   "execution_count": null,
   "id": "74069c5a",
   "metadata": {},
   "outputs": [],
   "source": [
    "data_aptos = pd.read_excel('data_aptos_final.xlsx')"
   ]
  },
  {
   "cell_type": "markdown",
   "id": "d5a39ef3",
   "metadata": {},
   "source": [
    "### Nominatim (OSM)"
   ]
  },
  {
   "cell_type": "code",
   "execution_count": null,
   "id": "552ce7f1",
   "metadata": {},
   "outputs": [],
   "source": [
    "locator = Nominatim(user_agent = \"puc_tcc\")\n",
    "lat_list = []\n",
    "lon_list = []\n",
    "cont = 0\n",
    "for rua_num in data_aptos['Rua_Numero_Busca']:\n",
    "    address = str(rua_num + \", boa viagem, recife\").lower()\n",
    "    location = locator.geocode(address)\n",
    "    if location != None:\n",
    "        lat_list.append(location.latitude)\n",
    "        lon_list.append(location.longitude)\n",
    "        print(location.raw['importance'])\n",
    "    else:\n",
    "        lat_list.append('NONE')\n",
    "        lon_list.append('NONE')\n",
    "        print('NONE!')\n",
    "    \n",
    "    cont = cont + 1\n",
    "    print(cont)\n",
    "\n",
    "            \n",
    "data_aptos['lat'] = lat_list\n",
    "data_aptos['lon'] = lon_list"
   ]
  },
  {
   "cell_type": "markdown",
   "id": "dc168507",
   "metadata": {},
   "source": [
    "### BING"
   ]
  },
  {
   "cell_type": "code",
   "execution_count": null,
   "id": "bb1a1fcf",
   "metadata": {},
   "outputs": [],
   "source": [
    "locator = Bing(api_key='Ar5fAeTZdy50Yq9qoi0UnOvmMeN0VUOc6dJ_ldOYcJ0PW8dZ-TIrdXJ6q9NJmHvM')\n",
    "lat_list = []\n",
    "lon_list = []\n",
    "cont = 0\n",
    "for rua_num in data_aptos['Rua_Numero_Busca']:\n",
    "    address = str(rua_num + \", boa viagem, recife\").lower()\n",
    "    location = locator.geocode(address)\n",
    "    if location != None:\n",
    "        lat_list.append(location.latitude)\n",
    "        lon_list.append(location.longitude)\n",
    "    else:\n",
    "        lat_list.append('NONE')\n",
    "        lon_list.append('NONE')\n",
    "        print('none!')\n",
    "    \n",
    "    cont = cont + 1\n",
    "    print(cont)\n",
    "            \n",
    "data_aptos['lat_bing'] = lat_list\n",
    "data_aptos['lon_bing'] = lon_list"
   ]
  },
  {
   "cell_type": "markdown",
   "id": "2966c122",
   "metadata": {},
   "source": [
    "### DISTÂNCIAS À ORLA"
   ]
  },
  {
   "cell_type": "code",
   "execution_count": null,
   "id": "7da5e71a",
   "metadata": {},
   "outputs": [],
   "source": [
    "def min_distance_orla(orla_df, ponto):\n",
    "    distances = []\n",
    "    for index, row in orla_df.iterrows():\n",
    "        lat_orla = float(row['lat'])\n",
    "        lon_orla = float(row['lon'])        \n",
    "        distances.append(geodesic(ponto, (lat_orla, lon_orla)).m)\n",
    "    \n",
    "    return min(distances)\n",
    "    \n",
    "def min_distance_orla_bing(orla_df, ponto):\n",
    "    distances = []\n",
    "    for index, row in orla_df.iterrows():\n",
    "        lat_orla = float(row['lat_bing'])\n",
    "        lon_orla = float(row['lon_bing'])        \n",
    "        distances.append(geodesic(ponto, (lat_orla, lon_orla)).m)\n",
    "    \n",
    "    return min(distances)\n",
    "    "
   ]
  },
  {
   "cell_type": "code",
   "execution_count": null,
   "id": "f3eb7be7",
   "metadata": {},
   "outputs": [],
   "source": [
    "orla_df = pd.read_excel('esig_enderecos_bv_pina.xlsx')\n",
    "distances_list = []\n",
    "distances_list_bing = []\n",
    "\n",
    "for index, row in data_aptos.iterrows():\n",
    "    # Nominatim --------------\n",
    "    if row['lat'] != 'NONE':\n",
    "        ponto = (float(row['lat']), float(row['lon']))\n",
    "        distance = min_distance_orla(orla_df, ponto)\n",
    "    else:\n",
    "        distance = -99999\n",
    "    distances_list.append(distance)\n",
    "    \n",
    "    # Bing --------------\n",
    "    if row['lat_bing'] != 'NONE':\n",
    "        ponto = (float(row['lat_bing']), float(row['lon_bing']))\n",
    "        distance = min_distance_orla_bing(orla_df, ponto)\n",
    "    else:\n",
    "        distance = -99999\n",
    "    distances_list_bing.append(distance)\n",
    "    \n",
    "    print(index)\n",
    "    \n",
    "    \n",
    "data_aptos['distancia_orla'] = distances_list\n",
    "data_aptos['distancia_orla_bing'] = distances_list_bing"
   ]
  },
  {
   "cell_type": "code",
   "execution_count": null,
   "id": "25f1a94f",
   "metadata": {},
   "outputs": [],
   "source": [
    "with pd.ExcelWriter(\"data_aptos_final.xlsx\") as writer:\n",
    "    data_aptos.to_excel(writer)  "
   ]
  },
  {
   "cell_type": "code",
   "execution_count": null,
   "id": "72f0d17e",
   "metadata": {},
   "outputs": [],
   "source": [
    "data_aptos.loc[data_aptos['distancia_orla_bing'] < 100 , ['Rua_Numero_Busca', 'distancia_orla']][100:150]"
   ]
  },
  {
   "cell_type": "code",
   "execution_count": null,
   "id": "b93a8b39",
   "metadata": {},
   "outputs": [],
   "source": [
    "len(data_aptos[data_aptos['lat'] == 'NONE'])"
   ]
  },
  {
   "cell_type": "markdown",
   "id": "db93eb2a",
   "metadata": {},
   "source": [
    "### Coordenadas da orla - Av. Boa Viagem - (EXECUTADO) - Nominatim"
   ]
  },
  {
   "cell_type": "code",
   "execution_count": null,
   "id": "943d015e",
   "metadata": {},
   "outputs": [],
   "source": [
    "orla_df = pd.read_excel('esig_enderecos_bv_pina.xlsx')\n",
    "\n",
    "locator = Nominatim(user_agent = \"puc_tcc\")\n",
    "\n",
    "lat_list = []\n",
    "lon_list = []\n",
    "cont = 0\n",
    "for rua_num in orla_df['address']:\n",
    "    address = rua_num.lower()\n",
    "    location = locator.geocode(address)\n",
    "    if location != None:\n",
    "        lat_list.append(location.latitude)\n",
    "        lon_list.append(location.longitude)\n",
    "    else:\n",
    "        lat_list.append('NONE')\n",
    "        lon_list.append('NONE')\n",
    "    \n",
    "    cont = cont + 1\n",
    "    print(cont)\n",
    "            \n",
    "orla_df['lat'] = lat_list\n",
    "orla_df['lon'] = lon_list\n"
   ]
  },
  {
   "cell_type": "markdown",
   "id": "53b927c5",
   "metadata": {},
   "source": [
    "### Coordenadas da orla - Av. Boa Viagem - (EXECUTADO) - Bing"
   ]
  },
  {
   "cell_type": "code",
   "execution_count": null,
   "id": "a43f5462",
   "metadata": {},
   "outputs": [],
   "source": [
    "orla_df = pd.read_excel('esig_enderecos_bv_pina.xlsx')\n",
    "\n",
    "locator = Bing(api_key='Ar5fAeTZdy50Yq9qoi0UnOvmMeN0VUOc6dJ_ldOYcJ0PW8dZ-TIrdXJ6q9NJmHvM')\n",
    "\n",
    "lat_list = []\n",
    "lon_list = []\n",
    "cont = 0\n",
    "for rua_num in orla_df['address']:\n",
    "    address = rua_num.lower()\n",
    "    location = locator.geocode(address)\n",
    "    if location != None:\n",
    "        lat_list.append(location.latitude)\n",
    "        lon_list.append(location.longitude)\n",
    "    else:\n",
    "        lat_list.append('NONE')\n",
    "        lon_list.append('NONE')\n",
    "    \n",
    "    cont = cont + 1\n",
    "    print(cont)\n",
    "            \n",
    "orla_df['lat_bing'] = lat_list\n",
    "orla_df['lon_bing'] = lon_list"
   ]
  },
  {
   "cell_type": "markdown",
   "id": "e68403d4",
   "metadata": {},
   "source": [
    "Correções de coordenadas com ruas não encontradas no BING ou OSM"
   ]
  },
  {
   "cell_type": "code",
   "execution_count": null,
   "id": "835c3acd",
   "metadata": {},
   "outputs": [],
   "source": [
    "orla_df = pd.read_excel('esig_enderecos_bv_pina.xlsx')\n",
    "\n",
    "data_aptos.loc[data_aptos['Rua_Numero_Busca'] == 'RUA JOAO ARRUDA MARINHO 54', ['lat', 'lon']] = ['-8.1065486603965', '-34.892144521043505']\n",
    "data_aptos.loc[data_aptos['Rua_Numero_Busca'] == 'RUA JOAO ARRUDA MARINHO 54', ['lat_bing', 'lon_bing']] = ['-8.1065486603965', '-34.892144521043505']\n",
    "ponto = (-8.1065486603965, -34.892144521043505)\n",
    "data_aptos.loc[data_aptos['Rua_Numero_Busca'] == 'RUA JOAO ARRUDA MARINHO 54', ['distancia_orla', 'distancia_orla_bing']] = min_distance_orla(orla_df, ponto)\n",
    "\n",
    "data_aptos.loc[data_aptos['Rua_Numero_Busca'] == 'RUA AMARO ALBINO PIMENTEL 145', ['lat_bing', 'lon_bing']] = ['-8.108886850539902', '-34.897714682488655']\n",
    "data_aptos.loc[data_aptos['Rua_Numero_Busca'] == 'RUA AMARO ALBINO PIMENTEL 145', ['distancia_orla_bing']] = min_distance_orla_bing(orla_df, (-8.108886850539902, -34.897714682488655))\n",
    "\n",
    "data_aptos.loc[data_aptos['Rua_Numero_Busca'] == 'RUA PROFESSOR AURELIO DE CASTRO CAVALCANTI 79', ['lat_bing', 'lon_bing']] = ['-8.141487280000442', '-34.9126468040534']\n",
    "data_aptos.loc[data_aptos['Rua_Numero_Busca'] == 'RUA PROFESSOR AURELIO DE CASTRO CAVALCANTI 79', ['distancia_orla_bing']] = min_distance_orla_bing(orla_df, (-8.141487280000442, -34.9126468040534))"
   ]
  },
  {
   "cell_type": "code",
   "execution_count": null,
   "id": "7ae229cf",
   "metadata": {},
   "outputs": [],
   "source": [
    "data_aptos.loc[data_aptos['Rua_Numero_Busca'] == 'RUA AMARO ALBINO PIMENTEL 145']"
   ]
  },
  {
   "cell_type": "code",
   "execution_count": null,
   "id": "96171ab0",
   "metadata": {},
   "outputs": [],
   "source": [
    "with pd.ExcelWriter(\"data_aptos_final.xlsx\") as writer:\n",
    "    data_aptos.to_excel(writer)  "
   ]
  },
  {
   "cell_type": "markdown",
   "id": "7fcf8f5a",
   "metadata": {},
   "source": [
    "### TESTES ISOLADOS - RAW DATA"
   ]
  },
  {
   "cell_type": "code",
   "execution_count": 16,
   "id": "0f64c817",
   "metadata": {},
   "outputs": [
    {
     "name": "stdout",
     "output_type": "stream",
     "text": [
      "lat: -8.1288454\n",
      "lon: -34.9042203\n"
     ]
    }
   ],
   "source": [
    "from geopy.geocoders import Nominatim\n",
    "\n",
    "endereco = 'Rua Marques de Valenca, 150, BOA VIAGEM, RECIFE'\n",
    "\n",
    "locator = Nominatim(user_agent = \"puc_tcc\")\n",
    "location = locator.geocode(endereco)\n",
    "\n",
    "print('lat:', location.latitude)\n",
    "print('lon:', location.longitude)\n"
   ]
  },
  {
   "cell_type": "code",
   "execution_count": null,
   "id": "a8588abc",
   "metadata": {},
   "outputs": [],
   "source": [
    "endereco = 'RUA ANTONIO FALCAO NO 979, BOA VIAGEM, RECIFE'.lower()\n",
    "\n",
    "locator = Nominatim(user_agent = \"puc_tcc\")\n",
    "location = locator.geocode(endereco)\n",
    "print(location.raw['class'])\n",
    "print(location.raw['importance'])\n",
    "display(location.raw)\n",
    "\n",
    "locator = Bing(api_key='Ar5fAeTZdy50Yq9qoi0UnOvmMeN0VUOc6dJ_ldOYcJ0PW8dZ-TIrdXJ6q9NJmHvM')\n",
    "location = locator.geocode(endereco)\n",
    "display(location.raw)\n",
    "print(location.raw['confidence'])"
   ]
  }
 ],
 "metadata": {
  "kernelspec": {
   "display_name": "venv_puc_minas",
   "language": "python",
   "name": "venv_puc_minas"
  },
  "language_info": {
   "codemirror_mode": {
    "name": "ipython",
    "version": 3
   },
   "file_extension": ".py",
   "mimetype": "text/x-python",
   "name": "python",
   "nbconvert_exporter": "python",
   "pygments_lexer": "ipython3",
   "version": "3.9.7"
  }
 },
 "nbformat": 4,
 "nbformat_minor": 5
}
